{
 "cells": [
  {
   "cell_type": "code",
   "execution_count": 1,
   "id": "cf6f7080",
   "metadata": {
    "ExecuteTime": {
     "end_time": "2022-06-29T19:37:13.111379Z",
     "start_time": "2022-06-29T19:37:12.068641Z"
    }
   },
   "outputs": [],
   "source": [
    "import pandas as pd\n",
    "from sklearn.metrics import f1_score, accuracy_score, roc_auc_score, classification_report\n",
    "from sklearn.model_selection import train_test_split\n",
    "from random import sample\n",
    "import os\n",
    "\n",
    "import torch #pytorch\n",
    "import torch.nn as nn\n",
    "from torch.autograd import Variable "
   ]
  },
  {
   "cell_type": "markdown",
   "id": "189d0680",
   "metadata": {},
   "source": [
    "сделать матрицу"
   ]
  },
  {
   "cell_type": "code",
   "execution_count": 2,
   "id": "e7aecc13",
   "metadata": {
    "ExecuteTime": {
     "end_time": "2022-06-29T19:37:13.126992Z",
     "start_time": "2022-06-29T19:37:13.113296Z"
    }
   },
   "outputs": [
    {
     "data": {
      "text/plain": [
       "['Dewas_NDVI.csv',\n",
       " 'Dewas_points.csv',\n",
       " 'Kaithal_NDVI.csv',\n",
       " 'Kaithal_points.csv',\n",
       " 'Karnal_NDVI.csv',\n",
       " 'Karnal_points.csv']"
      ]
     },
     "execution_count": 2,
     "metadata": {},
     "output_type": "execute_result"
    }
   ],
   "source": [
    "os.listdir('data')    "
   ]
  },
  {
   "cell_type": "code",
   "execution_count": 3,
   "id": "d86b8c49",
   "metadata": {
    "ExecuteTime": {
     "end_time": "2022-06-29T19:37:13.142947Z",
     "start_time": "2022-06-29T19:37:13.128947Z"
    }
   },
   "outputs": [],
   "source": [
    "data_points = pd.read_csv('data/Dewas_points.csv')"
   ]
  },
  {
   "cell_type": "code",
   "execution_count": 4,
   "id": "afeb444e",
   "metadata": {
    "ExecuteTime": {
     "end_time": "2022-06-29T19:37:13.174253Z",
     "start_time": "2022-06-29T19:37:13.144906Z"
    }
   },
   "outputs": [],
   "source": [
    "data_ndvi = pd.read_csv('data/Dewas_NDVI.csv')"
   ]
  },
  {
   "cell_type": "code",
   "execution_count": 5,
   "id": "a2c474ab",
   "metadata": {
    "ExecuteTime": {
     "end_time": "2022-06-29T19:37:13.205747Z",
     "start_time": "2022-06-29T19:37:13.175750Z"
    }
   },
   "outputs": [],
   "source": [
    "data = data_points.merge(data_ndvi, left_on='gfid', right_on='gfid')"
   ]
  },
  {
   "cell_type": "code",
   "execution_count": 6,
   "id": "86428c4d",
   "metadata": {
    "ExecuteTime": {
     "end_time": "2022-06-29T19:37:25.041826Z",
     "start_time": "2022-06-29T19:37:13.206968Z"
    }
   },
   "outputs": [],
   "source": [
    "data['month'] = data['date'].apply(pd.to_datetime).dt.month\n",
    "data['day'] = data['date'].apply(pd.to_datetime).dt.day"
   ]
  },
  {
   "cell_type": "code",
   "execution_count": 7,
   "id": "e758f1cb",
   "metadata": {
    "ExecuteTime": {
     "end_time": "2022-06-29T19:37:25.072873Z",
     "start_time": "2022-06-29T19:37:25.044272Z"
    }
   },
   "outputs": [
    {
     "data": {
      "text/html": [
       "<div>\n",
       "<style scoped>\n",
       "    .dataframe tbody tr th:only-of-type {\n",
       "        vertical-align: middle;\n",
       "    }\n",
       "\n",
       "    .dataframe tbody tr th {\n",
       "        vertical-align: top;\n",
       "    }\n",
       "\n",
       "    .dataframe thead th {\n",
       "        text-align: right;\n",
       "    }\n",
       "</style>\n",
       "<table border=\"1\" class=\"dataframe\">\n",
       "  <thead>\n",
       "    <tr style=\"text-align: right;\">\n",
       "      <th></th>\n",
       "      <th>gfid</th>\n",
       "      <th>datenum</th>\n",
       "      <th>date</th>\n",
       "      <th>ndvi</th>\n",
       "    </tr>\n",
       "  </thead>\n",
       "  <tbody>\n",
       "    <tr>\n",
       "      <th>0</th>\n",
       "      <td>72001</td>\n",
       "      <td>0</td>\n",
       "      <td>2020-10-20</td>\n",
       "      <td>0.186</td>\n",
       "    </tr>\n",
       "    <tr>\n",
       "      <th>1</th>\n",
       "      <td>72001</td>\n",
       "      <td>1</td>\n",
       "      <td>2020-10-21</td>\n",
       "      <td>0.184</td>\n",
       "    </tr>\n",
       "    <tr>\n",
       "      <th>2</th>\n",
       "      <td>72001</td>\n",
       "      <td>2</td>\n",
       "      <td>2020-10-22</td>\n",
       "      <td>0.183</td>\n",
       "    </tr>\n",
       "    <tr>\n",
       "      <th>3</th>\n",
       "      <td>72001</td>\n",
       "      <td>3</td>\n",
       "      <td>2020-10-23</td>\n",
       "      <td>0.182</td>\n",
       "    </tr>\n",
       "    <tr>\n",
       "      <th>4</th>\n",
       "      <td>72001</td>\n",
       "      <td>4</td>\n",
       "      <td>2020-10-24</td>\n",
       "      <td>0.181</td>\n",
       "    </tr>\n",
       "  </tbody>\n",
       "</table>\n",
       "</div>"
      ],
      "text/plain": [
       "    gfid  datenum        date   ndvi\n",
       "0  72001        0  2020-10-20  0.186\n",
       "1  72001        1  2020-10-21  0.184\n",
       "2  72001        2  2020-10-22  0.183\n",
       "3  72001        3  2020-10-23  0.182\n",
       "4  72001        4  2020-10-24  0.181"
      ]
     },
     "execution_count": 7,
     "metadata": {},
     "output_type": "execute_result"
    }
   ],
   "source": [
    "data_ndvi.head()"
   ]
  },
  {
   "cell_type": "code",
   "execution_count": 8,
   "id": "8e4f02bf",
   "metadata": {
    "ExecuteTime": {
     "end_time": "2022-06-29T19:37:25.292038Z",
     "start_time": "2022-06-29T19:37:25.075892Z"
    }
   },
   "outputs": [],
   "source": [
    "i = 1\n",
    "ids_not_full = []\n",
    "for id_ in data_points['gfid'].values:\n",
    "    shp = data_ndvi[data_ndvi['gfid'] == id_].shape[0]\n",
    "    if shp != 203:\n",
    "        #print(id_, ' ', shp)\n",
    "        i += 1\n",
    "        ids_not_full += [id_]\n",
    "#print(i)"
   ]
  },
  {
   "cell_type": "code",
   "execution_count": 9,
   "id": "b36f497f",
   "metadata": {
    "ExecuteTime": {
     "end_time": "2022-06-29T19:37:25.323235Z",
     "start_time": "2022-06-29T19:37:25.294003Z"
    }
   },
   "outputs": [],
   "source": [
    "data2 = data[~data['gfid'].isin(ids_not_full)]"
   ]
  },
  {
   "cell_type": "code",
   "execution_count": 10,
   "id": "392d4dca",
   "metadata": {
    "ExecuteTime": {
     "end_time": "2022-06-29T19:37:25.354554Z",
     "start_time": "2022-06-29T19:37:25.325236Z"
    }
   },
   "outputs": [
    {
     "data": {
      "text/plain": [
       "0      0.186\n",
       "1      0.184\n",
       "2      0.183\n",
       "3      0.182\n",
       "4      0.181\n",
       "       ...  \n",
       "198    0.123\n",
       "199    0.121\n",
       "200    0.120\n",
       "201    0.119\n",
       "202    0.118\n",
       "Name: ndvi, Length: 203, dtype: float64"
      ]
     },
     "execution_count": 10,
     "metadata": {},
     "output_type": "execute_result"
    }
   ],
   "source": [
    "data2[data2['gfid']==72001]['ndvi']"
   ]
  },
  {
   "cell_type": "code",
   "execution_count": 11,
   "id": "cc81dbb0",
   "metadata": {
    "ExecuteTime": {
     "end_time": "2022-06-29T19:37:25.370235Z",
     "start_time": "2022-06-29T19:37:25.357522Z"
    }
   },
   "outputs": [],
   "source": [
    "gfids = data2['gfid'].unique()"
   ]
  },
  {
   "cell_type": "code",
   "execution_count": 12,
   "id": "f32b0991",
   "metadata": {
    "ExecuteTime": {
     "end_time": "2022-06-29T19:37:25.385813Z",
     "start_time": "2022-06-29T19:37:25.374196Z"
    }
   },
   "outputs": [],
   "source": [
    "from numpy.random import choice"
   ]
  },
  {
   "cell_type": "code",
   "execution_count": 13,
   "id": "d47a4a50",
   "metadata": {
    "ExecuteTime": {
     "end_time": "2022-06-29T19:37:25.401511Z",
     "start_time": "2022-06-29T19:37:25.393098Z"
    }
   },
   "outputs": [],
   "source": [
    "import numpy as np"
   ]
  },
  {
   "cell_type": "code",
   "execution_count": 14,
   "id": "870f7e06",
   "metadata": {
    "ExecuteTime": {
     "end_time": "2022-06-29T19:37:25.416896Z",
     "start_time": "2022-06-29T19:37:25.404457Z"
    }
   },
   "outputs": [],
   "source": [
    "np.random.seed(42)"
   ]
  },
  {
   "cell_type": "code",
   "execution_count": 15,
   "id": "b2dc8785",
   "metadata": {
    "ExecuteTime": {
     "end_time": "2022-06-29T19:37:25.433109Z",
     "start_time": "2022-06-29T19:37:25.419570Z"
    }
   },
   "outputs": [],
   "source": [
    "np.random.shuffle(gfids)"
   ]
  },
  {
   "cell_type": "code",
   "execution_count": 16,
   "id": "32cb54de",
   "metadata": {
    "ExecuteTime": {
     "end_time": "2022-06-29T19:37:25.448719Z",
     "start_time": "2022-06-29T19:37:25.437123Z"
    }
   },
   "outputs": [],
   "source": [
    "train_ids = gfids[:300]\n",
    "test_ids = gfids[300:]"
   ]
  },
  {
   "cell_type": "code",
   "execution_count": 17,
   "id": "b10092da",
   "metadata": {
    "ExecuteTime": {
     "end_time": "2022-06-29T19:37:25.463958Z",
     "start_time": "2022-06-29T19:37:25.451034Z"
    }
   },
   "outputs": [],
   "source": [
    "indices = {}\n",
    "indices['train'] = list([int(x) for x in train_ids])\n",
    "indices['test'] = list([int(x) for x in test_ids])"
   ]
  },
  {
   "cell_type": "code",
   "execution_count": 18,
   "id": "7c86bb37",
   "metadata": {
    "ExecuteTime": {
     "end_time": "2022-06-29T19:37:25.479204Z",
     "start_time": "2022-06-29T19:37:25.466859Z"
    }
   },
   "outputs": [],
   "source": [
    "import json\n",
    "with open('Dewas.json', 'w') as f:\n",
    "    json.dump(indices, f)"
   ]
  },
  {
   "cell_type": "code",
   "execution_count": 19,
   "id": "8b0240ea",
   "metadata": {
    "ExecuteTime": {
     "end_time": "2022-06-29T19:37:25.500591Z",
     "start_time": "2022-06-29T19:37:25.482415Z"
    }
   },
   "outputs": [
    {
     "data": {
      "text/html": [
       "<div>\n",
       "<style scoped>\n",
       "    .dataframe tbody tr th:only-of-type {\n",
       "        vertical-align: middle;\n",
       "    }\n",
       "\n",
       "    .dataframe tbody tr th {\n",
       "        vertical-align: top;\n",
       "    }\n",
       "\n",
       "    .dataframe thead th {\n",
       "        text-align: right;\n",
       "    }\n",
       "</style>\n",
       "<table border=\"1\" class=\"dataframe\">\n",
       "  <thead>\n",
       "    <tr style=\"text-align: right;\">\n",
       "      <th></th>\n",
       "      <th>gfid</th>\n",
       "      <th>state</th>\n",
       "      <th>district</th>\n",
       "      <th>village</th>\n",
       "      <th>lon</th>\n",
       "      <th>lat</th>\n",
       "      <th>wheat</th>\n",
       "      <th>datenum</th>\n",
       "      <th>date</th>\n",
       "      <th>ndvi</th>\n",
       "      <th>month</th>\n",
       "      <th>day</th>\n",
       "    </tr>\n",
       "  </thead>\n",
       "  <tbody>\n",
       "    <tr>\n",
       "      <th>0</th>\n",
       "      <td>72001</td>\n",
       "      <td>Madhya Pradesh</td>\n",
       "      <td>Dewas</td>\n",
       "      <td>VijayaganjMandi</td>\n",
       "      <td>75.96199</td>\n",
       "      <td>23.218479</td>\n",
       "      <td>0</td>\n",
       "      <td>0</td>\n",
       "      <td>2020-10-20</td>\n",
       "      <td>0.186</td>\n",
       "      <td>10</td>\n",
       "      <td>20</td>\n",
       "    </tr>\n",
       "    <tr>\n",
       "      <th>1</th>\n",
       "      <td>72001</td>\n",
       "      <td>Madhya Pradesh</td>\n",
       "      <td>Dewas</td>\n",
       "      <td>VijayaganjMandi</td>\n",
       "      <td>75.96199</td>\n",
       "      <td>23.218479</td>\n",
       "      <td>0</td>\n",
       "      <td>1</td>\n",
       "      <td>2020-10-21</td>\n",
       "      <td>0.184</td>\n",
       "      <td>10</td>\n",
       "      <td>21</td>\n",
       "    </tr>\n",
       "    <tr>\n",
       "      <th>2</th>\n",
       "      <td>72001</td>\n",
       "      <td>Madhya Pradesh</td>\n",
       "      <td>Dewas</td>\n",
       "      <td>VijayaganjMandi</td>\n",
       "      <td>75.96199</td>\n",
       "      <td>23.218479</td>\n",
       "      <td>0</td>\n",
       "      <td>2</td>\n",
       "      <td>2020-10-22</td>\n",
       "      <td>0.183</td>\n",
       "      <td>10</td>\n",
       "      <td>22</td>\n",
       "    </tr>\n",
       "    <tr>\n",
       "      <th>3</th>\n",
       "      <td>72001</td>\n",
       "      <td>Madhya Pradesh</td>\n",
       "      <td>Dewas</td>\n",
       "      <td>VijayaganjMandi</td>\n",
       "      <td>75.96199</td>\n",
       "      <td>23.218479</td>\n",
       "      <td>0</td>\n",
       "      <td>3</td>\n",
       "      <td>2020-10-23</td>\n",
       "      <td>0.182</td>\n",
       "      <td>10</td>\n",
       "      <td>23</td>\n",
       "    </tr>\n",
       "    <tr>\n",
       "      <th>4</th>\n",
       "      <td>72001</td>\n",
       "      <td>Madhya Pradesh</td>\n",
       "      <td>Dewas</td>\n",
       "      <td>VijayaganjMandi</td>\n",
       "      <td>75.96199</td>\n",
       "      <td>23.218479</td>\n",
       "      <td>0</td>\n",
       "      <td>4</td>\n",
       "      <td>2020-10-24</td>\n",
       "      <td>0.181</td>\n",
       "      <td>10</td>\n",
       "      <td>24</td>\n",
       "    </tr>\n",
       "  </tbody>\n",
       "</table>\n",
       "</div>"
      ],
      "text/plain": [
       "    gfid            state district          village       lon        lat  \\\n",
       "0  72001  Madhya Pradesh    Dewas   VijayaganjMandi  75.96199  23.218479   \n",
       "1  72001  Madhya Pradesh    Dewas   VijayaganjMandi  75.96199  23.218479   \n",
       "2  72001  Madhya Pradesh    Dewas   VijayaganjMandi  75.96199  23.218479   \n",
       "3  72001  Madhya Pradesh    Dewas   VijayaganjMandi  75.96199  23.218479   \n",
       "4  72001  Madhya Pradesh    Dewas   VijayaganjMandi  75.96199  23.218479   \n",
       "\n",
       "   wheat  datenum        date   ndvi  month  day  \n",
       "0      0        0  2020-10-20  0.186     10   20  \n",
       "1      0        1  2020-10-21  0.184     10   21  \n",
       "2      0        2  2020-10-22  0.183     10   22  \n",
       "3      0        3  2020-10-23  0.182     10   23  \n",
       "4      0        4  2020-10-24  0.181     10   24  "
      ]
     },
     "execution_count": 19,
     "metadata": {},
     "output_type": "execute_result"
    }
   ],
   "source": [
    "data2.head()"
   ]
  },
  {
   "cell_type": "code",
   "execution_count": 20,
   "id": "fc453285",
   "metadata": {
    "ExecuteTime": {
     "end_time": "2022-06-29T19:37:25.547124Z",
     "start_time": "2022-06-29T19:37:25.503243Z"
    }
   },
   "outputs": [],
   "source": [
    "data2 = data2.dropna()"
   ]
  },
  {
   "cell_type": "code",
   "execution_count": 21,
   "id": "695dc8d6",
   "metadata": {
    "ExecuteTime": {
     "end_time": "2022-06-29T19:37:25.562510Z",
     "start_time": "2022-06-29T19:37:25.549192Z"
    }
   },
   "outputs": [
    {
     "data": {
      "text/plain": [
       "(76125, 12)"
      ]
     },
     "execution_count": 21,
     "metadata": {},
     "output_type": "execute_result"
    }
   ],
   "source": [
    "data2.shape"
   ]
  },
  {
   "cell_type": "code",
   "execution_count": 22,
   "id": "00b3c94f",
   "metadata": {
    "ExecuteTime": {
     "end_time": "2022-06-29T19:37:25.577722Z",
     "start_time": "2022-06-29T19:37:25.566456Z"
    }
   },
   "outputs": [
    {
     "data": {
      "text/plain": [
       "(76125, 12)"
      ]
     },
     "execution_count": 22,
     "metadata": {},
     "output_type": "execute_result"
    }
   ],
   "source": [
    "data2.shape"
   ]
  },
  {
   "cell_type": "code",
   "execution_count": 23,
   "id": "33f7bf95",
   "metadata": {
    "ExecuteTime": {
     "end_time": "2022-06-29T19:37:29.258400Z",
     "start_time": "2022-06-29T19:37:25.580949Z"
    }
   },
   "outputs": [],
   "source": [
    "datasets_train = []\n",
    "datasets_test = []\n",
    "y_train = []\n",
    "y_test = []\n",
    "for _ in gfids:\n",
    "    rolling_data = []\n",
    "    rolling_data.append(data2[data2['gfid']==_]['ndvi'].iloc[4:])\n",
    "    for i in range(2, 11):\n",
    "        rolling_data.append(data2[data2['gfid']==_]['ndvi'].rolling(i).mean())\n",
    "    data_1_rolling = pd.concat(rolling_data, axis=1)\n",
    "    data_1_rolling = data_1_rolling.dropna()\n",
    "    data_1_rolling.columns = ['ndvi'] + [f'ndvi_{i}' for i in range(2,11)]\n",
    "    if _ in train_ids:\n",
    "        datasets_train.append(data_1_rolling[:150].values.reshape(15,10,10))\n",
    "        y_train += [data_points.loc[data_points['gfid'] == _, 'wheat'].iloc[0]]\n",
    "    else:\n",
    "        datasets_test.append(data_1_rolling[:150].values.reshape(15,10,10))\n",
    "        y_test += [data_points.loc[data_points['gfid'] == _, 'wheat'].iloc[0]]"
   ]
  },
  {
   "cell_type": "code",
   "execution_count": 24,
   "id": "3465e581",
   "metadata": {
    "ExecuteTime": {
     "end_time": "2022-06-29T19:37:29.289830Z",
     "start_time": "2022-06-29T19:37:29.261336Z"
    }
   },
   "outputs": [],
   "source": [
    "data_train = torch.stack([torch.Tensor(dataset) for dataset in datasets_train])\n",
    "data_test = torch.stack([torch.Tensor(dataset) for dataset in datasets_test])"
   ]
  },
  {
   "cell_type": "code",
   "execution_count": 25,
   "id": "5182aa1d",
   "metadata": {
    "ExecuteTime": {
     "end_time": "2022-06-29T19:37:29.305669Z",
     "start_time": "2022-06-29T19:37:29.292845Z"
    }
   },
   "outputs": [],
   "source": [
    "def calc_out(h_in, w_in, ker, pad=0, stride=1):\n",
    "    h_out = (h_in + 2 * pad - (ker - 1) - 1) / (stride) + 1\n",
    "    w_out = (w_in + 2 * pad - (ker - 1) - 1) / (stride) + 1\n",
    "    return h_out, w_out"
   ]
  },
  {
   "cell_type": "code",
   "execution_count": 26,
   "id": "659549a8",
   "metadata": {
    "ExecuteTime": {
     "end_time": "2022-06-29T19:37:29.336699Z",
     "start_time": "2022-06-29T19:37:29.307725Z"
    }
   },
   "outputs": [],
   "source": [
    "class MyCNN(nn.Module):\n",
    "    def __init__(self, num_classes):\n",
    "        super().__init__()\n",
    "        self.num_classes = num_classes  #number of classes\n",
    "        \n",
    "        super().__init__()\n",
    "        self.net = nn.Sequential(\n",
    "            nn.Conv2d(in_channels=15, out_channels=30, kernel_size=2, stride=2, padding=1),  # (b x 30 x 6 x 6)\n",
    "            nn.ReLU(),\n",
    "            nn.Conv2d(30, 64, 2, padding=0, stride=1),  # (b x 64 x 5 x 5)\n",
    "            nn.ReLU(),\n",
    "            nn.MaxPool2d(kernel_size=2, stride=1, padding=0),  # (b x 64 x 4 x 4)\n",
    "        )\n",
    "        # classifier is just a name for linear layers\n",
    "        self.classifier = nn.Sequential(\n",
    "            nn.Dropout(p=0.1, inplace=True),\n",
    "            nn.Linear(in_features=(64 * 4 * 4), out_features=256),\n",
    "            nn.ReLU(),\n",
    "            #nn.Dropout(p=0.5, inplace=True),\n",
    "            #nn.Linear(in_features=256, out_features=256),\n",
    "            #nn.ReLU(),\n",
    "            nn.Linear(in_features=256, out_features=num_classes),\n",
    "            nn.Sigmoid()\n",
    "        )\n",
    "        #self.init_bias()\n",
    "\n",
    "    def init_bias(self):\n",
    "        for layer in self.net:\n",
    "            if isinstance(layer, nn.Conv2d):\n",
    "                nn.init.normal_(layer.weight, mean=0, std=0.01)\n",
    "                nn.init.constant_(layer.bias, 0)\n",
    "        # original paper = 1 for Conv2d layers 2nd, 4th, and 5th conv layers\n",
    "        nn.init.constant_(self.net[0].bias, 1)\n",
    "        nn.init.constant_(self.net[2].bias, 1)\n",
    "        #nn.init.constant_(self.net[4].bias, 1)\n",
    "\n",
    "    def forward(self, x):\n",
    "        \"\"\"\n",
    "        Pass the input through the net.\n",
    "        Args:\n",
    "            x (Tensor): input tensor\n",
    "        Returns:\n",
    "            output (Tensor): output tensor\n",
    "        \"\"\"\n",
    "        x = self.net(x)\n",
    "        x = x.view(-1, 64 * 4 * 4)  # reduce the dimensions for linear layer input\n",
    "        return self.classifier(x)"
   ]
  },
  {
   "cell_type": "code",
   "execution_count": 27,
   "id": "cc12c06a",
   "metadata": {
    "ExecuteTime": {
     "end_time": "2022-06-29T19:37:29.352289Z",
     "start_time": "2022-06-29T19:37:29.340004Z"
    }
   },
   "outputs": [],
   "source": [
    "MyCNN = MyCNN(num_classes=2)"
   ]
  },
  {
   "cell_type": "code",
   "execution_count": 28,
   "id": "cd100dfc",
   "metadata": {
    "ExecuteTime": {
     "end_time": "2022-06-29T19:37:29.367898Z",
     "start_time": "2022-06-29T19:37:29.355269Z"
    }
   },
   "outputs": [],
   "source": [
    "criterion = torch.nn.CrossEntropyLoss() \n",
    "optimizer = torch.optim.Adam(params=MyCNN.parameters(), lr=0.0001)#1, weight_decay=0.5)"
   ]
  },
  {
   "cell_type": "code",
   "execution_count": 29,
   "id": "a362f55e",
   "metadata": {
    "ExecuteTime": {
     "end_time": "2022-06-29T19:37:29.383381Z",
     "start_time": "2022-06-29T19:37:29.372140Z"
    }
   },
   "outputs": [
    {
     "data": {
      "text/plain": [
       "<torch.autograd.anomaly_mode.set_detect_anomaly at 0x24940eb1be0>"
      ]
     },
     "execution_count": 29,
     "metadata": {},
     "output_type": "execute_result"
    }
   ],
   "source": [
    "torch.autograd.set_detect_anomaly(True)"
   ]
  },
  {
   "cell_type": "code",
   "execution_count": 30,
   "id": "8798c788",
   "metadata": {
    "ExecuteTime": {
     "end_time": "2022-06-29T19:37:29.398548Z",
     "start_time": "2022-06-29T19:37:29.386676Z"
    }
   },
   "outputs": [],
   "source": [
    "y_train_tensors = Variable(torch.Tensor(y_train))\n",
    "y_test_tensors = Variable(torch.Tensor(y_test))\n",
    "\n",
    "y_train_tensors = y_train_tensors.type(torch.LongTensor)\n",
    "y_test_tensors = y_test_tensors.type(torch.LongTensor)"
   ]
  },
  {
   "cell_type": "code",
   "execution_count": 31,
   "id": "adaf010e",
   "metadata": {
    "ExecuteTime": {
     "end_time": "2022-06-29T19:37:29.413933Z",
     "start_time": "2022-06-29T19:37:29.401644Z"
    }
   },
   "outputs": [],
   "source": [
    "X = data_train\n",
    "y = y_train_tensors"
   ]
  },
  {
   "cell_type": "code",
   "execution_count": 32,
   "id": "a95ddd2c",
   "metadata": {
    "ExecuteTime": {
     "end_time": "2022-06-29T19:37:29.429209Z",
     "start_time": "2022-06-29T19:37:29.416829Z"
    }
   },
   "outputs": [],
   "source": [
    "res = []"
   ]
  },
  {
   "cell_type": "code",
   "execution_count": 33,
   "id": "05f0d4e5",
   "metadata": {
    "ExecuteTime": {
     "end_time": "2022-06-29T19:38:01.482097Z",
     "start_time": "2022-06-29T19:37:29.432450Z"
    },
    "scrolled": true
   },
   "outputs": [
    {
     "name": "stdout",
     "output_type": "stream",
     "text": [
      "Epoch: 0, loss: 0.69055\n",
      "Epoch: 1, loss: 0.69177\n",
      "Epoch: 2, loss: 0.69123\n",
      "Epoch: 3, loss: 0.69005\n",
      "Epoch: 4, loss: 0.68600\n",
      "Epoch: 5, loss: 0.68254\n",
      "Epoch: 6, loss: 0.67728\n",
      "Epoch: 7, loss: 0.65779\n",
      "Epoch: 8, loss: 0.65555\n",
      "Epoch: 9, loss: 0.63226\n",
      "Epoch: 10, loss: 0.63890\n",
      "Epoch: 11, loss: 0.65890\n",
      "Epoch: 12, loss: 0.65263\n",
      "Epoch: 13, loss: 0.62813\n",
      "Epoch: 14, loss: 0.64518\n",
      "Epoch: 15, loss: 0.60604\n",
      "Epoch: 16, loss: 0.71959\n",
      "Epoch: 17, loss: 0.54802\n",
      "Epoch: 18, loss: 0.63301\n",
      "Epoch: 19, loss: 0.59190\n",
      "Epoch: 20, loss: 0.61295\n",
      "Epoch: 21, loss: 0.61179\n",
      "Epoch: 22, loss: 0.69637\n",
      "Epoch: 23, loss: 0.68450\n",
      "Epoch: 24, loss: 0.60049\n",
      "Epoch: 25, loss: 0.70719\n",
      "Epoch: 26, loss: 0.58988\n",
      "Epoch: 27, loss: 0.67193\n",
      "Epoch: 28, loss: 0.59992\n",
      "Epoch: 29, loss: 0.60697\n",
      "Epoch: 30, loss: 0.59032\n",
      "Epoch: 31, loss: 0.59542\n",
      "Epoch: 32, loss: 0.56685\n",
      "Epoch: 33, loss: 0.62591\n",
      "Epoch: 34, loss: 0.57419\n",
      "Epoch: 35, loss: 0.56667\n",
      "Epoch: 36, loss: 0.63944\n",
      "Epoch: 37, loss: 0.66478\n",
      "Epoch: 38, loss: 0.61943\n",
      "Epoch: 39, loss: 0.66849\n",
      "Epoch: 40, loss: 0.61690\n",
      "Epoch: 41, loss: 0.61321\n",
      "Epoch: 42, loss: 0.56374\n",
      "Epoch: 43, loss: 0.54403\n",
      "Epoch: 44, loss: 0.57022\n",
      "Epoch: 45, loss: 0.59525\n",
      "Epoch: 46, loss: 0.61687\n",
      "Epoch: 47, loss: 0.55503\n",
      "Epoch: 48, loss: 0.51026\n",
      "Epoch: 49, loss: 0.66094\n",
      "Epoch: 50, loss: 0.59476\n",
      "Epoch: 51, loss: 0.67118\n",
      "Epoch: 52, loss: 0.60043\n",
      "Epoch: 53, loss: 0.59191\n",
      "Epoch: 54, loss: 0.64385\n",
      "Epoch: 55, loss: 0.53971\n",
      "Epoch: 56, loss: 0.63800\n",
      "Epoch: 57, loss: 0.63944\n",
      "Epoch: 58, loss: 0.55600\n",
      "Epoch: 59, loss: 0.71200\n",
      "Epoch: 60, loss: 0.69538\n",
      "Epoch: 61, loss: 0.58008\n",
      "Epoch: 62, loss: 0.60284\n",
      "Epoch: 63, loss: 0.64214\n",
      "Epoch: 64, loss: 0.57562\n",
      "Epoch: 65, loss: 0.64620\n",
      "Epoch: 66, loss: 0.61729\n",
      "Epoch: 67, loss: 0.60423\n",
      "Epoch: 68, loss: 0.60431\n",
      "Epoch: 69, loss: 0.59533\n",
      "Epoch: 70, loss: 0.61727\n",
      "Epoch: 71, loss: 0.50329\n",
      "Epoch: 72, loss: 0.59070\n",
      "Epoch: 73, loss: 0.52347\n",
      "Epoch: 74, loss: 0.54315\n",
      "Epoch: 75, loss: 0.59642\n",
      "Epoch: 76, loss: 0.48563\n",
      "Epoch: 77, loss: 0.54184\n",
      "Epoch: 78, loss: 0.57752\n",
      "Epoch: 79, loss: 0.58329\n",
      "Epoch: 80, loss: 0.54038\n",
      "Epoch: 81, loss: 0.50145\n",
      "Epoch: 82, loss: 0.71171\n",
      "Epoch: 83, loss: 0.54779\n",
      "Epoch: 84, loss: 0.50227\n",
      "Epoch: 85, loss: 0.55141\n",
      "Epoch: 86, loss: 0.70227\n",
      "Epoch: 87, loss: 0.57506\n",
      "Epoch: 88, loss: 0.45471\n",
      "Epoch: 89, loss: 0.66333\n",
      "Epoch: 90, loss: 0.59801\n",
      "Epoch: 91, loss: 0.52085\n",
      "Epoch: 92, loss: 0.53564\n",
      "Epoch: 93, loss: 0.50083\n",
      "Epoch: 94, loss: 0.60132\n",
      "Epoch: 95, loss: 0.61304\n",
      "Epoch: 96, loss: 0.48018\n",
      "Epoch: 97, loss: 0.51436\n",
      "Epoch: 98, loss: 0.48164\n",
      "Epoch: 99, loss: 0.59501\n"
     ]
    }
   ],
   "source": [
    "n_epochs = 100  # or whatever\n",
    "batch_size = 30  # or whatever\n",
    "\n",
    "for epoch in range(n_epochs):\n",
    "\n",
    "    # X is a torch Variable\n",
    "    permutation = torch.randperm(X.size()[0])\n",
    "\n",
    "    for i in range(0, X.size()[0], batch_size):\n",
    "        optimizer.zero_grad()\n",
    "\n",
    "        indices = permutation[i:i + batch_size]\n",
    "        batch_x, batch_y = X[indices], y[indices]\n",
    "\n",
    "        outputs = MyCNN.forward(batch_x) #forward pass\n",
    "\n",
    "        # obtain the loss function\n",
    "        loss = criterion(outputs, batch_y)\n",
    "        res.append(loss)\n",
    "        loss.backward() #calculates the loss of the loss function\n",
    "\n",
    "        optimizer.step() #improve from loss, i.e backprop\n",
    "    print(\"Epoch: %d, loss: %1.5f\" % (epoch, loss.item())) "
   ]
  },
  {
   "cell_type": "code",
   "execution_count": 34,
   "id": "68b3b17e",
   "metadata": {
    "ExecuteTime": {
     "end_time": "2022-06-29T19:38:01.497143Z",
     "start_time": "2022-06-29T19:38:01.486662Z"
    }
   },
   "outputs": [],
   "source": [
    "X_test_tensors = data_test"
   ]
  },
  {
   "cell_type": "code",
   "execution_count": 35,
   "id": "af81c214",
   "metadata": {
    "ExecuteTime": {
     "end_time": "2022-06-29T19:38:01.558980Z",
     "start_time": "2022-06-29T19:38:01.501640Z"
    }
   },
   "outputs": [],
   "source": [
    "test_predict = MyCNN(X_test_tensors)#forward pass "
   ]
  },
  {
   "cell_type": "code",
   "execution_count": 36,
   "id": "9982e9e4",
   "metadata": {
    "ExecuteTime": {
     "end_time": "2022-06-29T19:38:01.590355Z",
     "start_time": "2022-06-29T19:38:01.562787Z"
    }
   },
   "outputs": [
    {
     "data": {
      "text/plain": [
       "tensor([[8.5675e-01, 1.5794e-01],\n",
       "        [9.9993e-01, 1.0931e-04],\n",
       "        [9.6581e-01, 3.7172e-02],\n",
       "        [8.8820e-01, 1.2458e-01],\n",
       "        [1.4697e-01, 8.4143e-01],\n",
       "        [1.7471e-01, 8.2226e-01],\n",
       "        [9.4348e-01, 6.6695e-02],\n",
       "        [7.6777e-01, 2.4699e-01],\n",
       "        [1.8034e-01, 8.0534e-01],\n",
       "        [9.9507e-01, 6.2772e-03],\n",
       "        [7.7432e-02, 9.2329e-01],\n",
       "        [9.9698e-01, 3.9285e-03],\n",
       "        [1.3717e-01, 8.6258e-01],\n",
       "        [6.0570e-01, 4.1468e-01],\n",
       "        [5.3790e-01, 4.5963e-01],\n",
       "        [8.2267e-01, 2.0192e-01],\n",
       "        [9.5879e-01, 4.7886e-02],\n",
       "        [1.4979e-01, 8.4425e-01],\n",
       "        [9.4752e-01, 6.2780e-02],\n",
       "        [7.9062e-01, 2.2497e-01],\n",
       "        [9.9142e-01, 9.9480e-03],\n",
       "        [5.7573e-02, 9.4389e-01],\n",
       "        [3.0913e-01, 6.8939e-01],\n",
       "        [7.1460e-01, 2.9604e-01],\n",
       "        [8.4612e-02, 9.1367e-01],\n",
       "        [1.2568e-01, 8.7987e-01],\n",
       "        [1.1006e-01, 8.9195e-01],\n",
       "        [7.5012e-01, 2.5931e-01],\n",
       "        [1.0283e-01, 8.9463e-01],\n",
       "        [6.6863e-02, 9.3473e-01],\n",
       "        [1.2288e-01, 8.7693e-01],\n",
       "        [4.7794e-02, 9.5119e-01],\n",
       "        [9.6930e-01, 3.5605e-02],\n",
       "        [9.9307e-01, 7.8907e-03],\n",
       "        [2.0897e-02, 9.7855e-01],\n",
       "        [1.7196e-01, 8.2562e-01],\n",
       "        [6.3958e-02, 9.3274e-01],\n",
       "        [1.0722e-01, 8.9274e-01],\n",
       "        [6.3985e-02, 9.3649e-01],\n",
       "        [3.6596e-02, 9.6283e-01],\n",
       "        [9.8516e-01, 1.6399e-02],\n",
       "        [6.4638e-02, 9.3622e-01],\n",
       "        [9.8343e-01, 1.9319e-02],\n",
       "        [9.5280e-02, 9.0683e-01],\n",
       "        [9.9288e-01, 8.8205e-03],\n",
       "        [8.9566e-01, 1.1485e-01],\n",
       "        [5.4119e-02, 9.4738e-01],\n",
       "        [3.6049e-01, 6.5895e-01],\n",
       "        [1.0175e-01, 8.9353e-01],\n",
       "        [9.8621e-01, 1.6773e-02],\n",
       "        [8.1948e-02, 9.1109e-01],\n",
       "        [9.5265e-01, 5.5628e-02],\n",
       "        [9.9981e-01, 2.5357e-04],\n",
       "        [9.9630e-01, 4.6568e-03],\n",
       "        [6.1313e-02, 9.3783e-01],\n",
       "        [9.9783e-01, 2.7137e-03],\n",
       "        [9.9978e-01, 3.1079e-04],\n",
       "        [2.7324e-01, 7.3490e-01],\n",
       "        [9.0164e-02, 9.0925e-01],\n",
       "        [6.2475e-02, 9.3814e-01],\n",
       "        [3.4620e-02, 9.6449e-01],\n",
       "        [9.9984e-01, 2.1473e-04],\n",
       "        [6.4099e-02, 9.3603e-01],\n",
       "        [9.9649e-01, 4.2591e-03],\n",
       "        [1.2579e-01, 8.7839e-01],\n",
       "        [9.6155e-01, 4.5684e-02],\n",
       "        [9.3683e-02, 9.0403e-01],\n",
       "        [4.4045e-01, 5.7233e-01],\n",
       "        [5.2821e-02, 9.4798e-01],\n",
       "        [1.3189e-01, 8.5918e-01],\n",
       "        [9.8562e-01, 1.6612e-02],\n",
       "        [9.0945e-01, 1.0646e-01],\n",
       "        [9.8255e-01, 1.9811e-02],\n",
       "        [9.4938e-01, 5.5963e-02],\n",
       "        [6.8145e-02, 9.3122e-01]], grad_fn=<SigmoidBackward0>)"
      ]
     },
     "execution_count": 36,
     "metadata": {},
     "output_type": "execute_result"
    }
   ],
   "source": [
    "test_predict"
   ]
  },
  {
   "cell_type": "code",
   "execution_count": 37,
   "id": "5d464375",
   "metadata": {
    "ExecuteTime": {
     "end_time": "2022-06-29T19:38:01.606006Z",
     "start_time": "2022-06-29T19:38:01.595355Z"
    }
   },
   "outputs": [
    {
     "data": {
      "text/plain": [
       "tensor([0, 0, 0, 0, 1, 1, 0, 0, 1, 0, 1, 0, 1, 0, 0, 0, 0, 1, 0, 0, 0, 1, 1, 0,\n",
       "        1, 1, 1, 0, 1, 1, 1, 1, 0, 0, 1, 1, 1, 1, 1, 1, 0, 1, 0, 1, 0, 0, 1, 1,\n",
       "        1, 0, 1, 0, 0, 0, 1, 0, 0, 1, 1, 1, 1, 0, 1, 0, 1, 0, 1, 1, 1, 1, 0, 0,\n",
       "        0, 0, 1])"
      ]
     },
     "execution_count": 37,
     "metadata": {},
     "output_type": "execute_result"
    }
   ],
   "source": [
    "test_predict.argmax(dim=1)"
   ]
  },
  {
   "cell_type": "code",
   "execution_count": 38,
   "id": "e891c9aa",
   "metadata": {
    "ExecuteTime": {
     "end_time": "2022-06-29T19:38:01.637069Z",
     "start_time": "2022-06-29T19:38:01.608978Z"
    }
   },
   "outputs": [
    {
     "name": "stdout",
     "output_type": "stream",
     "text": [
      "              precision    recall  f1-score   support\n",
      "\n",
      "           0       0.83      0.75      0.79        40\n",
      "           1       0.74      0.83      0.78        35\n",
      "\n",
      "    accuracy                           0.79        75\n",
      "   macro avg       0.79      0.79      0.79        75\n",
      "weighted avg       0.79      0.79      0.79        75\n",
      "\n"
     ]
    }
   ],
   "source": [
    "# 100 эпох, батч 30\n",
    "print(classification_report(y_test_tensors, torch.argmax(test_predict, dim=1)))"
   ]
  },
  {
   "cell_type": "code",
   "execution_count": 39,
   "id": "e6e213d6",
   "metadata": {
    "ExecuteTime": {
     "end_time": "2022-06-29T19:38:01.651670Z",
     "start_time": "2022-06-29T19:38:01.641563Z"
    }
   },
   "outputs": [
    {
     "data": {
      "text/plain": [
       "0.7866666666666666"
      ]
     },
     "execution_count": 39,
     "metadata": {},
     "output_type": "execute_result"
    }
   ],
   "source": [
    "accuracy_score(y_test_tensors, torch.argmax(test_predict, dim=1))"
   ]
  },
  {
   "cell_type": "code",
   "execution_count": 40,
   "id": "1047f207",
   "metadata": {
    "ExecuteTime": {
     "end_time": "2022-06-29T19:38:01.682904Z",
     "start_time": "2022-06-29T19:38:01.658665Z"
    }
   },
   "outputs": [
    {
     "data": {
      "text/plain": [
       "0.7892857142857143"
      ]
     },
     "execution_count": 40,
     "metadata": {},
     "output_type": "execute_result"
    }
   ],
   "source": [
    "roc_auc_score(y_test_tensors, torch.argmax(test_predict, dim=1))"
   ]
  },
  {
   "cell_type": "code",
   "execution_count": 41,
   "id": "353d6379",
   "metadata": {
    "ExecuteTime": {
     "end_time": "2022-06-29T19:38:01.791451Z",
     "start_time": "2022-06-29T19:38:01.687170Z"
    }
   },
   "outputs": [],
   "source": [
    "train_predict = MyCNN(X)#forward pass "
   ]
  },
  {
   "cell_type": "code",
   "execution_count": 42,
   "id": "aba447df",
   "metadata": {
    "ExecuteTime": {
     "end_time": "2022-06-29T19:38:01.822760Z",
     "start_time": "2022-06-29T19:38:01.795574Z"
    }
   },
   "outputs": [
    {
     "name": "stdout",
     "output_type": "stream",
     "text": [
      "              precision    recall  f1-score   support\n",
      "\n",
      "           0       0.77      0.72      0.75       157\n",
      "           1       0.71      0.77      0.74       143\n",
      "\n",
      "    accuracy                           0.74       300\n",
      "   macro avg       0.74      0.74      0.74       300\n",
      "weighted avg       0.75      0.74      0.74       300\n",
      "\n"
     ]
    }
   ],
   "source": [
    "# 100 эпох, батч 30\n",
    "print(classification_report(y_train_tensors, torch.argmax(train_predict, dim=1)))"
   ]
  },
  {
   "cell_type": "code",
   "execution_count": 43,
   "id": "e5b72f3c",
   "metadata": {
    "ExecuteTime": {
     "end_time": "2022-06-29T19:38:01.837901Z",
     "start_time": "2022-06-29T19:38:01.827179Z"
    }
   },
   "outputs": [
    {
     "data": {
      "text/plain": [
       "0.7433333333333333"
      ]
     },
     "execution_count": 43,
     "metadata": {},
     "output_type": "execute_result"
    }
   ],
   "source": [
    "accuracy_score(y_train_tensors, torch.argmax(train_predict, dim=1))"
   ]
  },
  {
   "cell_type": "code",
   "execution_count": 44,
   "id": "393d33f9",
   "metadata": {
    "ExecuteTime": {
     "end_time": "2022-06-29T19:38:01.853401Z",
     "start_time": "2022-06-29T19:38:01.841280Z"
    }
   },
   "outputs": [
    {
     "data": {
      "text/plain": [
       "0.7444879960803528"
      ]
     },
     "execution_count": 44,
     "metadata": {},
     "output_type": "execute_result"
    }
   ],
   "source": [
    "roc_auc_score(y_train_tensors, torch.argmax(train_predict, dim=1))"
   ]
  }
 ],
 "metadata": {
  "kernelspec": {
   "display_name": "Python (ds)",
   "language": "python",
   "name": "ds"
  },
  "language_info": {
   "codemirror_mode": {
    "name": "ipython",
    "version": 3
   },
   "file_extension": ".py",
   "mimetype": "text/x-python",
   "name": "python",
   "nbconvert_exporter": "python",
   "pygments_lexer": "ipython3",
   "version": "3.9.12"
  },
  "toc": {
   "base_numbering": 1,
   "nav_menu": {},
   "number_sections": true,
   "sideBar": true,
   "skip_h1_title": false,
   "title_cell": "Table of Contents",
   "title_sidebar": "Contents",
   "toc_cell": false,
   "toc_position": {},
   "toc_section_display": true,
   "toc_window_display": false
  }
 },
 "nbformat": 4,
 "nbformat_minor": 5
}
