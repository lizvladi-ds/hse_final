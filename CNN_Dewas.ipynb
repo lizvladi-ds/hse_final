{
 "cells": [
  {
   "cell_type": "code",
   "execution_count": 1,
   "id": "cf6f7080",
   "metadata": {
    "ExecuteTime": {
     "end_time": "2022-06-13T14:58:19.358331Z",
     "start_time": "2022-06-13T14:58:18.364751Z"
    }
   },
   "outputs": [],
   "source": [
    "import pandas as pd\n",
    "from sklearn.metrics import f1_score, precision_score, recall_score, classification_report\n",
    "from sklearn.model_selection import train_test_split\n",
    "from random import sample\n",
    "import os\n",
    "\n",
    "import torch #pytorch\n",
    "import torch.nn as nn\n",
    "from torch.autograd import Variable "
   ]
  },
  {
   "cell_type": "markdown",
   "id": "189d0680",
   "metadata": {},
   "source": [
    "сделать матрицу"
   ]
  },
  {
   "cell_type": "code",
   "execution_count": 2,
   "id": "e7aecc13",
   "metadata": {
    "ExecuteTime": {
     "end_time": "2022-06-13T14:58:19.373051Z",
     "start_time": "2022-06-13T14:58:19.358832Z"
    }
   },
   "outputs": [
    {
     "data": {
      "text/plain": [
       "['Dewas_NDVI.csv',\n",
       " 'Dewas_points.csv',\n",
       " 'Kaithal_NDVI.csv',\n",
       " 'Kaithal_points.csv',\n",
       " 'Karnal_NDVI.csv',\n",
       " 'Karnal_points.csv']"
      ]
     },
     "execution_count": 2,
     "metadata": {},
     "output_type": "execute_result"
    }
   ],
   "source": [
    "os.listdir('data')    "
   ]
  },
  {
   "cell_type": "code",
   "execution_count": 3,
   "id": "d86b8c49",
   "metadata": {
    "ExecuteTime": {
     "end_time": "2022-06-13T14:58:19.388690Z",
     "start_time": "2022-06-13T14:58:19.374575Z"
    }
   },
   "outputs": [],
   "source": [
    "data_points = pd.read_csv('data/Dewas_points.csv')"
   ]
  },
  {
   "cell_type": "code",
   "execution_count": 4,
   "id": "afeb444e",
   "metadata": {
    "ExecuteTime": {
     "end_time": "2022-06-13T14:58:19.434626Z",
     "start_time": "2022-06-13T14:58:19.389714Z"
    }
   },
   "outputs": [],
   "source": [
    "data_ndvi = pd.read_csv('data/Dewas_NDVI.csv')"
   ]
  },
  {
   "cell_type": "code",
   "execution_count": 5,
   "id": "a2c474ab",
   "metadata": {
    "ExecuteTime": {
     "end_time": "2022-06-13T14:58:19.465474Z",
     "start_time": "2022-06-13T14:58:19.436388Z"
    }
   },
   "outputs": [],
   "source": [
    "data = data_points.merge(data_ndvi, left_on='gfid', right_on='gfid')"
   ]
  },
  {
   "cell_type": "code",
   "execution_count": 6,
   "id": "86428c4d",
   "metadata": {
    "ExecuteTime": {
     "end_time": "2022-06-13T14:58:29.398341Z",
     "start_time": "2022-06-13T14:58:19.466996Z"
    }
   },
   "outputs": [],
   "source": [
    "data['month'] = data['date'].apply(pd.to_datetime).dt.month\n",
    "data['day'] = data['date'].apply(pd.to_datetime).dt.day"
   ]
  },
  {
   "cell_type": "code",
   "execution_count": 7,
   "id": "e758f1cb",
   "metadata": {
    "ExecuteTime": {
     "end_time": "2022-06-13T14:58:29.414477Z",
     "start_time": "2022-06-13T14:58:29.399380Z"
    }
   },
   "outputs": [
    {
     "data": {
      "text/html": [
       "<div>\n",
       "<style scoped>\n",
       "    .dataframe tbody tr th:only-of-type {\n",
       "        vertical-align: middle;\n",
       "    }\n",
       "\n",
       "    .dataframe tbody tr th {\n",
       "        vertical-align: top;\n",
       "    }\n",
       "\n",
       "    .dataframe thead th {\n",
       "        text-align: right;\n",
       "    }\n",
       "</style>\n",
       "<table border=\"1\" class=\"dataframe\">\n",
       "  <thead>\n",
       "    <tr style=\"text-align: right;\">\n",
       "      <th></th>\n",
       "      <th>gfid</th>\n",
       "      <th>datenum</th>\n",
       "      <th>date</th>\n",
       "      <th>ndvi</th>\n",
       "    </tr>\n",
       "  </thead>\n",
       "  <tbody>\n",
       "    <tr>\n",
       "      <th>0</th>\n",
       "      <td>72001</td>\n",
       "      <td>0</td>\n",
       "      <td>2020-10-20</td>\n",
       "      <td>0.186</td>\n",
       "    </tr>\n",
       "    <tr>\n",
       "      <th>1</th>\n",
       "      <td>72001</td>\n",
       "      <td>1</td>\n",
       "      <td>2020-10-21</td>\n",
       "      <td>0.184</td>\n",
       "    </tr>\n",
       "    <tr>\n",
       "      <th>2</th>\n",
       "      <td>72001</td>\n",
       "      <td>2</td>\n",
       "      <td>2020-10-22</td>\n",
       "      <td>0.183</td>\n",
       "    </tr>\n",
       "    <tr>\n",
       "      <th>3</th>\n",
       "      <td>72001</td>\n",
       "      <td>3</td>\n",
       "      <td>2020-10-23</td>\n",
       "      <td>0.182</td>\n",
       "    </tr>\n",
       "    <tr>\n",
       "      <th>4</th>\n",
       "      <td>72001</td>\n",
       "      <td>4</td>\n",
       "      <td>2020-10-24</td>\n",
       "      <td>0.181</td>\n",
       "    </tr>\n",
       "  </tbody>\n",
       "</table>\n",
       "</div>"
      ],
      "text/plain": [
       "    gfid  datenum        date   ndvi\n",
       "0  72001        0  2020-10-20  0.186\n",
       "1  72001        1  2020-10-21  0.184\n",
       "2  72001        2  2020-10-22  0.183\n",
       "3  72001        3  2020-10-23  0.182\n",
       "4  72001        4  2020-10-24  0.181"
      ]
     },
     "execution_count": 7,
     "metadata": {},
     "output_type": "execute_result"
    }
   ],
   "source": [
    "data_ndvi.head()"
   ]
  },
  {
   "cell_type": "code",
   "execution_count": 8,
   "id": "8e4f02bf",
   "metadata": {
    "ExecuteTime": {
     "end_time": "2022-06-13T14:58:29.523184Z",
     "start_time": "2022-06-13T14:58:29.416915Z"
    }
   },
   "outputs": [],
   "source": [
    "i = 1\n",
    "ids_not_full = []\n",
    "for id_ in data_points['gfid'].values:\n",
    "    shp = data_ndvi[data_ndvi['gfid'] == id_].shape[0]\n",
    "    if shp != 203:\n",
    "        #print(id_, ' ', shp)\n",
    "        i += 1\n",
    "        ids_not_full += [id_]\n",
    "#print(i)"
   ]
  },
  {
   "cell_type": "code",
   "execution_count": 9,
   "id": "b36f497f",
   "metadata": {
    "ExecuteTime": {
     "end_time": "2022-06-13T14:58:29.555022Z",
     "start_time": "2022-06-13T14:58:29.526737Z"
    }
   },
   "outputs": [],
   "source": [
    "data2 = data[~data['gfid'].isin(ids_not_full)]"
   ]
  },
  {
   "cell_type": "code",
   "execution_count": 10,
   "id": "392d4dca",
   "metadata": {
    "ExecuteTime": {
     "end_time": "2022-06-13T14:58:29.570530Z",
     "start_time": "2022-06-13T14:58:29.556410Z"
    }
   },
   "outputs": [
    {
     "data": {
      "text/plain": [
       "0      0.186\n",
       "1      0.184\n",
       "2      0.183\n",
       "3      0.182\n",
       "4      0.181\n",
       "       ...  \n",
       "198    0.123\n",
       "199    0.121\n",
       "200    0.120\n",
       "201    0.119\n",
       "202    0.118\n",
       "Name: ndvi, Length: 203, dtype: float64"
      ]
     },
     "execution_count": 10,
     "metadata": {},
     "output_type": "execute_result"
    }
   ],
   "source": [
    "data2[data2['gfid']==72001]['ndvi']"
   ]
  },
  {
   "cell_type": "code",
   "execution_count": 11,
   "id": "cc81dbb0",
   "metadata": {
    "ExecuteTime": {
     "end_time": "2022-06-13T14:58:29.586558Z",
     "start_time": "2022-06-13T14:58:29.572405Z"
    }
   },
   "outputs": [],
   "source": [
    "gfids = data2['gfid'].unique()"
   ]
  },
  {
   "cell_type": "code",
   "execution_count": 12,
   "id": "f32b0991",
   "metadata": {
    "ExecuteTime": {
     "end_time": "2022-06-13T14:58:29.601912Z",
     "start_time": "2022-06-13T14:58:29.588771Z"
    }
   },
   "outputs": [],
   "source": [
    "from numpy.random import choice"
   ]
  },
  {
   "cell_type": "code",
   "execution_count": 13,
   "id": "d47a4a50",
   "metadata": {
    "ExecuteTime": {
     "end_time": "2022-06-13T14:58:29.617261Z",
     "start_time": "2022-06-13T14:58:29.603168Z"
    }
   },
   "outputs": [],
   "source": [
    "import numpy as np"
   ]
  },
  {
   "cell_type": "code",
   "execution_count": 14,
   "id": "870f7e06",
   "metadata": {
    "ExecuteTime": {
     "end_time": "2022-06-13T14:58:29.633037Z",
     "start_time": "2022-06-13T14:58:29.618452Z"
    }
   },
   "outputs": [],
   "source": [
    "np.random.seed(42)"
   ]
  },
  {
   "cell_type": "code",
   "execution_count": 15,
   "id": "b2dc8785",
   "metadata": {
    "ExecuteTime": {
     "end_time": "2022-06-13T14:58:29.648018Z",
     "start_time": "2022-06-13T14:58:29.635037Z"
    }
   },
   "outputs": [],
   "source": [
    "np.random.shuffle(gfids)"
   ]
  },
  {
   "cell_type": "code",
   "execution_count": 16,
   "id": "32cb54de",
   "metadata": {
    "ExecuteTime": {
     "end_time": "2022-06-13T14:58:29.663477Z",
     "start_time": "2022-06-13T14:58:29.649384Z"
    }
   },
   "outputs": [],
   "source": [
    "train_ids = gfids[:300]\n",
    "test_ids = gfids[300:]"
   ]
  },
  {
   "cell_type": "code",
   "execution_count": 17,
   "id": "8b0240ea",
   "metadata": {
    "ExecuteTime": {
     "end_time": "2022-06-13T14:58:29.679114Z",
     "start_time": "2022-06-13T14:58:29.665389Z"
    }
   },
   "outputs": [
    {
     "data": {
      "text/html": [
       "<div>\n",
       "<style scoped>\n",
       "    .dataframe tbody tr th:only-of-type {\n",
       "        vertical-align: middle;\n",
       "    }\n",
       "\n",
       "    .dataframe tbody tr th {\n",
       "        vertical-align: top;\n",
       "    }\n",
       "\n",
       "    .dataframe thead th {\n",
       "        text-align: right;\n",
       "    }\n",
       "</style>\n",
       "<table border=\"1\" class=\"dataframe\">\n",
       "  <thead>\n",
       "    <tr style=\"text-align: right;\">\n",
       "      <th></th>\n",
       "      <th>gfid</th>\n",
       "      <th>state</th>\n",
       "      <th>district</th>\n",
       "      <th>village</th>\n",
       "      <th>lon</th>\n",
       "      <th>lat</th>\n",
       "      <th>wheat</th>\n",
       "      <th>datenum</th>\n",
       "      <th>date</th>\n",
       "      <th>ndvi</th>\n",
       "      <th>month</th>\n",
       "      <th>day</th>\n",
       "    </tr>\n",
       "  </thead>\n",
       "  <tbody>\n",
       "    <tr>\n",
       "      <th>0</th>\n",
       "      <td>72001</td>\n",
       "      <td>Madhya Pradesh</td>\n",
       "      <td>Dewas</td>\n",
       "      <td>VijayaganjMandi</td>\n",
       "      <td>75.96199</td>\n",
       "      <td>23.218479</td>\n",
       "      <td>0</td>\n",
       "      <td>0</td>\n",
       "      <td>2020-10-20</td>\n",
       "      <td>0.186</td>\n",
       "      <td>10</td>\n",
       "      <td>20</td>\n",
       "    </tr>\n",
       "    <tr>\n",
       "      <th>1</th>\n",
       "      <td>72001</td>\n",
       "      <td>Madhya Pradesh</td>\n",
       "      <td>Dewas</td>\n",
       "      <td>VijayaganjMandi</td>\n",
       "      <td>75.96199</td>\n",
       "      <td>23.218479</td>\n",
       "      <td>0</td>\n",
       "      <td>1</td>\n",
       "      <td>2020-10-21</td>\n",
       "      <td>0.184</td>\n",
       "      <td>10</td>\n",
       "      <td>21</td>\n",
       "    </tr>\n",
       "    <tr>\n",
       "      <th>2</th>\n",
       "      <td>72001</td>\n",
       "      <td>Madhya Pradesh</td>\n",
       "      <td>Dewas</td>\n",
       "      <td>VijayaganjMandi</td>\n",
       "      <td>75.96199</td>\n",
       "      <td>23.218479</td>\n",
       "      <td>0</td>\n",
       "      <td>2</td>\n",
       "      <td>2020-10-22</td>\n",
       "      <td>0.183</td>\n",
       "      <td>10</td>\n",
       "      <td>22</td>\n",
       "    </tr>\n",
       "    <tr>\n",
       "      <th>3</th>\n",
       "      <td>72001</td>\n",
       "      <td>Madhya Pradesh</td>\n",
       "      <td>Dewas</td>\n",
       "      <td>VijayaganjMandi</td>\n",
       "      <td>75.96199</td>\n",
       "      <td>23.218479</td>\n",
       "      <td>0</td>\n",
       "      <td>3</td>\n",
       "      <td>2020-10-23</td>\n",
       "      <td>0.182</td>\n",
       "      <td>10</td>\n",
       "      <td>23</td>\n",
       "    </tr>\n",
       "    <tr>\n",
       "      <th>4</th>\n",
       "      <td>72001</td>\n",
       "      <td>Madhya Pradesh</td>\n",
       "      <td>Dewas</td>\n",
       "      <td>VijayaganjMandi</td>\n",
       "      <td>75.96199</td>\n",
       "      <td>23.218479</td>\n",
       "      <td>0</td>\n",
       "      <td>4</td>\n",
       "      <td>2020-10-24</td>\n",
       "      <td>0.181</td>\n",
       "      <td>10</td>\n",
       "      <td>24</td>\n",
       "    </tr>\n",
       "  </tbody>\n",
       "</table>\n",
       "</div>"
      ],
      "text/plain": [
       "    gfid            state district          village       lon        lat  \\\n",
       "0  72001  Madhya Pradesh    Dewas   VijayaganjMandi  75.96199  23.218479   \n",
       "1  72001  Madhya Pradesh    Dewas   VijayaganjMandi  75.96199  23.218479   \n",
       "2  72001  Madhya Pradesh    Dewas   VijayaganjMandi  75.96199  23.218479   \n",
       "3  72001  Madhya Pradesh    Dewas   VijayaganjMandi  75.96199  23.218479   \n",
       "4  72001  Madhya Pradesh    Dewas   VijayaganjMandi  75.96199  23.218479   \n",
       "\n",
       "   wheat  datenum        date   ndvi  month  day  \n",
       "0      0        0  2020-10-20  0.186     10   20  \n",
       "1      0        1  2020-10-21  0.184     10   21  \n",
       "2      0        2  2020-10-22  0.183     10   22  \n",
       "3      0        3  2020-10-23  0.182     10   23  \n",
       "4      0        4  2020-10-24  0.181     10   24  "
      ]
     },
     "execution_count": 17,
     "metadata": {},
     "output_type": "execute_result"
    }
   ],
   "source": [
    "data2.head()"
   ]
  },
  {
   "cell_type": "code",
   "execution_count": 18,
   "id": "fc453285",
   "metadata": {
    "ExecuteTime": {
     "end_time": "2022-06-13T14:58:29.710660Z",
     "start_time": "2022-06-13T14:58:29.681149Z"
    }
   },
   "outputs": [],
   "source": [
    "data2 = data2.dropna()"
   ]
  },
  {
   "cell_type": "code",
   "execution_count": 19,
   "id": "695dc8d6",
   "metadata": {
    "ExecuteTime": {
     "end_time": "2022-06-13T14:58:29.726661Z",
     "start_time": "2022-06-13T14:58:29.712561Z"
    }
   },
   "outputs": [
    {
     "data": {
      "text/plain": [
       "(76125, 12)"
      ]
     },
     "execution_count": 19,
     "metadata": {},
     "output_type": "execute_result"
    }
   ],
   "source": [
    "data2.shape"
   ]
  },
  {
   "cell_type": "code",
   "execution_count": 20,
   "id": "00b3c94f",
   "metadata": {
    "ExecuteTime": {
     "end_time": "2022-06-13T14:58:29.742048Z",
     "start_time": "2022-06-13T14:58:29.727735Z"
    }
   },
   "outputs": [
    {
     "data": {
      "text/plain": [
       "(76125, 12)"
      ]
     },
     "execution_count": 20,
     "metadata": {},
     "output_type": "execute_result"
    }
   ],
   "source": [
    "data2.shape"
   ]
  },
  {
   "cell_type": "code",
   "execution_count": 21,
   "id": "8789d529",
   "metadata": {
    "ExecuteTime": {
     "end_time": "2022-06-13T14:58:29.757442Z",
     "start_time": "2022-06-13T14:58:29.744049Z"
    }
   },
   "outputs": [
    {
     "data": {
      "text/plain": [
       "array([[72001, 'Madhya Pradesh ', 'Dewas ', 'VijayaganjMandi', 75.96199,\n",
       "        23.218479, 0, 0, '2020-10-20', 0.186, 10, 20],\n",
       "       [72001, 'Madhya Pradesh ', 'Dewas ', 'VijayaganjMandi', 75.96199,\n",
       "        23.218479, 0, 1, '2020-10-21', 0.184, 10, 21],\n",
       "       [72001, 'Madhya Pradesh ', 'Dewas ', 'VijayaganjMandi', 75.96199,\n",
       "        23.218479, 0, 2, '2020-10-22', 0.183, 10, 22],\n",
       "       [72001, 'Madhya Pradesh ', 'Dewas ', 'VijayaganjMandi', 75.96199,\n",
       "        23.218479, 0, 3, '2020-10-23', 0.182, 10, 23],\n",
       "       [72001, 'Madhya Pradesh ', 'Dewas ', 'VijayaganjMandi', 75.96199,\n",
       "        23.218479, 0, 4, '2020-10-24', 0.181, 10, 24],\n",
       "       [72001, 'Madhya Pradesh ', 'Dewas ', 'VijayaganjMandi', 75.96199,\n",
       "        23.218479, 0, 5, '2020-10-25', 0.18, 10, 25],\n",
       "       [72001, 'Madhya Pradesh ', 'Dewas ', 'VijayaganjMandi', 75.96199,\n",
       "        23.218479, 0, 6, '2020-10-26', 0.18, 10, 26],\n",
       "       [72001, 'Madhya Pradesh ', 'Dewas ', 'VijayaganjMandi', 75.96199,\n",
       "        23.218479, 0, 7, '2020-10-27', 0.181, 10, 27],\n",
       "       [72001, 'Madhya Pradesh ', 'Dewas ', 'VijayaganjMandi', 75.96199,\n",
       "        23.218479, 0, 8, '2020-10-28', 0.181, 10, 28],\n",
       "       [72001, 'Madhya Pradesh ', 'Dewas ', 'VijayaganjMandi', 75.96199,\n",
       "        23.218479, 0, 9, '2020-10-29', 0.182, 10, 29]], dtype=object)"
      ]
     },
     "execution_count": 21,
     "metadata": {},
     "output_type": "execute_result"
    }
   ],
   "source": [
    "data2[data2['gfid']==72001][:150].values.reshape(15,10,12)[0]"
   ]
  },
  {
   "cell_type": "code",
   "execution_count": 22,
   "id": "dce70b13",
   "metadata": {
    "ExecuteTime": {
     "end_time": "2022-06-13T14:58:29.772805Z",
     "start_time": "2022-06-13T14:58:29.759219Z"
    }
   },
   "outputs": [],
   "source": [
    "for i in (3, 5, 7, 9):\n",
    "    data2[f'ndvi_{i}'] = data2['ndvi'].rolling(i).mean()"
   ]
  },
  {
   "cell_type": "code",
   "execution_count": 23,
   "id": "33f7bf95",
   "metadata": {
    "ExecuteTime": {
     "end_time": "2022-06-13T14:58:32.038972Z",
     "start_time": "2022-06-13T14:58:29.774431Z"
    }
   },
   "outputs": [],
   "source": [
    "datasets_train = []\n",
    "datasets_test = []\n",
    "y_train = []\n",
    "y_test = []\n",
    "for _ in gfids:\n",
    "    rolling_data = []\n",
    "    rolling_data.append(data2[data2['gfid']==_]['ndvi'].iloc[4:])\n",
    "    for i in range(2, 11):\n",
    "        rolling_data.append(data2[data2['gfid']==_]['ndvi'].rolling(i).mean())\n",
    "    data_1_rolling = pd.concat(rolling_data, axis=1)\n",
    "    data_1_rolling = data_1_rolling.dropna()\n",
    "    data_1_rolling.columns = ['ndvi'] + [f'ndvi_{i}' for i in range(2,11)]\n",
    "    if _ in train_ids:\n",
    "        datasets_train.append(data_1_rolling[:150].values.reshape(15,10,10))\n",
    "        y_train += [data_points.loc[data_points['gfid'] == _, 'wheat'].iloc[0]]\n",
    "    else:\n",
    "        datasets_test.append(data_1_rolling[:150].values.reshape(15,10,10))\n",
    "        y_test += [data_points.loc[data_points['gfid'] == _, 'wheat'].iloc[0]]"
   ]
  },
  {
   "cell_type": "code",
   "execution_count": 24,
   "id": "3465e581",
   "metadata": {
    "ExecuteTime": {
     "end_time": "2022-06-13T14:58:32.062369Z",
     "start_time": "2022-06-13T14:58:32.038972Z"
    }
   },
   "outputs": [],
   "source": [
    "data_train = torch.stack([torch.Tensor(dataset) for dataset in datasets_train])\n",
    "data_test = torch.stack([torch.Tensor(dataset) for dataset in datasets_test])"
   ]
  },
  {
   "cell_type": "code",
   "execution_count": 25,
   "id": "5182aa1d",
   "metadata": {
    "ExecuteTime": {
     "end_time": "2022-06-13T14:58:32.088112Z",
     "start_time": "2022-06-13T14:58:32.062369Z"
    }
   },
   "outputs": [],
   "source": [
    "def calc_out(h_in, w_in, ker, pad=0, stride=1):\n",
    "    h_out = (h_in + 2 * pad - (ker - 1) - 1) / (stride) + 1\n",
    "    w_out = (w_in + 2 * pad - (ker - 1) - 1) / (stride) + 1\n",
    "    return h_out, w_out"
   ]
  },
  {
   "cell_type": "code",
   "execution_count": 26,
   "id": "659549a8",
   "metadata": {
    "ExecuteTime": {
     "end_time": "2022-06-13T14:58:32.109393Z",
     "start_time": "2022-06-13T14:58:32.088112Z"
    }
   },
   "outputs": [],
   "source": [
    "class AlexNet(nn.Module):\n",
    "    def __init__(self, num_classes):\n",
    "        super().__init__()\n",
    "        self.num_classes = num_classes  #number of classes\n",
    "        \n",
    "        super().__init__()\n",
    "        self.net = nn.Sequential(\n",
    "            nn.Conv2d(in_channels=15, out_channels=30, kernel_size=2, stride=2, padding=1),  # (b x 30 x 6 x 6)\n",
    "            nn.ReLU(),\n",
    "            nn.Conv2d(30, 64, 2, padding=0, stride=1),  # (b x 64 x 5 x 5)\n",
    "            nn.ReLU(),\n",
    "            nn.MaxPool2d(kernel_size=2, stride=1, padding=0),  # (b x 64 x 4 x 4)\n",
    "        )\n",
    "        # classifier is just a name for linear layers\n",
    "        self.classifier = nn.Sequential(\n",
    "            nn.Dropout(p=0.1, inplace=True),\n",
    "            nn.Linear(in_features=(64 * 4 * 4), out_features=256),\n",
    "            nn.ReLU(),\n",
    "            #nn.Dropout(p=0.5, inplace=True),\n",
    "            #nn.Linear(in_features=256, out_features=256),\n",
    "            #nn.ReLU(),\n",
    "            nn.Linear(in_features=256, out_features=num_classes),\n",
    "            nn.Sigmoid()\n",
    "        )\n",
    "        #self.init_bias()\n",
    "\n",
    "    def init_bias(self):\n",
    "        for layer in self.net:\n",
    "            if isinstance(layer, nn.Conv2d):\n",
    "                nn.init.normal_(layer.weight, mean=0, std=0.01)\n",
    "                nn.init.constant_(layer.bias, 0)\n",
    "        # original paper = 1 for Conv2d layers 2nd, 4th, and 5th conv layers\n",
    "        nn.init.constant_(self.net[0].bias, 1)\n",
    "        nn.init.constant_(self.net[2].bias, 1)\n",
    "        #nn.init.constant_(self.net[4].bias, 1)\n",
    "\n",
    "    def forward(self, x):\n",
    "        \"\"\"\n",
    "        Pass the input through the net.\n",
    "        Args:\n",
    "            x (Tensor): input tensor\n",
    "        Returns:\n",
    "            output (Tensor): output tensor\n",
    "        \"\"\"\n",
    "        x = self.net(x)\n",
    "        x = x.view(-1, 64 * 4 * 4)  # reduce the dimensions for linear layer input\n",
    "        return self.classifier(x)"
   ]
  },
  {
   "cell_type": "code",
   "execution_count": 27,
   "id": "cc12c06a",
   "metadata": {
    "ExecuteTime": {
     "end_time": "2022-06-13T14:58:32.132059Z",
     "start_time": "2022-06-13T14:58:32.109393Z"
    }
   },
   "outputs": [],
   "source": [
    "alexnet = AlexNet(num_classes=2)"
   ]
  },
  {
   "cell_type": "code",
   "execution_count": 28,
   "id": "cd100dfc",
   "metadata": {
    "ExecuteTime": {
     "end_time": "2022-06-13T14:58:32.147370Z",
     "start_time": "2022-06-13T14:58:32.133721Z"
    }
   },
   "outputs": [],
   "source": [
    "criterion = torch.nn.CrossEntropyLoss() \n",
    "optimizer = torch.optim.Adam(params=alexnet.parameters(), lr=0.0001)#1, weight_decay=0.5)"
   ]
  },
  {
   "cell_type": "code",
   "execution_count": 29,
   "id": "a362f55e",
   "metadata": {
    "ExecuteTime": {
     "end_time": "2022-06-13T14:58:32.162870Z",
     "start_time": "2022-06-13T14:58:32.148785Z"
    }
   },
   "outputs": [
    {
     "data": {
      "text/plain": [
       "<torch.autograd.anomaly_mode.set_detect_anomaly at 0x281aeef9430>"
      ]
     },
     "execution_count": 29,
     "metadata": {},
     "output_type": "execute_result"
    }
   ],
   "source": [
    "torch.autograd.set_detect_anomaly(True)"
   ]
  },
  {
   "cell_type": "markdown",
   "id": "488080c8",
   "metadata": {
    "ExecuteTime": {
     "end_time": "2022-05-22T20:45:31.916126Z",
     "start_time": "2022-05-22T20:45:31.891146Z"
    }
   },
   "source": [
    "X_train_tensors = Variable(torch.Tensor(data2.loc[data2['gfid'].isin(train), features].values.reshape(300, 2, 203)))\n",
    "X_test_tensors = Variable(torch.Tensor(data2.loc[data2['gfid'].isin(test), features].values.reshape(75, 2, 203)))"
   ]
  },
  {
   "cell_type": "markdown",
   "id": "17c7f4c0",
   "metadata": {
    "ExecuteTime": {
     "end_time": "2022-05-22T20:45:32.117408Z",
     "start_time": "2022-05-22T20:45:32.104328Z"
    }
   },
   "source": [
    "y_train_tensors = Variable(torch.Tensor(data_points.loc[data_points['gfid'].isin(train), 'wheat'].values))\n",
    "y_test_tensors = Variable(torch.Tensor(data_points.loc[data_points['gfid'].isin(test), 'wheat'].values))\n",
    "\n",
    "y_train_tensors = y_train_tensors.type(torch.LongTensor)\n",
    "y_test_tensors = y_test_tensors.type(torch.LongTensor)"
   ]
  },
  {
   "cell_type": "markdown",
   "id": "1fed26ab",
   "metadata": {
    "ExecuteTime": {
     "end_time": "2022-05-22T20:45:32.319273Z",
     "start_time": "2022-05-22T20:45:32.310107Z"
    }
   },
   "source": [
    "X = X_train_tensors\n",
    "y = y_train_tensors"
   ]
  },
  {
   "cell_type": "code",
   "execution_count": 30,
   "id": "8798c788",
   "metadata": {
    "ExecuteTime": {
     "end_time": "2022-06-13T14:58:32.190961Z",
     "start_time": "2022-06-13T14:58:32.163914Z"
    }
   },
   "outputs": [],
   "source": [
    "y_train_tensors = Variable(torch.Tensor(y_train))\n",
    "y_test_tensors = Variable(torch.Tensor(y_test))\n",
    "\n",
    "y_train_tensors = y_train_tensors.type(torch.LongTensor)\n",
    "y_test_tensors = y_test_tensors.type(torch.LongTensor)"
   ]
  },
  {
   "cell_type": "code",
   "execution_count": 31,
   "id": "adaf010e",
   "metadata": {
    "ExecuteTime": {
     "end_time": "2022-06-13T14:58:32.206453Z",
     "start_time": "2022-06-13T14:58:32.190961Z"
    }
   },
   "outputs": [],
   "source": [
    "X = data_train\n",
    "y = y_train_tensors"
   ]
  },
  {
   "cell_type": "code",
   "execution_count": 32,
   "id": "05f0d4e5",
   "metadata": {
    "ExecuteTime": {
     "end_time": "2022-06-13T14:59:00.273682Z",
     "start_time": "2022-06-13T14:58:32.209107Z"
    },
    "scrolled": true
   },
   "outputs": [
    {
     "name": "stdout",
     "output_type": "stream",
     "text": [
      "Epoch: 0, loss: 0.69171\n",
      "Epoch: 1, loss: 0.69351\n",
      "Epoch: 2, loss: 0.68580\n",
      "Epoch: 3, loss: 0.68222\n",
      "Epoch: 4, loss: 0.68165\n",
      "Epoch: 5, loss: 0.67500\n",
      "Epoch: 6, loss: 0.66462\n",
      "Epoch: 7, loss: 0.63783\n",
      "Epoch: 8, loss: 0.65397\n",
      "Epoch: 9, loss: 0.64110\n",
      "Epoch: 10, loss: 0.67254\n",
      "Epoch: 11, loss: 0.67359\n",
      "Epoch: 12, loss: 0.62988\n",
      "Epoch: 13, loss: 0.64154\n",
      "Epoch: 14, loss: 0.55613\n",
      "Epoch: 15, loss: 0.58423\n",
      "Epoch: 16, loss: 0.61271\n",
      "Epoch: 17, loss: 0.69231\n",
      "Epoch: 18, loss: 0.62703\n",
      "Epoch: 19, loss: 0.68272\n",
      "Epoch: 20, loss: 0.60988\n",
      "Epoch: 21, loss: 0.59674\n",
      "Epoch: 22, loss: 0.56031\n",
      "Epoch: 23, loss: 0.60889\n",
      "Epoch: 24, loss: 0.60597\n",
      "Epoch: 25, loss: 0.63013\n",
      "Epoch: 26, loss: 0.54985\n",
      "Epoch: 27, loss: 0.60336\n",
      "Epoch: 28, loss: 0.62888\n",
      "Epoch: 29, loss: 0.62314\n",
      "Epoch: 30, loss: 0.51418\n",
      "Epoch: 31, loss: 0.56273\n",
      "Epoch: 32, loss: 0.59610\n",
      "Epoch: 33, loss: 0.62164\n",
      "Epoch: 34, loss: 0.55310\n",
      "Epoch: 35, loss: 0.57632\n",
      "Epoch: 36, loss: 0.64552\n",
      "Epoch: 37, loss: 0.62737\n",
      "Epoch: 38, loss: 0.61804\n",
      "Epoch: 39, loss: 0.62076\n",
      "Epoch: 40, loss: 0.55569\n",
      "Epoch: 41, loss: 0.63695\n",
      "Epoch: 42, loss: 0.60868\n",
      "Epoch: 43, loss: 0.56577\n",
      "Epoch: 44, loss: 0.52693\n",
      "Epoch: 45, loss: 0.59337\n",
      "Epoch: 46, loss: 0.53762\n",
      "Epoch: 47, loss: 0.60879\n",
      "Epoch: 48, loss: 0.61062\n",
      "Epoch: 49, loss: 0.72007\n",
      "Epoch: 50, loss: 0.58649\n",
      "Epoch: 51, loss: 0.65396\n",
      "Epoch: 52, loss: 0.68377\n",
      "Epoch: 53, loss: 0.59605\n",
      "Epoch: 54, loss: 0.57087\n",
      "Epoch: 55, loss: 0.53610\n",
      "Epoch: 56, loss: 0.57159\n",
      "Epoch: 57, loss: 0.64318\n",
      "Epoch: 58, loss: 0.51498\n",
      "Epoch: 59, loss: 0.57546\n",
      "Epoch: 60, loss: 0.53064\n",
      "Epoch: 61, loss: 0.62406\n",
      "Epoch: 62, loss: 0.60237\n",
      "Epoch: 63, loss: 0.55480\n",
      "Epoch: 64, loss: 0.56154\n",
      "Epoch: 65, loss: 0.60072\n",
      "Epoch: 66, loss: 0.66987\n",
      "Epoch: 67, loss: 0.59901\n",
      "Epoch: 68, loss: 0.61765\n",
      "Epoch: 69, loss: 0.61026\n",
      "Epoch: 70, loss: 0.57199\n",
      "Epoch: 71, loss: 0.58286\n",
      "Epoch: 72, loss: 0.66718\n",
      "Epoch: 73, loss: 0.50433\n",
      "Epoch: 74, loss: 0.55852\n",
      "Epoch: 75, loss: 0.51933\n",
      "Epoch: 76, loss: 0.62418\n",
      "Epoch: 77, loss: 0.54774\n",
      "Epoch: 78, loss: 0.51464\n",
      "Epoch: 79, loss: 0.53621\n",
      "Epoch: 80, loss: 0.51940\n",
      "Epoch: 81, loss: 0.53133\n",
      "Epoch: 82, loss: 0.60759\n",
      "Epoch: 83, loss: 0.54695\n",
      "Epoch: 84, loss: 0.49487\n",
      "Epoch: 85, loss: 0.69104\n",
      "Epoch: 86, loss: 0.58027\n",
      "Epoch: 87, loss: 0.44664\n",
      "Epoch: 88, loss: 0.57550\n",
      "Epoch: 89, loss: 0.55281\n",
      "Epoch: 90, loss: 0.56987\n",
      "Epoch: 91, loss: 0.62817\n",
      "Epoch: 92, loss: 0.54865\n",
      "Epoch: 93, loss: 0.56432\n",
      "Epoch: 94, loss: 0.54302\n",
      "Epoch: 95, loss: 0.49807\n",
      "Epoch: 96, loss: 0.66002\n",
      "Epoch: 97, loss: 0.62659\n",
      "Epoch: 98, loss: 0.70444\n",
      "Epoch: 99, loss: 0.59067\n"
     ]
    }
   ],
   "source": [
    "n_epochs = 100  # or whatever\n",
    "batch_size = 30  # or whatever\n",
    "\n",
    "for epoch in range(n_epochs):\n",
    "\n",
    "    # X is a torch Variable\n",
    "    permutation = torch.randperm(X.size()[0])\n",
    "\n",
    "    for i in range(0, X.size()[0], batch_size):\n",
    "        optimizer.zero_grad()\n",
    "\n",
    "        indices = permutation[i:i + batch_size]\n",
    "        batch_x, batch_y = X[indices], y[indices]\n",
    "\n",
    "        outputs = alexnet.forward(batch_x) #forward pass\n",
    "        #optimizer.zero_grad() #caluclate the gradient, manually setting to 0\n",
    "\n",
    "        # obtain the loss function\n",
    "        loss = criterion(outputs, batch_y)\n",
    "        loss.backward() #calculates the loss of the loss function\n",
    "\n",
    "        optimizer.step() #improve from loss, i.e backprop\n",
    "    print(\"Epoch: %d, loss: %1.5f\" % (epoch, loss.item())) "
   ]
  },
  {
   "cell_type": "code",
   "execution_count": 33,
   "id": "68b3b17e",
   "metadata": {
    "ExecuteTime": {
     "end_time": "2022-06-13T14:59:00.290366Z",
     "start_time": "2022-06-13T14:59:00.274640Z"
    }
   },
   "outputs": [],
   "source": [
    "X_test_tensors = data_test"
   ]
  },
  {
   "cell_type": "code",
   "execution_count": 34,
   "id": "af81c214",
   "metadata": {
    "ExecuteTime": {
     "end_time": "2022-06-13T14:59:00.322223Z",
     "start_time": "2022-06-13T14:59:00.290366Z"
    }
   },
   "outputs": [],
   "source": [
    "test_predict = alexnet(X_test_tensors)#forward pass "
   ]
  },
  {
   "cell_type": "code",
   "execution_count": 35,
   "id": "9982e9e4",
   "metadata": {
    "ExecuteTime": {
     "end_time": "2022-06-13T14:59:00.337461Z",
     "start_time": "2022-06-13T14:59:00.322721Z"
    }
   },
   "outputs": [
    {
     "data": {
      "text/plain": [
       "tensor([[9.1478e-01, 9.2831e-02],\n",
       "        [9.9995e-01, 6.9728e-05],\n",
       "        [9.8011e-01, 2.2498e-02],\n",
       "        [8.2170e-01, 1.8874e-01],\n",
       "        [9.7814e-02, 8.9204e-01],\n",
       "        [1.0322e-01, 8.8837e-01],\n",
       "        [9.3063e-01, 7.7998e-02],\n",
       "        [9.2046e-01, 9.1910e-02],\n",
       "        [1.5234e-01, 8.3409e-01],\n",
       "        [9.9150e-01, 1.0091e-02],\n",
       "        [1.1526e-01, 8.8085e-01],\n",
       "        [9.9650e-01, 4.2110e-03],\n",
       "        [1.0944e-01, 8.9311e-01],\n",
       "        [7.1529e-01, 2.9183e-01],\n",
       "        [2.9698e-01, 7.0177e-01],\n",
       "        [8.1107e-01, 2.0550e-01],\n",
       "        [9.6573e-01, 3.8617e-02],\n",
       "        [8.8482e-02, 8.9860e-01],\n",
       "        [9.5565e-01, 5.0043e-02],\n",
       "        [8.3335e-01, 1.7870e-01],\n",
       "        [9.9749e-01, 3.1191e-03],\n",
       "        [1.5558e-01, 8.4841e-01],\n",
       "        [3.0948e-01, 6.8610e-01],\n",
       "        [9.0367e-01, 1.0653e-01],\n",
       "        [1.0385e-01, 8.9307e-01],\n",
       "        [1.4290e-01, 8.5699e-01],\n",
       "        [2.7718e-01, 7.2814e-01],\n",
       "        [5.6065e-01, 4.4025e-01],\n",
       "        [1.5487e-01, 8.4883e-01],\n",
       "        [1.0944e-01, 8.9138e-01],\n",
       "        [2.0970e-01, 7.9072e-01],\n",
       "        [8.6336e-02, 9.1379e-01],\n",
       "        [9.6600e-01, 3.8539e-02],\n",
       "        [9.9929e-01, 8.9972e-04],\n",
       "        [7.2211e-02, 9.2533e-01],\n",
       "        [1.1415e-01, 8.7932e-01],\n",
       "        [8.3822e-02, 9.1092e-01],\n",
       "        [1.0722e-01, 8.9264e-01],\n",
       "        [9.4995e-02, 9.0496e-01],\n",
       "        [6.8807e-02, 9.3048e-01],\n",
       "        [9.9484e-01, 6.1763e-03],\n",
       "        [7.5217e-02, 9.2705e-01],\n",
       "        [9.8525e-01, 1.7294e-02],\n",
       "        [1.6721e-01, 8.3347e-01],\n",
       "        [9.9222e-01, 9.0985e-03],\n",
       "        [9.5929e-01, 4.4912e-02],\n",
       "        [8.3028e-02, 9.1630e-01],\n",
       "        [3.4452e-01, 6.6224e-01],\n",
       "        [7.7379e-02, 9.1649e-01],\n",
       "        [9.8386e-01, 1.8339e-02],\n",
       "        [1.2980e-01, 8.6315e-01],\n",
       "        [9.7364e-01, 3.1049e-02],\n",
       "        [9.9914e-01, 1.1068e-03],\n",
       "        [9.9690e-01, 3.9175e-03],\n",
       "        [1.2998e-01, 8.7551e-01],\n",
       "        [9.9843e-01, 2.0020e-03],\n",
       "        [9.9995e-01, 7.1107e-05],\n",
       "        [3.8232e-01, 6.1830e-01],\n",
       "        [1.3036e-01, 8.7367e-01],\n",
       "        [1.0264e-01, 8.9279e-01],\n",
       "        [4.6511e-02, 9.5241e-01],\n",
       "        [9.9983e-01, 2.3747e-04],\n",
       "        [1.1101e-01, 8.8803e-01],\n",
       "        [9.9597e-01, 4.9739e-03],\n",
       "        [1.2667e-01, 8.7287e-01],\n",
       "        [9.2487e-01, 8.3518e-02],\n",
       "        [1.0619e-01, 8.9235e-01],\n",
       "        [4.7933e-01, 5.3126e-01],\n",
       "        [9.0449e-02, 9.0948e-01],\n",
       "        [1.5567e-01, 8.3284e-01],\n",
       "        [9.9313e-01, 8.2879e-03],\n",
       "        [9.0907e-01, 1.0196e-01],\n",
       "        [9.8927e-01, 1.2492e-02],\n",
       "        [9.7602e-01, 2.7865e-02],\n",
       "        [1.4110e-01, 8.6049e-01]], grad_fn=<SigmoidBackward0>)"
      ]
     },
     "execution_count": 35,
     "metadata": {},
     "output_type": "execute_result"
    }
   ],
   "source": [
    "test_predict"
   ]
  },
  {
   "cell_type": "code",
   "execution_count": 36,
   "id": "5d464375",
   "metadata": {
    "ExecuteTime": {
     "end_time": "2022-06-13T14:59:00.350114Z",
     "start_time": "2022-06-13T14:59:00.338817Z"
    }
   },
   "outputs": [
    {
     "data": {
      "text/plain": [
       "tensor([0, 0, 0, 0, 1, 1, 0, 0, 1, 0, 1, 0, 1, 0, 1, 0, 0, 1, 0, 0, 0, 1, 1, 0,\n",
       "        1, 1, 1, 0, 1, 1, 1, 1, 0, 0, 1, 1, 1, 1, 1, 1, 0, 1, 0, 1, 0, 0, 1, 1,\n",
       "        1, 0, 1, 0, 0, 0, 1, 0, 0, 1, 1, 1, 1, 0, 1, 0, 1, 0, 1, 1, 1, 1, 0, 0,\n",
       "        0, 0, 1])"
      ]
     },
     "execution_count": 36,
     "metadata": {},
     "output_type": "execute_result"
    }
   ],
   "source": [
    "test_predict.argmax(dim=1)"
   ]
  },
  {
   "cell_type": "code",
   "execution_count": 37,
   "id": "e891c9aa",
   "metadata": {
    "ExecuteTime": {
     "end_time": "2022-06-13T14:59:00.366150Z",
     "start_time": "2022-06-13T14:59:00.350114Z"
    }
   },
   "outputs": [
    {
     "name": "stdout",
     "output_type": "stream",
     "text": [
      "              precision    recall  f1-score   support\n",
      "\n",
      "           0       0.86      0.75      0.80        40\n",
      "           1       0.75      0.86      0.80        35\n",
      "\n",
      "    accuracy                           0.80        75\n",
      "   macro avg       0.80      0.80      0.80        75\n",
      "weighted avg       0.81      0.80      0.80        75\n",
      "\n"
     ]
    }
   ],
   "source": [
    "# 100 эпох, батч 30\n",
    "print(classification_report(y_test_tensors, torch.argmax(test_predict, dim=1)))"
   ]
  },
  {
   "cell_type": "code",
   "execution_count": 38,
   "id": "353d6379",
   "metadata": {
    "ExecuteTime": {
     "end_time": "2022-06-13T14:59:00.413890Z",
     "start_time": "2022-06-13T14:59:00.366812Z"
    }
   },
   "outputs": [],
   "source": [
    "train_predict = alexnet(X)#forward pass "
   ]
  },
  {
   "cell_type": "code",
   "execution_count": 39,
   "id": "aba447df",
   "metadata": {
    "ExecuteTime": {
     "end_time": "2022-06-13T14:59:00.429079Z",
     "start_time": "2022-06-13T14:59:00.416979Z"
    }
   },
   "outputs": [
    {
     "name": "stdout",
     "output_type": "stream",
     "text": [
      "              precision    recall  f1-score   support\n",
      "\n",
      "           0       0.77      0.71      0.74       157\n",
      "           1       0.71      0.77      0.74       143\n",
      "\n",
      "    accuracy                           0.74       300\n",
      "   macro avg       0.74      0.74      0.74       300\n",
      "weighted avg       0.74      0.74      0.74       300\n",
      "\n"
     ]
    }
   ],
   "source": [
    "# 100 эпох, батч 30\n",
    "print(classification_report(y_train_tensors, torch.argmax(train_predict, dim=1)))"
   ]
  }
 ],
 "metadata": {
  "kernelspec": {
   "display_name": "Python (ds)",
   "language": "python",
   "name": "ds"
  },
  "language_info": {
   "codemirror_mode": {
    "name": "ipython",
    "version": 3
   },
   "file_extension": ".py",
   "mimetype": "text/x-python",
   "name": "python",
   "nbconvert_exporter": "python",
   "pygments_lexer": "ipython3",
   "version": "3.9.12"
  },
  "toc": {
   "base_numbering": 1,
   "nav_menu": {},
   "number_sections": true,
   "sideBar": true,
   "skip_h1_title": false,
   "title_cell": "Table of Contents",
   "title_sidebar": "Contents",
   "toc_cell": false,
   "toc_position": {},
   "toc_section_display": true,
   "toc_window_display": false
  }
 },
 "nbformat": 4,
 "nbformat_minor": 5
}
