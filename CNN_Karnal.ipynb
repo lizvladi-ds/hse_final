{
 "cells": [
  {
   "cell_type": "code",
   "execution_count": 1,
   "id": "cf6f7080",
   "metadata": {
    "ExecuteTime": {
     "end_time": "2022-06-14T16:31:02.254026Z",
     "start_time": "2022-06-14T16:30:58.615008Z"
    }
   },
   "outputs": [],
   "source": [
    "import pandas as pd\n",
    "from sklearn.metrics import f1_score, precision_score, recall_score, classification_report\n",
    "from sklearn.model_selection import train_test_split\n",
    "from random import sample\n",
    "import os\n",
    "\n",
    "import torch #pytorch\n",
    "import torch.nn as nn\n",
    "from torch.autograd import Variable "
   ]
  },
  {
   "cell_type": "markdown",
   "id": "189d0680",
   "metadata": {},
   "source": [
    "сделать матрицу"
   ]
  },
  {
   "cell_type": "code",
   "execution_count": 2,
   "id": "e7aecc13",
   "metadata": {
    "ExecuteTime": {
     "end_time": "2022-06-14T16:31:02.320632Z",
     "start_time": "2022-06-14T16:31:02.257757Z"
    }
   },
   "outputs": [
    {
     "data": {
      "text/plain": [
       "['Dewas_NDVI.csv',\n",
       " 'Dewas_points.csv',\n",
       " 'Kaithal_NDVI.csv',\n",
       " 'Kaithal_points.csv',\n",
       " 'Karnal_NDVI.csv',\n",
       " 'Karnal_points.csv']"
      ]
     },
     "execution_count": 2,
     "metadata": {},
     "output_type": "execute_result"
    }
   ],
   "source": [
    "os.listdir('data')    "
   ]
  },
  {
   "cell_type": "code",
   "execution_count": 3,
   "id": "d86b8c49",
   "metadata": {
    "ExecuteTime": {
     "end_time": "2022-06-14T16:31:02.350983Z",
     "start_time": "2022-06-14T16:31:02.322878Z"
    }
   },
   "outputs": [],
   "source": [
    "data_points = pd.read_csv('data/Karnal_points.csv')"
   ]
  },
  {
   "cell_type": "code",
   "execution_count": 4,
   "id": "afeb444e",
   "metadata": {
    "ExecuteTime": {
     "end_time": "2022-06-14T16:31:02.426178Z",
     "start_time": "2022-06-14T16:31:02.355343Z"
    }
   },
   "outputs": [],
   "source": [
    "data_ndvi = pd.read_csv('data/Karnal_NDVI.csv')"
   ]
  },
  {
   "cell_type": "code",
   "execution_count": 5,
   "id": "a2c474ab",
   "metadata": {
    "ExecuteTime": {
     "end_time": "2022-06-14T16:31:02.504922Z",
     "start_time": "2022-06-14T16:31:02.430183Z"
    }
   },
   "outputs": [],
   "source": [
    "data = data_points.merge(data_ndvi, left_on='gfid', right_on='gfid')"
   ]
  },
  {
   "cell_type": "code",
   "execution_count": 6,
   "id": "86428c4d",
   "metadata": {
    "ExecuteTime": {
     "end_time": "2022-06-14T16:31:28.337795Z",
     "start_time": "2022-06-14T16:31:02.510144Z"
    }
   },
   "outputs": [],
   "source": [
    "data['month'] = data['date'].apply(pd.to_datetime).dt.month\n",
    "data['day'] = data['date'].apply(pd.to_datetime).dt.day"
   ]
  },
  {
   "cell_type": "code",
   "execution_count": 7,
   "id": "e758f1cb",
   "metadata": {
    "ExecuteTime": {
     "end_time": "2022-06-14T16:31:28.368929Z",
     "start_time": "2022-06-14T16:31:28.341212Z"
    }
   },
   "outputs": [
    {
     "data": {
      "text/html": [
       "<div>\n",
       "<style scoped>\n",
       "    .dataframe tbody tr th:only-of-type {\n",
       "        vertical-align: middle;\n",
       "    }\n",
       "\n",
       "    .dataframe tbody tr th {\n",
       "        vertical-align: top;\n",
       "    }\n",
       "\n",
       "    .dataframe thead th {\n",
       "        text-align: right;\n",
       "    }\n",
       "</style>\n",
       "<table border=\"1\" class=\"dataframe\">\n",
       "  <thead>\n",
       "    <tr style=\"text-align: right;\">\n",
       "      <th></th>\n",
       "      <th>gfid</th>\n",
       "      <th>datenum</th>\n",
       "      <th>date</th>\n",
       "      <th>ndvi</th>\n",
       "    </tr>\n",
       "  </thead>\n",
       "  <tbody>\n",
       "    <tr>\n",
       "      <th>0</th>\n",
       "      <td>54001</td>\n",
       "      <td>0</td>\n",
       "      <td>2020-10-20</td>\n",
       "      <td>0.737</td>\n",
       "    </tr>\n",
       "    <tr>\n",
       "      <th>1</th>\n",
       "      <td>54001</td>\n",
       "      <td>1</td>\n",
       "      <td>2020-10-21</td>\n",
       "      <td>0.727</td>\n",
       "    </tr>\n",
       "    <tr>\n",
       "      <th>2</th>\n",
       "      <td>54001</td>\n",
       "      <td>2</td>\n",
       "      <td>2020-10-22</td>\n",
       "      <td>0.714</td>\n",
       "    </tr>\n",
       "    <tr>\n",
       "      <th>3</th>\n",
       "      <td>54001</td>\n",
       "      <td>3</td>\n",
       "      <td>2020-10-23</td>\n",
       "      <td>0.697</td>\n",
       "    </tr>\n",
       "    <tr>\n",
       "      <th>4</th>\n",
       "      <td>54001</td>\n",
       "      <td>4</td>\n",
       "      <td>2020-10-24</td>\n",
       "      <td>0.676</td>\n",
       "    </tr>\n",
       "  </tbody>\n",
       "</table>\n",
       "</div>"
      ],
      "text/plain": [
       "    gfid  datenum        date   ndvi\n",
       "0  54001        0  2020-10-20  0.737\n",
       "1  54001        1  2020-10-21  0.727\n",
       "2  54001        2  2020-10-22  0.714\n",
       "3  54001        3  2020-10-23  0.697\n",
       "4  54001        4  2020-10-24  0.676"
      ]
     },
     "execution_count": 7,
     "metadata": {},
     "output_type": "execute_result"
    }
   ],
   "source": [
    "data_ndvi.head()"
   ]
  },
  {
   "cell_type": "code",
   "execution_count": 8,
   "id": "8e4f02bf",
   "metadata": {
    "ExecuteTime": {
     "end_time": "2022-06-14T16:31:28.725494Z",
     "start_time": "2022-06-14T16:31:28.399665Z"
    }
   },
   "outputs": [],
   "source": [
    "i = 1\n",
    "ids_not_full = []\n",
    "for id_ in data_points['gfid'].values:\n",
    "    shp = data_ndvi[data_ndvi['gfid'] == id_].shape[0]\n",
    "    if shp <= 160:\n",
    "        #print(id_, ' ', shp)\n",
    "        i += 1\n",
    "        ids_not_full += [id_]\n",
    "#print(i)"
   ]
  },
  {
   "cell_type": "code",
   "execution_count": 9,
   "id": "b36f497f",
   "metadata": {
    "ExecuteTime": {
     "end_time": "2022-06-14T16:31:28.803365Z",
     "start_time": "2022-06-14T16:31:28.728130Z"
    }
   },
   "outputs": [],
   "source": [
    "data2 = data[~data['gfid'].isin(ids_not_full)]"
   ]
  },
  {
   "cell_type": "code",
   "execution_count": 10,
   "id": "cc81dbb0",
   "metadata": {
    "ExecuteTime": {
     "end_time": "2022-06-14T16:31:28.819143Z",
     "start_time": "2022-06-14T16:31:28.808021Z"
    }
   },
   "outputs": [],
   "source": [
    "gfids = data2['gfid'].unique()"
   ]
  },
  {
   "cell_type": "code",
   "execution_count": 11,
   "id": "f32b0991",
   "metadata": {
    "ExecuteTime": {
     "end_time": "2022-06-14T16:31:28.849685Z",
     "start_time": "2022-06-14T16:31:28.823425Z"
    }
   },
   "outputs": [],
   "source": [
    "from numpy.random import choice"
   ]
  },
  {
   "cell_type": "code",
   "execution_count": 12,
   "id": "d47a4a50",
   "metadata": {
    "ExecuteTime": {
     "end_time": "2022-06-14T16:31:28.895949Z",
     "start_time": "2022-06-14T16:31:28.853635Z"
    }
   },
   "outputs": [],
   "source": [
    "import numpy as np"
   ]
  },
  {
   "cell_type": "code",
   "execution_count": 13,
   "id": "870f7e06",
   "metadata": {
    "ExecuteTime": {
     "end_time": "2022-06-14T16:31:28.911654Z",
     "start_time": "2022-06-14T16:31:28.900427Z"
    }
   },
   "outputs": [],
   "source": [
    "np.random.seed(42)"
   ]
  },
  {
   "cell_type": "code",
   "execution_count": 14,
   "id": "b2dc8785",
   "metadata": {
    "ExecuteTime": {
     "end_time": "2022-06-14T16:31:28.927185Z",
     "start_time": "2022-06-14T16:31:28.914866Z"
    }
   },
   "outputs": [],
   "source": [
    "np.random.shuffle(gfids)"
   ]
  },
  {
   "cell_type": "code",
   "execution_count": 15,
   "id": "32cb54de",
   "metadata": {
    "ExecuteTime": {
     "end_time": "2022-06-14T16:31:28.942715Z",
     "start_time": "2022-06-14T16:31:28.931771Z"
    }
   },
   "outputs": [],
   "source": [
    "train_ids = gfids[:210]\n",
    "test_ids = gfids[210:]"
   ]
  },
  {
   "cell_type": "code",
   "execution_count": 38,
   "id": "90b18dd1",
   "metadata": {
    "ExecuteTime": {
     "end_time": "2022-06-14T17:57:12.814580Z",
     "start_time": "2022-06-14T17:57:12.733810Z"
    }
   },
   "outputs": [],
   "source": [
    "import json\n",
    "indices = {'Karnal_train_ids':train_ids.tolist(),\n",
    " 'Karnal_test_ids':test_ids.tolist()}\n",
    "with open('Karnal_indices.json', 'w') as f:\n",
    "    json.dump(indices, f)"
   ]
  },
  {
   "cell_type": "code",
   "execution_count": 16,
   "id": "8b0240ea",
   "metadata": {
    "ExecuteTime": {
     "end_time": "2022-06-14T16:31:29.005787Z",
     "start_time": "2022-06-14T16:31:28.947747Z"
    }
   },
   "outputs": [
    {
     "data": {
      "text/html": [
       "<div>\n",
       "<style scoped>\n",
       "    .dataframe tbody tr th:only-of-type {\n",
       "        vertical-align: middle;\n",
       "    }\n",
       "\n",
       "    .dataframe tbody tr th {\n",
       "        vertical-align: top;\n",
       "    }\n",
       "\n",
       "    .dataframe thead th {\n",
       "        text-align: right;\n",
       "    }\n",
       "</style>\n",
       "<table border=\"1\" class=\"dataframe\">\n",
       "  <thead>\n",
       "    <tr style=\"text-align: right;\">\n",
       "      <th></th>\n",
       "      <th>gfid</th>\n",
       "      <th>state</th>\n",
       "      <th>district</th>\n",
       "      <th>village</th>\n",
       "      <th>lon</th>\n",
       "      <th>lat</th>\n",
       "      <th>wheat</th>\n",
       "      <th>datenum</th>\n",
       "      <th>date</th>\n",
       "      <th>ndvi</th>\n",
       "      <th>month</th>\n",
       "      <th>day</th>\n",
       "    </tr>\n",
       "  </thead>\n",
       "  <tbody>\n",
       "    <tr>\n",
       "      <th>0</th>\n",
       "      <td>54001</td>\n",
       "      <td>Haryana</td>\n",
       "      <td>Karnal</td>\n",
       "      <td>Kabulpur Khera</td>\n",
       "      <td>76.707176</td>\n",
       "      <td>29.55072</td>\n",
       "      <td>1</td>\n",
       "      <td>0</td>\n",
       "      <td>2020-10-20</td>\n",
       "      <td>0.737</td>\n",
       "      <td>10</td>\n",
       "      <td>20</td>\n",
       "    </tr>\n",
       "    <tr>\n",
       "      <th>1</th>\n",
       "      <td>54001</td>\n",
       "      <td>Haryana</td>\n",
       "      <td>Karnal</td>\n",
       "      <td>Kabulpur Khera</td>\n",
       "      <td>76.707176</td>\n",
       "      <td>29.55072</td>\n",
       "      <td>1</td>\n",
       "      <td>1</td>\n",
       "      <td>2020-10-21</td>\n",
       "      <td>0.727</td>\n",
       "      <td>10</td>\n",
       "      <td>21</td>\n",
       "    </tr>\n",
       "    <tr>\n",
       "      <th>2</th>\n",
       "      <td>54001</td>\n",
       "      <td>Haryana</td>\n",
       "      <td>Karnal</td>\n",
       "      <td>Kabulpur Khera</td>\n",
       "      <td>76.707176</td>\n",
       "      <td>29.55072</td>\n",
       "      <td>1</td>\n",
       "      <td>2</td>\n",
       "      <td>2020-10-22</td>\n",
       "      <td>0.714</td>\n",
       "      <td>10</td>\n",
       "      <td>22</td>\n",
       "    </tr>\n",
       "    <tr>\n",
       "      <th>3</th>\n",
       "      <td>54001</td>\n",
       "      <td>Haryana</td>\n",
       "      <td>Karnal</td>\n",
       "      <td>Kabulpur Khera</td>\n",
       "      <td>76.707176</td>\n",
       "      <td>29.55072</td>\n",
       "      <td>1</td>\n",
       "      <td>3</td>\n",
       "      <td>2020-10-23</td>\n",
       "      <td>0.697</td>\n",
       "      <td>10</td>\n",
       "      <td>23</td>\n",
       "    </tr>\n",
       "    <tr>\n",
       "      <th>4</th>\n",
       "      <td>54001</td>\n",
       "      <td>Haryana</td>\n",
       "      <td>Karnal</td>\n",
       "      <td>Kabulpur Khera</td>\n",
       "      <td>76.707176</td>\n",
       "      <td>29.55072</td>\n",
       "      <td>1</td>\n",
       "      <td>4</td>\n",
       "      <td>2020-10-24</td>\n",
       "      <td>0.676</td>\n",
       "      <td>10</td>\n",
       "      <td>24</td>\n",
       "    </tr>\n",
       "  </tbody>\n",
       "</table>\n",
       "</div>"
      ],
      "text/plain": [
       "    gfid     state district         village        lon       lat  wheat  \\\n",
       "0  54001  Haryana   Karnal   Kabulpur Khera  76.707176  29.55072      1   \n",
       "1  54001  Haryana   Karnal   Kabulpur Khera  76.707176  29.55072      1   \n",
       "2  54001  Haryana   Karnal   Kabulpur Khera  76.707176  29.55072      1   \n",
       "3  54001  Haryana   Karnal   Kabulpur Khera  76.707176  29.55072      1   \n",
       "4  54001  Haryana   Karnal   Kabulpur Khera  76.707176  29.55072      1   \n",
       "\n",
       "   datenum        date   ndvi  month  day  \n",
       "0        0  2020-10-20  0.737     10   20  \n",
       "1        1  2020-10-21  0.727     10   21  \n",
       "2        2  2020-10-22  0.714     10   22  \n",
       "3        3  2020-10-23  0.697     10   23  \n",
       "4        4  2020-10-24  0.676     10   24  "
      ]
     },
     "execution_count": 16,
     "metadata": {},
     "output_type": "execute_result"
    }
   ],
   "source": [
    "data2.head()"
   ]
  },
  {
   "cell_type": "code",
   "execution_count": 17,
   "id": "fc453285",
   "metadata": {
    "ExecuteTime": {
     "end_time": "2022-06-14T16:31:29.127267Z",
     "start_time": "2022-06-14T16:31:29.009767Z"
    }
   },
   "outputs": [],
   "source": [
    "data2 = data2.dropna()"
   ]
  },
  {
   "cell_type": "code",
   "execution_count": 18,
   "id": "695dc8d6",
   "metadata": {
    "ExecuteTime": {
     "end_time": "2022-06-14T16:31:29.142083Z",
     "start_time": "2022-06-14T16:31:29.131952Z"
    }
   },
   "outputs": [
    {
     "data": {
      "text/plain": [
       "(53505, 12)"
      ]
     },
     "execution_count": 18,
     "metadata": {},
     "output_type": "execute_result"
    }
   ],
   "source": [
    "data2.shape"
   ]
  },
  {
   "cell_type": "code",
   "execution_count": 19,
   "id": "00b3c94f",
   "metadata": {
    "ExecuteTime": {
     "end_time": "2022-06-14T16:31:29.173550Z",
     "start_time": "2022-06-14T16:31:29.146104Z"
    }
   },
   "outputs": [
    {
     "data": {
      "text/plain": [
       "(53505, 12)"
      ]
     },
     "execution_count": 19,
     "metadata": {},
     "output_type": "execute_result"
    }
   ],
   "source": [
    "data2.shape"
   ]
  },
  {
   "cell_type": "code",
   "execution_count": 20,
   "id": "dce70b13",
   "metadata": {
    "ExecuteTime": {
     "end_time": "2022-06-14T16:31:29.235957Z",
     "start_time": "2022-06-14T16:31:29.177538Z"
    }
   },
   "outputs": [],
   "source": [
    "for i in (3, 5, 7, 9):\n",
    "    data2[f'ndvi_{i}'] = data2['ndvi'].rolling(i).mean()"
   ]
  },
  {
   "cell_type": "code",
   "execution_count": 21,
   "id": "33f7bf95",
   "metadata": {
    "ExecuteTime": {
     "end_time": "2022-06-14T16:31:37.895884Z",
     "start_time": "2022-06-14T16:31:29.239761Z"
    }
   },
   "outputs": [],
   "source": [
    "datasets_train = []\n",
    "datasets_test = []\n",
    "y_train = []\n",
    "y_test = []\n",
    "for _ in gfids:\n",
    "    rolling_data = []\n",
    "    rolling_data.append(data2[data2['gfid']==_]['ndvi'].iloc[4:])\n",
    "    for i in range(2, 11):\n",
    "        rolling_data.append(data2[data2['gfid']==_]['ndvi'].rolling(i).mean())\n",
    "    data_1_rolling = pd.concat(rolling_data, axis=1)\n",
    "    data_1_rolling = data_1_rolling.dropna()\n",
    "    data_1_rolling.columns = ['ndvi'] + [f'ndvi_{i}' for i in range(2,11)]\n",
    "    if _ in train_ids:\n",
    "        datasets_train.append(data_1_rolling[:150].values.reshape(15,10,10))\n",
    "        y_train += [data_points.loc[data_points['gfid'] == _, 'wheat'].iloc[0]]\n",
    "    else:\n",
    "        datasets_test.append(data_1_rolling[:150].values.reshape(15,10,10))\n",
    "        y_test += [data_points.loc[data_points['gfid'] == _, 'wheat'].iloc[0]]"
   ]
  },
  {
   "cell_type": "code",
   "execution_count": 22,
   "id": "3465e581",
   "metadata": {
    "ExecuteTime": {
     "end_time": "2022-06-14T16:31:37.928008Z",
     "start_time": "2022-06-14T16:31:37.898939Z"
    }
   },
   "outputs": [],
   "source": [
    "data_train = torch.stack([torch.Tensor(dataset) for dataset in datasets_train])\n",
    "data_test = torch.stack([torch.Tensor(dataset) for dataset in datasets_test])"
   ]
  },
  {
   "cell_type": "code",
   "execution_count": 23,
   "id": "5182aa1d",
   "metadata": {
    "ExecuteTime": {
     "end_time": "2022-06-14T16:31:37.960956Z",
     "start_time": "2022-06-14T16:31:37.935480Z"
    }
   },
   "outputs": [],
   "source": [
    "def calc_out(h_in, w_in, ker, pad=0, stride=1):\n",
    "    h_out = (h_in + 2 * pad - (ker - 1) - 1) / (stride) + 1\n",
    "    w_out = (w_in + 2 * pad - (ker - 1) - 1) / (stride) + 1\n",
    "    return h_out, w_out"
   ]
  },
  {
   "cell_type": "code",
   "execution_count": 24,
   "id": "659549a8",
   "metadata": {
    "ExecuteTime": {
     "end_time": "2022-06-14T16:31:38.004737Z",
     "start_time": "2022-06-14T16:31:37.964591Z"
    }
   },
   "outputs": [],
   "source": [
    "class AlexNet(nn.Module):\n",
    "    def __init__(self, num_classes):\n",
    "        super().__init__()\n",
    "        self.num_classes = num_classes  #number of classes\n",
    "        \n",
    "        super().__init__()\n",
    "        self.net = nn.Sequential(\n",
    "            nn.Conv2d(in_channels=15, out_channels=30, kernel_size=2, stride=2, padding=1),  # (b x 30 x 6 x 6)\n",
    "            nn.ReLU(),\n",
    "            nn.Conv2d(30, 64, 2, padding=0, stride=1),  # (b x 64 x 5 x 5)\n",
    "            nn.ReLU(),\n",
    "            nn.MaxPool2d(kernel_size=2, stride=1, padding=0),  # (b x 64 x 4 x 4)\n",
    "        )\n",
    "        # classifier is just a name for linear layers\n",
    "        self.classifier = nn.Sequential(\n",
    "            nn.Dropout(p=0.1, inplace=True),\n",
    "            nn.Linear(in_features=(64 * 4 * 4), out_features=256),\n",
    "            nn.ReLU(),\n",
    "            #nn.Dropout(p=0.5, inplace=True),\n",
    "            #nn.Linear(in_features=256, out_features=256),\n",
    "            #nn.ReLU(),\n",
    "            nn.Linear(in_features=256, out_features=num_classes),\n",
    "            nn.Sigmoid()\n",
    "        )\n",
    "        #self.init_bias()\n",
    "\n",
    "    def init_bias(self):\n",
    "        for layer in self.net:\n",
    "            if isinstance(layer, nn.Conv2d):\n",
    "                nn.init.normal_(layer.weight, mean=0, std=0.01)\n",
    "                nn.init.constant_(layer.bias, 0)\n",
    "        # original paper = 1 for Conv2d layers 2nd, 4th, and 5th conv layers\n",
    "        nn.init.constant_(self.net[0].bias, 1)\n",
    "        nn.init.constant_(self.net[2].bias, 1)\n",
    "        #nn.init.constant_(self.net[4].bias, 1)\n",
    "\n",
    "    def forward(self, x):\n",
    "        \"\"\"\n",
    "        Pass the input through the net.\n",
    "        Args:\n",
    "            x (Tensor): input tensor\n",
    "        Returns:\n",
    "            output (Tensor): output tensor\n",
    "        \"\"\"\n",
    "        x = self.net(x)\n",
    "        x = x.view(-1, 64 * 4 * 4)  # reduce the dimensions for linear layer input\n",
    "        return self.classifier(x)"
   ]
  },
  {
   "cell_type": "code",
   "execution_count": 25,
   "id": "cc12c06a",
   "metadata": {
    "ExecuteTime": {
     "end_time": "2022-06-14T16:31:38.036538Z",
     "start_time": "2022-06-14T16:31:38.007759Z"
    }
   },
   "outputs": [],
   "source": [
    "alexnet = AlexNet(num_classes=2)"
   ]
  },
  {
   "cell_type": "code",
   "execution_count": 26,
   "id": "cd100dfc",
   "metadata": {
    "ExecuteTime": {
     "end_time": "2022-06-14T16:31:38.051755Z",
     "start_time": "2022-06-14T16:31:38.040904Z"
    }
   },
   "outputs": [],
   "source": [
    "criterion = torch.nn.CrossEntropyLoss() \n",
    "optimizer = torch.optim.Adam(params=alexnet.parameters(), lr=0.0001)#1, weight_decay=0.5)"
   ]
  },
  {
   "cell_type": "code",
   "execution_count": 27,
   "id": "a362f55e",
   "metadata": {
    "ExecuteTime": {
     "end_time": "2022-06-14T16:31:38.067202Z",
     "start_time": "2022-06-14T16:31:38.056521Z"
    }
   },
   "outputs": [
    {
     "data": {
      "text/plain": [
       "<torch.autograd.anomaly_mode.set_detect_anomaly at 0x2062e7f8cd0>"
      ]
     },
     "execution_count": 27,
     "metadata": {},
     "output_type": "execute_result"
    }
   ],
   "source": [
    "torch.autograd.set_detect_anomaly(True)"
   ]
  },
  {
   "cell_type": "code",
   "execution_count": 28,
   "id": "8798c788",
   "metadata": {
    "ExecuteTime": {
     "end_time": "2022-06-14T16:31:38.113889Z",
     "start_time": "2022-06-14T16:31:38.071909Z"
    }
   },
   "outputs": [],
   "source": [
    "y_train_tensors = Variable(torch.Tensor(y_train))\n",
    "y_test_tensors = Variable(torch.Tensor(y_test))\n",
    "\n",
    "y_train_tensors = y_train_tensors.type(torch.LongTensor)\n",
    "y_test_tensors = y_test_tensors.type(torch.LongTensor)"
   ]
  },
  {
   "cell_type": "code",
   "execution_count": 29,
   "id": "adaf010e",
   "metadata": {
    "ExecuteTime": {
     "end_time": "2022-06-14T16:31:38.149444Z",
     "start_time": "2022-06-14T16:31:38.118138Z"
    }
   },
   "outputs": [],
   "source": [
    "X = data_train\n",
    "y = y_train_tensors"
   ]
  },
  {
   "cell_type": "code",
   "execution_count": 30,
   "id": "05f0d4e5",
   "metadata": {
    "ExecuteTime": {
     "end_time": "2022-06-14T16:34:53.556283Z",
     "start_time": "2022-06-14T16:31:38.159633Z"
    },
    "scrolled": true
   },
   "outputs": [
    {
     "name": "stdout",
     "output_type": "stream",
     "text": [
      "Epoch: 0, loss: 0.68764\n",
      "Epoch: 1, loss: 0.68002\n",
      "Epoch: 2, loss: 0.66706\n",
      "Epoch: 3, loss: 0.66474\n",
      "Epoch: 4, loss: 0.63459\n",
      "Epoch: 5, loss: 0.67130\n",
      "Epoch: 6, loss: 0.69843\n",
      "Epoch: 7, loss: 0.60335\n",
      "Epoch: 8, loss: 0.65880\n",
      "Epoch: 9, loss: 0.67332\n",
      "Epoch: 10, loss: 0.69289\n",
      "Epoch: 11, loss: 0.65328\n",
      "Epoch: 12, loss: 0.63858\n",
      "Epoch: 13, loss: 0.65802\n",
      "Epoch: 14, loss: 0.58473\n",
      "Epoch: 15, loss: 0.69700\n",
      "Epoch: 16, loss: 0.54818\n",
      "Epoch: 17, loss: 0.64417\n",
      "Epoch: 18, loss: 0.57673\n",
      "Epoch: 19, loss: 0.63045\n",
      "Epoch: 20, loss: 0.65611\n",
      "Epoch: 21, loss: 0.57766\n",
      "Epoch: 22, loss: 0.66180\n",
      "Epoch: 23, loss: 0.55005\n",
      "Epoch: 24, loss: 0.67641\n",
      "Epoch: 25, loss: 0.66162\n",
      "Epoch: 26, loss: 0.65080\n",
      "Epoch: 27, loss: 0.57474\n",
      "Epoch: 28, loss: 0.65237\n",
      "Epoch: 29, loss: 0.59092\n",
      "Epoch: 30, loss: 0.55369\n",
      "Epoch: 31, loss: 0.59799\n",
      "Epoch: 32, loss: 0.60253\n",
      "Epoch: 33, loss: 0.62969\n",
      "Epoch: 34, loss: 0.63220\n",
      "Epoch: 35, loss: 0.61305\n",
      "Epoch: 36, loss: 0.57766\n",
      "Epoch: 37, loss: 0.63832\n",
      "Epoch: 38, loss: 0.61999\n",
      "Epoch: 39, loss: 0.64186\n",
      "Epoch: 40, loss: 0.50225\n",
      "Epoch: 41, loss: 0.68884\n",
      "Epoch: 42, loss: 0.62161\n",
      "Epoch: 43, loss: 0.69270\n",
      "Epoch: 44, loss: 0.53732\n",
      "Epoch: 45, loss: 0.56738\n",
      "Epoch: 46, loss: 0.66948\n",
      "Epoch: 47, loss: 0.51138\n",
      "Epoch: 48, loss: 0.58578\n",
      "Epoch: 49, loss: 0.59528\n",
      "Epoch: 50, loss: 0.61264\n",
      "Epoch: 51, loss: 0.57796\n",
      "Epoch: 52, loss: 0.56746\n",
      "Epoch: 53, loss: 0.64033\n",
      "Epoch: 54, loss: 0.58333\n",
      "Epoch: 55, loss: 0.73323\n",
      "Epoch: 56, loss: 0.48271\n",
      "Epoch: 57, loss: 0.57880\n",
      "Epoch: 58, loss: 0.65900\n",
      "Epoch: 59, loss: 0.68189\n",
      "Epoch: 60, loss: 0.58839\n",
      "Epoch: 61, loss: 0.59412\n",
      "Epoch: 62, loss: 0.59722\n",
      "Epoch: 63, loss: 0.63802\n",
      "Epoch: 64, loss: 0.58624\n",
      "Epoch: 65, loss: 0.61810\n",
      "Epoch: 66, loss: 0.53436\n",
      "Epoch: 67, loss: 0.53518\n",
      "Epoch: 68, loss: 0.69286\n",
      "Epoch: 69, loss: 0.54518\n",
      "Epoch: 70, loss: 0.59758\n",
      "Epoch: 71, loss: 0.54395\n",
      "Epoch: 72, loss: 0.62577\n",
      "Epoch: 73, loss: 0.57722\n",
      "Epoch: 74, loss: 0.51664\n",
      "Epoch: 75, loss: 0.53856\n",
      "Epoch: 76, loss: 0.56979\n",
      "Epoch: 77, loss: 0.60359\n",
      "Epoch: 78, loss: 0.54223\n",
      "Epoch: 79, loss: 0.56258\n",
      "Epoch: 80, loss: 0.54813\n",
      "Epoch: 81, loss: 0.58119\n",
      "Epoch: 82, loss: 0.55900\n",
      "Epoch: 83, loss: 0.58277\n",
      "Epoch: 84, loss: 0.58131\n",
      "Epoch: 85, loss: 0.44361\n",
      "Epoch: 86, loss: 0.58123\n",
      "Epoch: 87, loss: 0.55571\n",
      "Epoch: 88, loss: 0.54907\n",
      "Epoch: 89, loss: 0.54997\n",
      "Epoch: 90, loss: 0.66884\n",
      "Epoch: 91, loss: 0.53162\n",
      "Epoch: 92, loss: 0.51214\n",
      "Epoch: 93, loss: 0.58367\n",
      "Epoch: 94, loss: 0.61695\n",
      "Epoch: 95, loss: 0.55179\n",
      "Epoch: 96, loss: 0.62513\n",
      "Epoch: 97, loss: 0.50138\n",
      "Epoch: 98, loss: 0.63679\n",
      "Epoch: 99, loss: 0.59883\n"
     ]
    }
   ],
   "source": [
    "n_epochs = 100  # or whatever\n",
    "batch_size = 30  # or whatever\n",
    "\n",
    "for epoch in range(n_epochs):\n",
    "\n",
    "    # X is a torch Variable\n",
    "    permutation = torch.randperm(X.size()[0])\n",
    "\n",
    "    for i in range(0, X.size()[0], batch_size):\n",
    "        optimizer.zero_grad()\n",
    "\n",
    "        indices = permutation[i:i + batch_size]\n",
    "        batch_x, batch_y = X[indices], y[indices]\n",
    "\n",
    "        outputs = alexnet.forward(batch_x) #forward pass\n",
    "        #optimizer.zero_grad() #caluclate the gradient, manually setting to 0\n",
    "\n",
    "        # obtain the loss function\n",
    "        loss = criterion(outputs, batch_y)\n",
    "        loss.backward() #calculates the loss of the loss function\n",
    "\n",
    "        optimizer.step() #improve from loss, i.e backprop\n",
    "    print(\"Epoch: %d, loss: %1.5f\" % (epoch, loss.item())) "
   ]
  },
  {
   "cell_type": "code",
   "execution_count": 31,
   "id": "68b3b17e",
   "metadata": {
    "ExecuteTime": {
     "end_time": "2022-06-14T16:34:53.588077Z",
     "start_time": "2022-06-14T16:34:53.560045Z"
    }
   },
   "outputs": [],
   "source": [
    "X_test_tensors = data_test"
   ]
  },
  {
   "cell_type": "code",
   "execution_count": 32,
   "id": "af81c214",
   "metadata": {
    "ExecuteTime": {
     "end_time": "2022-06-14T16:34:53.708927Z",
     "start_time": "2022-06-14T16:34:53.589574Z"
    }
   },
   "outputs": [],
   "source": [
    "test_predict = alexnet(X_test_tensors)#forward pass "
   ]
  },
  {
   "cell_type": "code",
   "execution_count": 33,
   "id": "9982e9e4",
   "metadata": {
    "ExecuteTime": {
     "end_time": "2022-06-14T16:34:53.739461Z",
     "start_time": "2022-06-14T16:34:53.713279Z"
    }
   },
   "outputs": [
    {
     "data": {
      "text/plain": [
       "tensor([[0.8886, 0.0902],\n",
       "        [0.0236, 0.9702],\n",
       "        [0.1137, 0.8567],\n",
       "        [0.0113, 0.9860],\n",
       "        [0.0198, 0.9765],\n",
       "        [0.0320, 0.9641],\n",
       "        [0.6066, 0.3818],\n",
       "        [0.0506, 0.9438],\n",
       "        [0.0416, 0.9545],\n",
       "        [0.0276, 0.9682],\n",
       "        [0.9685, 0.0234],\n",
       "        [0.1966, 0.7947],\n",
       "        [0.3676, 0.6209],\n",
       "        [0.1403, 0.8543],\n",
       "        [0.7726, 0.2199],\n",
       "        [0.0463, 0.9492],\n",
       "        [0.0273, 0.9680],\n",
       "        [0.7387, 0.2615],\n",
       "        [0.9491, 0.0387],\n",
       "        [0.8994, 0.0860],\n",
       "        [0.0773, 0.9150],\n",
       "        [0.7253, 0.2250],\n",
       "        [0.0970, 0.8977],\n",
       "        [0.1113, 0.8721],\n",
       "        [0.0165, 0.9794],\n",
       "        [0.0975, 0.8922],\n",
       "        [0.0161, 0.9808],\n",
       "        [0.0348, 0.9577],\n",
       "        [0.9262, 0.0592],\n",
       "        [0.3079, 0.6780],\n",
       "        [0.0035, 0.9955],\n",
       "        [0.2176, 0.7780],\n",
       "        [0.0489, 0.9435],\n",
       "        [0.2888, 0.6559],\n",
       "        [0.0244, 0.9731],\n",
       "        [0.0295, 0.9672],\n",
       "        [0.7530, 0.2458],\n",
       "        [0.0169, 0.9808],\n",
       "        [0.0170, 0.9801],\n",
       "        [0.9578, 0.0329],\n",
       "        [0.0221, 0.9740],\n",
       "        [0.0055, 0.9929],\n",
       "        [0.9386, 0.0496],\n",
       "        [0.0278, 0.9671],\n",
       "        [0.9244, 0.0608],\n",
       "        [0.0337, 0.9634],\n",
       "        [0.9283, 0.0657],\n",
       "        [0.9754, 0.0180],\n",
       "        [0.1498, 0.8468],\n",
       "        [0.7388, 0.2579],\n",
       "        [0.0324, 0.9647],\n",
       "        [0.1479, 0.8393],\n",
       "        [0.0086, 0.9899],\n",
       "        [0.0771, 0.9135],\n",
       "        [0.0392, 0.9534],\n",
       "        [0.9630, 0.0268],\n",
       "        [0.6744, 0.3160],\n",
       "        [0.0906, 0.9041]], grad_fn=<SigmoidBackward0>)"
      ]
     },
     "execution_count": 33,
     "metadata": {},
     "output_type": "execute_result"
    }
   ],
   "source": [
    "test_predict"
   ]
  },
  {
   "cell_type": "code",
   "execution_count": 34,
   "id": "5d464375",
   "metadata": {
    "ExecuteTime": {
     "end_time": "2022-06-14T16:34:53.770132Z",
     "start_time": "2022-06-14T16:34:53.742806Z"
    }
   },
   "outputs": [
    {
     "data": {
      "text/plain": [
       "tensor([0, 1, 1, 1, 1, 1, 0, 1, 1, 1, 0, 1, 1, 1, 0, 1, 1, 0, 0, 0, 1, 0, 1, 1,\n",
       "        1, 1, 1, 1, 0, 1, 1, 1, 1, 1, 1, 1, 0, 1, 1, 0, 1, 1, 0, 1, 0, 1, 0, 0,\n",
       "        1, 0, 1, 1, 1, 1, 1, 0, 0, 1])"
      ]
     },
     "execution_count": 34,
     "metadata": {},
     "output_type": "execute_result"
    }
   ],
   "source": [
    "test_predict.argmax(dim=1)"
   ]
  },
  {
   "cell_type": "code",
   "execution_count": 35,
   "id": "e891c9aa",
   "metadata": {
    "ExecuteTime": {
     "end_time": "2022-06-14T16:34:53.801212Z",
     "start_time": "2022-06-14T16:34:53.772765Z"
    }
   },
   "outputs": [
    {
     "name": "stdout",
     "output_type": "stream",
     "text": [
      "              precision    recall  f1-score   support\n",
      "\n",
      "           0       0.67      0.60      0.63        20\n",
      "           1       0.80      0.84      0.82        38\n",
      "\n",
      "    accuracy                           0.76        58\n",
      "   macro avg       0.73      0.72      0.73        58\n",
      "weighted avg       0.75      0.76      0.76        58\n",
      "\n"
     ]
    }
   ],
   "source": [
    "# 100 эпох, батч 30\n",
    "print(classification_report(y_test_tensors, torch.argmax(test_predict, dim=1)))"
   ]
  },
  {
   "cell_type": "code",
   "execution_count": 36,
   "id": "353d6379",
   "metadata": {
    "ExecuteTime": {
     "end_time": "2022-06-14T16:34:53.969834Z",
     "start_time": "2022-06-14T16:34:53.804224Z"
    }
   },
   "outputs": [],
   "source": [
    "train_predict = alexnet(X)#forward pass "
   ]
  },
  {
   "cell_type": "code",
   "execution_count": 37,
   "id": "aba447df",
   "metadata": {
    "ExecuteTime": {
     "end_time": "2022-06-14T16:34:54.001845Z",
     "start_time": "2022-06-14T16:34:53.971333Z"
    }
   },
   "outputs": [
    {
     "name": "stdout",
     "output_type": "stream",
     "text": [
      "              precision    recall  f1-score   support\n",
      "\n",
      "           0       0.71      0.59      0.65        88\n",
      "           1       0.74      0.83      0.78       122\n",
      "\n",
      "    accuracy                           0.73       210\n",
      "   macro avg       0.72      0.71      0.71       210\n",
      "weighted avg       0.73      0.73      0.72       210\n",
      "\n"
     ]
    }
   ],
   "source": [
    "# 100 эпох, батч 30\n",
    "print(classification_report(y_train_tensors, torch.argmax(train_predict, dim=1)))"
   ]
  }
 ],
 "metadata": {
  "kernelspec": {
   "display_name": "Python (ds)",
   "language": "python",
   "name": "ds"
  },
  "language_info": {
   "codemirror_mode": {
    "name": "ipython",
    "version": 3
   },
   "file_extension": ".py",
   "mimetype": "text/x-python",
   "name": "python",
   "nbconvert_exporter": "python",
   "pygments_lexer": "ipython3",
   "version": "3.9.12"
  },
  "toc": {
   "base_numbering": 1,
   "nav_menu": {},
   "number_sections": true,
   "sideBar": true,
   "skip_h1_title": false,
   "title_cell": "Table of Contents",
   "title_sidebar": "Contents",
   "toc_cell": false,
   "toc_position": {},
   "toc_section_display": true,
   "toc_window_display": false
  }
 },
 "nbformat": 4,
 "nbformat_minor": 5
}
