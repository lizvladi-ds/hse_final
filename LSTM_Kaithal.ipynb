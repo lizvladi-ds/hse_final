{
 "cells": [
  {
   "cell_type": "code",
   "execution_count": 27,
   "id": "cf6f7080",
   "metadata": {
    "ExecuteTime": {
     "end_time": "2022-06-29T20:08:27.184486Z",
     "start_time": "2022-06-29T20:08:27.178467Z"
    }
   },
   "outputs": [],
   "source": [
    "import os\n",
    "import pandas as pd\n",
    "import torch\n",
    "import torch.nn as nn\n",
    "\n",
    "from random import sample\n",
    "from sklearn.metrics import f1_score, roc_auc_score, classification_report\n",
    "from sklearn.model_selection import train_test_split\n",
    "from torch.autograd import Variable "
   ]
  },
  {
   "cell_type": "code",
   "execution_count": 2,
   "id": "91d2cf6c",
   "metadata": {
    "ExecuteTime": {
     "end_time": "2022-06-29T20:05:41.410333Z",
     "start_time": "2022-06-29T20:05:41.397054Z"
    }
   },
   "outputs": [],
   "source": [
    "district ='Kaithal'"
   ]
  },
  {
   "cell_type": "code",
   "execution_count": 3,
   "id": "e7aecc13",
   "metadata": {
    "ExecuteTime": {
     "end_time": "2022-06-29T20:05:41.441091Z",
     "start_time": "2022-06-29T20:05:41.413133Z"
    }
   },
   "outputs": [
    {
     "data": {
      "text/plain": [
       "['Dewas_NDVI.csv',\n",
       " 'Dewas_points.csv',\n",
       " 'Kaithal_NDVI.csv',\n",
       " 'Kaithal_points.csv',\n",
       " 'Karnal_NDVI.csv',\n",
       " 'Karnal_points.csv']"
      ]
     },
     "execution_count": 3,
     "metadata": {},
     "output_type": "execute_result"
    }
   ],
   "source": [
    "os.listdir('data')    "
   ]
  },
  {
   "cell_type": "code",
   "execution_count": 4,
   "id": "d86b8c49",
   "metadata": {
    "ExecuteTime": {
     "end_time": "2022-06-29T20:05:41.456445Z",
     "start_time": "2022-06-29T20:05:41.445182Z"
    }
   },
   "outputs": [],
   "source": [
    "data_points = pd.read_csv(f'data/{district}_points.csv')"
   ]
  },
  {
   "cell_type": "code",
   "execution_count": 5,
   "id": "afeb444e",
   "metadata": {
    "ExecuteTime": {
     "end_time": "2022-06-29T20:05:41.487576Z",
     "start_time": "2022-06-29T20:05:41.458574Z"
    }
   },
   "outputs": [],
   "source": [
    "data_ndvi = pd.read_csv(f'data/{district}_NDVI.csv')"
   ]
  },
  {
   "cell_type": "code",
   "execution_count": 6,
   "id": "a2c474ab",
   "metadata": {
    "ExecuteTime": {
     "end_time": "2022-06-29T20:05:41.518850Z",
     "start_time": "2022-06-29T20:05:41.490520Z"
    }
   },
   "outputs": [],
   "source": [
    "data = data_points.merge(data_ndvi, left_on='gfid', right_on='gfid')"
   ]
  },
  {
   "cell_type": "code",
   "execution_count": 7,
   "id": "86428c4d",
   "metadata": {
    "ExecuteTime": {
     "end_time": "2022-06-29T20:05:41.550226Z",
     "start_time": "2022-06-29T20:05:41.521629Z"
    }
   },
   "outputs": [
    {
     "data": {
      "text/html": [
       "<div>\n",
       "<style scoped>\n",
       "    .dataframe tbody tr th:only-of-type {\n",
       "        vertical-align: middle;\n",
       "    }\n",
       "\n",
       "    .dataframe tbody tr th {\n",
       "        vertical-align: top;\n",
       "    }\n",
       "\n",
       "    .dataframe thead th {\n",
       "        text-align: right;\n",
       "    }\n",
       "</style>\n",
       "<table border=\"1\" class=\"dataframe\">\n",
       "  <thead>\n",
       "    <tr style=\"text-align: right;\">\n",
       "      <th></th>\n",
       "      <th>gfid</th>\n",
       "      <th>state</th>\n",
       "      <th>district</th>\n",
       "      <th>village</th>\n",
       "      <th>lon</th>\n",
       "      <th>lat</th>\n",
       "      <th>wheat</th>\n",
       "      <th>datenum</th>\n",
       "      <th>date</th>\n",
       "      <th>ndvi</th>\n",
       "    </tr>\n",
       "  </thead>\n",
       "  <tbody>\n",
       "    <tr>\n",
       "      <th>0</th>\n",
       "      <td>52001</td>\n",
       "      <td>Haryana</td>\n",
       "      <td>Kaithal</td>\n",
       "      <td>Sirghar</td>\n",
       "      <td>76.420677</td>\n",
       "      <td>29.782459</td>\n",
       "      <td>1</td>\n",
       "      <td>0</td>\n",
       "      <td>2020-10-20</td>\n",
       "      <td>0.238</td>\n",
       "    </tr>\n",
       "    <tr>\n",
       "      <th>1</th>\n",
       "      <td>52001</td>\n",
       "      <td>Haryana</td>\n",
       "      <td>Kaithal</td>\n",
       "      <td>Sirghar</td>\n",
       "      <td>76.420677</td>\n",
       "      <td>29.782459</td>\n",
       "      <td>1</td>\n",
       "      <td>1</td>\n",
       "      <td>2020-10-21</td>\n",
       "      <td>0.235</td>\n",
       "    </tr>\n",
       "    <tr>\n",
       "      <th>2</th>\n",
       "      <td>52001</td>\n",
       "      <td>Haryana</td>\n",
       "      <td>Kaithal</td>\n",
       "      <td>Sirghar</td>\n",
       "      <td>76.420677</td>\n",
       "      <td>29.782459</td>\n",
       "      <td>1</td>\n",
       "      <td>2</td>\n",
       "      <td>2020-10-22</td>\n",
       "      <td>0.233</td>\n",
       "    </tr>\n",
       "    <tr>\n",
       "      <th>3</th>\n",
       "      <td>52001</td>\n",
       "      <td>Haryana</td>\n",
       "      <td>Kaithal</td>\n",
       "      <td>Sirghar</td>\n",
       "      <td>76.420677</td>\n",
       "      <td>29.782459</td>\n",
       "      <td>1</td>\n",
       "      <td>3</td>\n",
       "      <td>2020-10-23</td>\n",
       "      <td>0.231</td>\n",
       "    </tr>\n",
       "    <tr>\n",
       "      <th>4</th>\n",
       "      <td>52001</td>\n",
       "      <td>Haryana</td>\n",
       "      <td>Kaithal</td>\n",
       "      <td>Sirghar</td>\n",
       "      <td>76.420677</td>\n",
       "      <td>29.782459</td>\n",
       "      <td>1</td>\n",
       "      <td>4</td>\n",
       "      <td>2020-10-24</td>\n",
       "      <td>0.228</td>\n",
       "    </tr>\n",
       "  </tbody>\n",
       "</table>\n",
       "</div>"
      ],
      "text/plain": [
       "    gfid     state  district  village        lon        lat  wheat  datenum  \\\n",
       "0  52001  Haryana   Kaithal   Sirghar  76.420677  29.782459      1        0   \n",
       "1  52001  Haryana   Kaithal   Sirghar  76.420677  29.782459      1        1   \n",
       "2  52001  Haryana   Kaithal   Sirghar  76.420677  29.782459      1        2   \n",
       "3  52001  Haryana   Kaithal   Sirghar  76.420677  29.782459      1        3   \n",
       "4  52001  Haryana   Kaithal   Sirghar  76.420677  29.782459      1        4   \n",
       "\n",
       "         date   ndvi  \n",
       "0  2020-10-20  0.238  \n",
       "1  2020-10-21  0.235  \n",
       "2  2020-10-22  0.233  \n",
       "3  2020-10-23  0.231  \n",
       "4  2020-10-24  0.228  "
      ]
     },
     "execution_count": 7,
     "metadata": {},
     "output_type": "execute_result"
    }
   ],
   "source": [
    "data.head()"
   ]
  },
  {
   "cell_type": "code",
   "execution_count": 8,
   "id": "e758f1cb",
   "metadata": {
    "ExecuteTime": {
     "end_time": "2022-06-29T20:05:41.565449Z",
     "start_time": "2022-06-29T20:05:41.552475Z"
    }
   },
   "outputs": [
    {
     "data": {
      "text/html": [
       "<div>\n",
       "<style scoped>\n",
       "    .dataframe tbody tr th:only-of-type {\n",
       "        vertical-align: middle;\n",
       "    }\n",
       "\n",
       "    .dataframe tbody tr th {\n",
       "        vertical-align: top;\n",
       "    }\n",
       "\n",
       "    .dataframe thead th {\n",
       "        text-align: right;\n",
       "    }\n",
       "</style>\n",
       "<table border=\"1\" class=\"dataframe\">\n",
       "  <thead>\n",
       "    <tr style=\"text-align: right;\">\n",
       "      <th></th>\n",
       "      <th>gfid</th>\n",
       "      <th>datenum</th>\n",
       "      <th>date</th>\n",
       "      <th>ndvi</th>\n",
       "    </tr>\n",
       "  </thead>\n",
       "  <tbody>\n",
       "    <tr>\n",
       "      <th>0</th>\n",
       "      <td>52001</td>\n",
       "      <td>0</td>\n",
       "      <td>2020-10-20</td>\n",
       "      <td>0.238</td>\n",
       "    </tr>\n",
       "    <tr>\n",
       "      <th>1</th>\n",
       "      <td>52001</td>\n",
       "      <td>1</td>\n",
       "      <td>2020-10-21</td>\n",
       "      <td>0.235</td>\n",
       "    </tr>\n",
       "    <tr>\n",
       "      <th>2</th>\n",
       "      <td>52001</td>\n",
       "      <td>2</td>\n",
       "      <td>2020-10-22</td>\n",
       "      <td>0.233</td>\n",
       "    </tr>\n",
       "    <tr>\n",
       "      <th>3</th>\n",
       "      <td>52001</td>\n",
       "      <td>3</td>\n",
       "      <td>2020-10-23</td>\n",
       "      <td>0.231</td>\n",
       "    </tr>\n",
       "    <tr>\n",
       "      <th>4</th>\n",
       "      <td>52001</td>\n",
       "      <td>4</td>\n",
       "      <td>2020-10-24</td>\n",
       "      <td>0.228</td>\n",
       "    </tr>\n",
       "  </tbody>\n",
       "</table>\n",
       "</div>"
      ],
      "text/plain": [
       "    gfid  datenum        date   ndvi\n",
       "0  52001        0  2020-10-20  0.238\n",
       "1  52001        1  2020-10-21  0.235\n",
       "2  52001        2  2020-10-22  0.233\n",
       "3  52001        3  2020-10-23  0.231\n",
       "4  52001        4  2020-10-24  0.228"
      ]
     },
     "execution_count": 8,
     "metadata": {},
     "output_type": "execute_result"
    }
   ],
   "source": [
    "data_ndvi.head()"
   ]
  },
  {
   "cell_type": "code",
   "execution_count": 9,
   "id": "e5490efd",
   "metadata": {
    "ExecuteTime": {
     "end_time": "2022-06-29T20:05:41.581046Z",
     "start_time": "2022-06-29T20:05:41.568370Z"
    }
   },
   "outputs": [],
   "source": [
    "with open(f'{district}.json') as json_file:\n",
    "    indices= json.load(json_file)\n",
    "train = indices['train']\n",
    "test = indices['test']"
   ]
  },
  {
   "cell_type": "code",
   "execution_count": 10,
   "id": "2da8aeff",
   "metadata": {
    "ExecuteTime": {
     "end_time": "2022-06-29T20:05:41.596927Z",
     "start_time": "2022-06-29T20:05:41.584125Z"
    }
   },
   "outputs": [],
   "source": [
    "features = ['ndvi']\n",
    "target = ['wheat']"
   ]
  },
  {
   "cell_type": "code",
   "execution_count": 11,
   "id": "6167afc8",
   "metadata": {
    "ExecuteTime": {
     "end_time": "2022-06-29T20:05:41.860452Z",
     "start_time": "2022-06-29T20:05:41.599877Z"
    }
   },
   "outputs": [],
   "source": [
    "X_train = []\n",
    "X_test = []\n",
    "for id_ in train:\n",
    "    d = data.loc[data['gfid']==id_, features].iloc[:150]\n",
    "    X_train.append(d)\n",
    "for id_ in test:\n",
    "    d = data.loc[data['gfid']==id_, features].iloc[:150]\n",
    "    X_test.append(d)\n",
    "X_train = pd.concat(X_train)\n",
    "X_test = pd.concat(X_test)"
   ]
  },
  {
   "cell_type": "code",
   "execution_count": 12,
   "id": "4ce24f53",
   "metadata": {
    "ExecuteTime": {
     "end_time": "2022-06-29T20:05:41.876523Z",
     "start_time": "2022-06-29T20:05:41.863351Z"
    }
   },
   "outputs": [],
   "source": [
    "h_1 = len(train)\n",
    "h_2 = len(test)\n",
    "w = 150\n",
    "c = len(features)\n",
    "\n",
    "X_train_tensors = Variable(torch.Tensor(X_train.values.reshape(h_1, w, c)))\n",
    "X_test_tensors = Variable(torch.Tensor(X_test.values.reshape(h_2, w, c)))\n",
    "\n",
    "y_train_tensors = Variable(torch.Tensor(data_points.loc[data_points['gfid'].isin(train), 'wheat'].values))\n",
    "y_test_tensors = Variable(torch.Tensor(data_points.loc[data_points['gfid'].isin(test), 'wheat'].values)) \n",
    "\n",
    "y_train_tensors = y_train_tensors.type(torch.LongTensor)\n",
    "y_test_tensors = y_test_tensors.type(torch.LongTensor)"
   ]
  },
  {
   "cell_type": "code",
   "execution_count": 13,
   "id": "9561bd74",
   "metadata": {
    "ExecuteTime": {
     "end_time": "2022-06-29T20:05:41.892660Z",
     "start_time": "2022-06-29T20:05:41.880524Z"
    }
   },
   "outputs": [],
   "source": [
    "class LSTM1(nn.Module):\n",
    "    def __init__(self, num_classes, input_size, hidden_size, num_layers,\n",
    "                 seq_length):\n",
    "        super(LSTM1, self).__init__()\n",
    "        self.num_classes = num_classes\n",
    "        self.num_layers = num_layers\n",
    "        self.input_size = input_size\n",
    "        self.hidden_size = hidden_size\n",
    "        self.seq_length = seq_length\n",
    "\n",
    "        self.lstm = nn.LSTM(input_size=input_size,\n",
    "                            hidden_size=hidden_size,\n",
    "                            num_layers=num_layers,\n",
    "                            batch_first=True)\n",
    "        \n",
    "        self.classifier = nn.Sequential(\n",
    "            nn.Dropout(p=0.3, inplace=True),\n",
    "            nn.Linear(in_features=(hidden_size), out_features=64),\n",
    "            nn.ReLU(),\n",
    "            nn.Linear(in_features=64, out_features=num_classes),\n",
    "            nn.Sigmoid()\n",
    "        )\n",
    "    def forward(self, x):\n",
    "        h_0 = Variable(\n",
    "            torch.zeros(self.num_layers, x.size(0), self.hidden_size))\n",
    "        c_0 = Variable(\n",
    "            torch.zeros(self.num_layers, x.size(0), self.hidden_size))\n",
    "        output, (hn, cn) = self.lstm(x, (h_0, c_0))\n",
    "        hn = hn.view(-1, self.hidden_size)\n",
    "        out = self.classifier(hn)\n",
    "        return out"
   ]
  },
  {
   "cell_type": "code",
   "execution_count": 14,
   "id": "ccac640d",
   "metadata": {
    "ExecuteTime": {
     "end_time": "2022-06-29T20:05:41.908521Z",
     "start_time": "2022-06-29T20:05:41.894660Z"
    }
   },
   "outputs": [],
   "source": [
    "input_size = len(features) #number of features\n",
    "hidden_size = 32 #number of features in hidden state\n",
    "num_layers = 1 #number of stacked lstm layers\n",
    "\n",
    "num_classes = 2 #number of output classes \n",
    "batch_size = 10"
   ]
  },
  {
   "cell_type": "code",
   "execution_count": 15,
   "id": "cc12c06a",
   "metadata": {
    "ExecuteTime": {
     "end_time": "2022-06-29T20:05:41.923741Z",
     "start_time": "2022-06-29T20:05:41.910904Z"
    }
   },
   "outputs": [],
   "source": [
    "lstm1 = LSTM1(num_classes, input_size, hidden_size, num_layers, X_train_tensors.shape[1]) #our lstm class"
   ]
  },
  {
   "cell_type": "code",
   "execution_count": 16,
   "id": "cd100dfc",
   "metadata": {
    "ExecuteTime": {
     "end_time": "2022-06-29T20:05:41.939201Z",
     "start_time": "2022-06-29T20:05:41.925741Z"
    }
   },
   "outputs": [],
   "source": [
    "criterion = torch.nn.CrossEntropyLoss() \n",
    "optimizer = torch.optim.SGD(lstm1.parameters(), lr=0.001, momentum=0.9)"
   ]
  },
  {
   "cell_type": "code",
   "execution_count": 17,
   "id": "8e3d220a",
   "metadata": {
    "ExecuteTime": {
     "end_time": "2022-06-29T20:05:59.256277Z",
     "start_time": "2022-06-29T20:05:41.941744Z"
    }
   },
   "outputs": [
    {
     "name": "stdout",
     "output_type": "stream",
     "text": [
      "Epoch: 0, loss: 0.69265\n",
      "Epoch: 10, loss: 0.69255\n",
      "Epoch: 20, loss: 0.69233\n",
      "Epoch: 30, loss: 0.69261\n",
      "Epoch: 40, loss: 0.69246\n",
      "Epoch: 50, loss: 0.69247\n",
      "Epoch: 60, loss: 0.69242\n",
      "Epoch: 70, loss: 0.69253\n",
      "Epoch: 80, loss: 0.69267\n",
      "Epoch: 90, loss: 0.69260\n"
     ]
    }
   ],
   "source": [
    "num_epochs = 100\n",
    "for epoch in range(num_epochs):\n",
    "    \n",
    "    optimizer.zero_grad() #caluclate the gradient, manually setting to 0\n",
    "    outputs = lstm1.forward(X_train_tensors) #forward pass\n",
    "\n",
    "    # obtain the loss function\n",
    "    loss = criterion(outputs, y_train_tensors)\n",
    "    loss.backward() #calculates the loss of the loss function\n",
    "\n",
    "    optimizer.step() #improve from loss, i.e backprop\n",
    "    if epoch % 10 == 0:\n",
    "        print(\"Epoch: %d, loss: %1.5f\" % (epoch, loss.item())) "
   ]
  },
  {
   "cell_type": "code",
   "execution_count": 18,
   "id": "af81c214",
   "metadata": {
    "ExecuteTime": {
     "end_time": "2022-06-29T20:05:59.348895Z",
     "start_time": "2022-06-29T20:05:59.259211Z"
    }
   },
   "outputs": [],
   "source": [
    "train_predict = lstm1(X_train_tensors)#forward pass "
   ]
  },
  {
   "cell_type": "code",
   "execution_count": 19,
   "id": "6d31d108",
   "metadata": {
    "ExecuteTime": {
     "end_time": "2022-06-29T20:05:59.379222Z",
     "start_time": "2022-06-29T20:05:59.350890Z"
    }
   },
   "outputs": [
    {
     "data": {
      "text/plain": [
       "tensor([[0.4884, 0.5046],\n",
       "        [0.4877, 0.5085],\n",
       "        [0.4826, 0.5057],\n",
       "        [0.4861, 0.5059],\n",
       "        [0.4850, 0.5030],\n",
       "        [0.4821, 0.5032],\n",
       "        [0.4812, 0.5045],\n",
       "        [0.4830, 0.5050],\n",
       "        [0.4815, 0.5054],\n",
       "        [0.4849, 0.5063],\n",
       "        [0.4852, 0.5067],\n",
       "        [0.4788, 0.5018],\n",
       "        [0.4859, 0.5054],\n",
       "        [0.4836, 0.5096],\n",
       "        [0.4861, 0.5103],\n",
       "        [0.4811, 0.5058],\n",
       "        [0.4811, 0.5073],\n",
       "        [0.4870, 0.5056],\n",
       "        [0.4827, 0.5057],\n",
       "        [0.4860, 0.5060],\n",
       "        [0.4834, 0.5066],\n",
       "        [0.4842, 0.5091],\n",
       "        [0.4848, 0.5052],\n",
       "        [0.4819, 0.5076],\n",
       "        [0.4861, 0.5070],\n",
       "        [0.4819, 0.5029],\n",
       "        [0.4809, 0.5035],\n",
       "        [0.4842, 0.5092],\n",
       "        [0.4889, 0.5059],\n",
       "        [0.4822, 0.5056],\n",
       "        [0.4828, 0.5073],\n",
       "        [0.4803, 0.5043],\n",
       "        [0.4829, 0.5050],\n",
       "        [0.4896, 0.5032],\n",
       "        [0.4781, 0.5043],\n",
       "        [0.4849, 0.5078],\n",
       "        [0.4814, 0.5050],\n",
       "        [0.4897, 0.5033],\n",
       "        [0.4915, 0.5073],\n",
       "        [0.4875, 0.5074],\n",
       "        [0.4807, 0.5047],\n",
       "        [0.4850, 0.5072],\n",
       "        [0.4813, 0.5065],\n",
       "        [0.4866, 0.5070],\n",
       "        [0.4839, 0.5085],\n",
       "        [0.4820, 0.5065],\n",
       "        [0.4808, 0.5078],\n",
       "        [0.4904, 0.5049],\n",
       "        [0.4878, 0.5052],\n",
       "        [0.4851, 0.5096],\n",
       "        [0.4809, 0.5056],\n",
       "        [0.4889, 0.5042],\n",
       "        [0.4875, 0.5073],\n",
       "        [0.4848, 0.5096],\n",
       "        [0.4834, 0.5046],\n",
       "        [0.4862, 0.5030],\n",
       "        [0.4800, 0.5038],\n",
       "        [0.4840, 0.5077],\n",
       "        [0.4861, 0.5052],\n",
       "        [0.4847, 0.5064],\n",
       "        [0.4861, 0.5082],\n",
       "        [0.4835, 0.5106],\n",
       "        [0.4839, 0.5118],\n",
       "        [0.4868, 0.5044],\n",
       "        [0.4852, 0.5083],\n",
       "        [0.4846, 0.5101],\n",
       "        [0.4817, 0.5060],\n",
       "        [0.4906, 0.5020],\n",
       "        [0.4847, 0.5085],\n",
       "        [0.4818, 0.5030],\n",
       "        [0.4861, 0.5058],\n",
       "        [0.4796, 0.5083],\n",
       "        [0.4832, 0.5067],\n",
       "        [0.4881, 0.5024],\n",
       "        [0.4834, 0.5040],\n",
       "        [0.4859, 0.5068],\n",
       "        [0.4873, 0.5014],\n",
       "        [0.4807, 0.5010],\n",
       "        [0.4856, 0.5072],\n",
       "        [0.4877, 0.5056],\n",
       "        [0.4832, 0.5097],\n",
       "        [0.4893, 0.5043],\n",
       "        [0.4863, 0.5058],\n",
       "        [0.4811, 0.5075],\n",
       "        [0.4830, 0.5037],\n",
       "        [0.4857, 0.5048],\n",
       "        [0.4857, 0.5062],\n",
       "        [0.4841, 0.5058],\n",
       "        [0.4841, 0.5028],\n",
       "        [0.4914, 0.5047],\n",
       "        [0.4828, 0.5042],\n",
       "        [0.4854, 0.5085],\n",
       "        [0.4851, 0.5075],\n",
       "        [0.4822, 0.5078],\n",
       "        [0.4881, 0.5004],\n",
       "        [0.4896, 0.5072],\n",
       "        [0.4837, 0.5037],\n",
       "        [0.4847, 0.5039],\n",
       "        [0.4833, 0.5053],\n",
       "        [0.4854, 0.5046],\n",
       "        [0.4851, 0.5036],\n",
       "        [0.4843, 0.5088],\n",
       "        [0.4863, 0.5048],\n",
       "        [0.4828, 0.5046],\n",
       "        [0.4813, 0.5069],\n",
       "        [0.4819, 0.5080],\n",
       "        [0.4880, 0.5052],\n",
       "        [0.4861, 0.5104],\n",
       "        [0.4869, 0.5065],\n",
       "        [0.4888, 0.5066],\n",
       "        [0.4850, 0.5052],\n",
       "        [0.4807, 0.5026],\n",
       "        [0.4814, 0.5035],\n",
       "        [0.4870, 0.5058],\n",
       "        [0.4839, 0.5079],\n",
       "        [0.4863, 0.5028],\n",
       "        [0.4855, 0.5030],\n",
       "        [0.4837, 0.5056],\n",
       "        [0.4829, 0.5041],\n",
       "        [0.4904, 0.5070],\n",
       "        [0.4794, 0.5041],\n",
       "        [0.4872, 0.5040],\n",
       "        [0.4854, 0.5073],\n",
       "        [0.4831, 0.5039],\n",
       "        [0.4846, 0.5086],\n",
       "        [0.4858, 0.5045],\n",
       "        [0.4821, 0.5041],\n",
       "        [0.4801, 0.5025],\n",
       "        [0.4833, 0.5035],\n",
       "        [0.4851, 0.5061],\n",
       "        [0.4831, 0.5079],\n",
       "        [0.4799, 0.5056],\n",
       "        [0.4888, 0.5035],\n",
       "        [0.4831, 0.5034],\n",
       "        [0.4862, 0.5026],\n",
       "        [0.4869, 0.5013],\n",
       "        [0.4846, 0.5059],\n",
       "        [0.4882, 0.5053],\n",
       "        [0.4832, 0.5053],\n",
       "        [0.4859, 0.5043],\n",
       "        [0.4851, 0.5076],\n",
       "        [0.4844, 0.5084],\n",
       "        [0.4848, 0.5060],\n",
       "        [0.4814, 0.5068],\n",
       "        [0.4833, 0.5068],\n",
       "        [0.4804, 0.5074],\n",
       "        [0.4849, 0.5082],\n",
       "        [0.4854, 0.5074],\n",
       "        [0.4863, 0.5045],\n",
       "        [0.4845, 0.5081]], grad_fn=<SigmoidBackward0>)"
      ]
     },
     "execution_count": 19,
     "metadata": {},
     "output_type": "execute_result"
    }
   ],
   "source": [
    "train_predict"
   ]
  },
  {
   "cell_type": "code",
   "execution_count": 20,
   "id": "5d464375",
   "metadata": {
    "ExecuteTime": {
     "end_time": "2022-06-29T20:05:59.394487Z",
     "start_time": "2022-06-29T20:05:59.382224Z"
    }
   },
   "outputs": [
    {
     "data": {
      "text/plain": [
       "tensor([1, 1, 1, 1, 1, 1, 1, 1, 1, 1, 1, 1, 1, 1, 1, 1, 1, 1, 1, 1, 1, 1, 1, 1,\n",
       "        1, 1, 1, 1, 1, 1, 1, 1, 1, 1, 1, 1, 1, 1, 1, 1, 1, 1, 1, 1, 1, 1, 1, 1,\n",
       "        1, 1, 1, 1, 1, 1, 1, 1, 1, 1, 1, 1, 1, 1, 1, 1, 1, 1, 1, 1, 1, 1, 1, 1,\n",
       "        1, 1, 1, 1, 1, 1, 1, 1, 1, 1, 1, 1, 1, 1, 1, 1, 1, 1, 1, 1, 1, 1, 1, 1,\n",
       "        1, 1, 1, 1, 1, 1, 1, 1, 1, 1, 1, 1, 1, 1, 1, 1, 1, 1, 1, 1, 1, 1, 1, 1,\n",
       "        1, 1, 1, 1, 1, 1, 1, 1, 1, 1, 1, 1, 1, 1, 1, 1, 1, 1, 1, 1, 1, 1, 1, 1,\n",
       "        1, 1, 1, 1, 1, 1])"
      ]
     },
     "execution_count": 20,
     "metadata": {},
     "output_type": "execute_result"
    }
   ],
   "source": [
    "train_predict.argmax(dim=1)"
   ]
  },
  {
   "cell_type": "code",
   "execution_count": 21,
   "id": "e891c9aa",
   "metadata": {
    "ExecuteTime": {
     "end_time": "2022-06-29T20:05:59.424990Z",
     "start_time": "2022-06-29T20:05:59.397566Z"
    }
   },
   "outputs": [
    {
     "name": "stdout",
     "output_type": "stream",
     "text": [
      "              precision    recall  f1-score   support\n",
      "\n",
      "           0       0.00      0.00      0.00        70\n",
      "           1       0.53      1.00      0.70        80\n",
      "\n",
      "    accuracy                           0.53       150\n",
      "   macro avg       0.27      0.50      0.35       150\n",
      "weighted avg       0.28      0.53      0.37       150\n",
      "\n"
     ]
    },
    {
     "name": "stderr",
     "output_type": "stream",
     "text": [
      "C:\\Users\\60104252\\Anaconda3\\envs\\ds\\lib\\site-packages\\sklearn\\metrics\\_classification.py:1248: UndefinedMetricWarning: Precision and F-score are ill-defined and being set to 0.0 in labels with no predicted samples. Use `zero_division` parameter to control this behavior.\n",
      "  _warn_prf(average, modifier, msg_start, len(result))\n",
      "C:\\Users\\60104252\\Anaconda3\\envs\\ds\\lib\\site-packages\\sklearn\\metrics\\_classification.py:1248: UndefinedMetricWarning: Precision and F-score are ill-defined and being set to 0.0 in labels with no predicted samples. Use `zero_division` parameter to control this behavior.\n",
      "  _warn_prf(average, modifier, msg_start, len(result))\n",
      "C:\\Users\\60104252\\Anaconda3\\envs\\ds\\lib\\site-packages\\sklearn\\metrics\\_classification.py:1248: UndefinedMetricWarning: Precision and F-score are ill-defined and being set to 0.0 in labels with no predicted samples. Use `zero_division` parameter to control this behavior.\n",
      "  _warn_prf(average, modifier, msg_start, len(result))\n"
     ]
    }
   ],
   "source": [
    "print(classification_report(y_train_tensors, torch.argmax(train_predict, dim=1)))"
   ]
  },
  {
   "cell_type": "code",
   "execution_count": 22,
   "id": "113f2237",
   "metadata": {
    "ExecuteTime": {
     "end_time": "2022-06-29T20:05:59.478972Z",
     "start_time": "2022-06-29T20:05:59.426985Z"
    }
   },
   "outputs": [],
   "source": [
    "test_predict = lstm1.forward(X_test_tensors)"
   ]
  },
  {
   "cell_type": "code",
   "execution_count": 23,
   "id": "48c7fc67",
   "metadata": {
    "ExecuteTime": {
     "end_time": "2022-06-29T20:05:59.494204Z",
     "start_time": "2022-06-29T20:05:59.482073Z"
    }
   },
   "outputs": [
    {
     "data": {
      "text/plain": [
       "tensor([1, 1, 1, 1, 1, 1, 1, 1, 1, 1, 1, 1, 1, 1, 1, 1, 1, 1, 1, 1, 1, 1, 1, 1,\n",
       "        1, 1, 1, 1, 1, 1, 1, 1, 1, 1, 1, 1, 1, 1, 1, 1, 1, 1])"
      ]
     },
     "execution_count": 23,
     "metadata": {},
     "output_type": "execute_result"
    }
   ],
   "source": [
    "test_predict.argmax(dim=1)"
   ]
  },
  {
   "cell_type": "code",
   "execution_count": 24,
   "id": "795bc406",
   "metadata": {
    "ExecuteTime": {
     "end_time": "2022-06-29T20:05:59.509915Z",
     "start_time": "2022-06-29T20:05:59.496206Z"
    }
   },
   "outputs": [
    {
     "name": "stdout",
     "output_type": "stream",
     "text": [
      "              precision    recall  f1-score   support\n",
      "\n",
      "           0       0.00      0.00      0.00        18\n",
      "           1       0.57      1.00      0.73        24\n",
      "\n",
      "    accuracy                           0.57        42\n",
      "   macro avg       0.29      0.50      0.36        42\n",
      "weighted avg       0.33      0.57      0.42        42\n",
      "\n"
     ]
    },
    {
     "name": "stderr",
     "output_type": "stream",
     "text": [
      "C:\\Users\\60104252\\Anaconda3\\envs\\ds\\lib\\site-packages\\sklearn\\metrics\\_classification.py:1248: UndefinedMetricWarning: Precision and F-score are ill-defined and being set to 0.0 in labels with no predicted samples. Use `zero_division` parameter to control this behavior.\n",
      "  _warn_prf(average, modifier, msg_start, len(result))\n",
      "C:\\Users\\60104252\\Anaconda3\\envs\\ds\\lib\\site-packages\\sklearn\\metrics\\_classification.py:1248: UndefinedMetricWarning: Precision and F-score are ill-defined and being set to 0.0 in labels with no predicted samples. Use `zero_division` parameter to control this behavior.\n",
      "  _warn_prf(average, modifier, msg_start, len(result))\n",
      "C:\\Users\\60104252\\Anaconda3\\envs\\ds\\lib\\site-packages\\sklearn\\metrics\\_classification.py:1248: UndefinedMetricWarning: Precision and F-score are ill-defined and being set to 0.0 in labels with no predicted samples. Use `zero_division` parameter to control this behavior.\n",
      "  _warn_prf(average, modifier, msg_start, len(result))\n"
     ]
    }
   ],
   "source": [
    "print(classification_report(y_test_tensors, torch.argmax(test_predict, dim=1)))"
   ]
  },
  {
   "cell_type": "code",
   "execution_count": 28,
   "id": "a8a7ac4e",
   "metadata": {
    "ExecuteTime": {
     "end_time": "2022-06-29T20:09:39.074814Z",
     "start_time": "2022-06-29T20:09:39.060811Z"
    }
   },
   "outputs": [
    {
     "data": {
      "text/plain": [
       "0.5"
      ]
     },
     "execution_count": 28,
     "metadata": {},
     "output_type": "execute_result"
    }
   ],
   "source": [
    "roc_auc_score(y_test_tensors, torch.argmax(test_predict, dim=1))"
   ]
  }
 ],
 "metadata": {
  "kernelspec": {
   "display_name": "Python (ds)",
   "language": "python",
   "name": "ds"
  },
  "language_info": {
   "codemirror_mode": {
    "name": "ipython",
    "version": 3
   },
   "file_extension": ".py",
   "mimetype": "text/x-python",
   "name": "python",
   "nbconvert_exporter": "python",
   "pygments_lexer": "ipython3",
   "version": "3.9.12"
  },
  "toc": {
   "base_numbering": 1,
   "nav_menu": {},
   "number_sections": true,
   "sideBar": true,
   "skip_h1_title": false,
   "title_cell": "Table of Contents",
   "title_sidebar": "Contents",
   "toc_cell": false,
   "toc_position": {},
   "toc_section_display": true,
   "toc_window_display": false
  }
 },
 "nbformat": 4,
 "nbformat_minor": 5
}
