{
 "cells": [
  {
   "cell_type": "code",
   "execution_count": 1,
   "id": "ef740468",
   "metadata": {
    "ExecuteTime": {
     "end_time": "2022-06-13T13:15:55.831112Z",
     "start_time": "2022-06-13T13:15:54.462708Z"
    }
   },
   "outputs": [],
   "source": [
    "import os\n",
    "import pandas as pd\n",
    "import seaborn as sns\n",
    "import warnings\n",
    "\n",
    "from catboost import CatBoostClassifier\n",
    "from sklearn.metrics import classification_report\n",
    "from sklearn.model_selection import train_test_split\n",
    "from statsmodels.tsa.arima.model import ARIMA"
   ]
  },
  {
   "cell_type": "code",
   "execution_count": 2,
   "id": "066bd7c7",
   "metadata": {
    "ExecuteTime": {
     "end_time": "2022-06-13T13:15:55.846111Z",
     "start_time": "2022-06-13T13:15:55.832056Z"
    }
   },
   "outputs": [],
   "source": [
    "warnings.filterwarnings('ignore')"
   ]
  },
  {
   "cell_type": "code",
   "execution_count": 3,
   "id": "ce7d7713",
   "metadata": {
    "ExecuteTime": {
     "end_time": "2022-06-13T13:15:55.861558Z",
     "start_time": "2022-06-13T13:15:55.848450Z"
    }
   },
   "outputs": [],
   "source": [
    "sns.set_theme()\n",
    "sns.set_palette('Paired')"
   ]
  },
  {
   "cell_type": "code",
   "execution_count": 4,
   "id": "1395a3f5",
   "metadata": {
    "ExecuteTime": {
     "end_time": "2022-06-13T13:15:55.877454Z",
     "start_time": "2022-06-13T13:15:55.862250Z"
    }
   },
   "outputs": [
    {
     "data": {
      "text/plain": [
       "['Dewas_NDVI.csv',\n",
       " 'Dewas_points.csv',\n",
       " 'Kaithal_NDVI.csv',\n",
       " 'Kaithal_points.csv',\n",
       " 'Karnal_NDVI.csv',\n",
       " 'Karnal_points.csv']"
      ]
     },
     "execution_count": 4,
     "metadata": {},
     "output_type": "execute_result"
    }
   ],
   "source": [
    "os.listdir('data')    "
   ]
  },
  {
   "cell_type": "code",
   "execution_count": 5,
   "id": "c28cbf5a",
   "metadata": {
    "ExecuteTime": {
     "end_time": "2022-06-13T13:15:55.892506Z",
     "start_time": "2022-06-13T13:15:55.879224Z"
    }
   },
   "outputs": [],
   "source": [
    "districts = ['Dewas', 'Kaithal', 'Karnal']"
   ]
  },
  {
   "cell_type": "code",
   "execution_count": 6,
   "id": "53b9b613",
   "metadata": {
    "ExecuteTime": {
     "end_time": "2022-06-13T13:15:55.907946Z",
     "start_time": "2022-06-13T13:15:55.893917Z"
    }
   },
   "outputs": [],
   "source": [
    "indices = {'Dewas':{}, 'Kaithal':{}, 'Karnal':{}}"
   ]
  },
  {
   "cell_type": "code",
   "execution_count": 7,
   "id": "8e55dcad",
   "metadata": {
    "ExecuteTime": {
     "end_time": "2022-06-13T13:15:56.017855Z",
     "start_time": "2022-06-13T13:15:55.909135Z"
    }
   },
   "outputs": [],
   "source": [
    "data = dict(zip(districts, [{}, {}, {}]))\n",
    "for district in districts:\n",
    "    points = pd.read_csv(f'data/{district}_points.csv')\n",
    "    ndvi = pd.read_csv(f'data/{district}_NDVI.csv')\n",
    "    data[district]['points'] = points\n",
    "    data[district]['NDVI'] = ndvi\n",
    "    data[district]['merged'] = points.merge(ndvi, left_on='gfid', right_on='gfid')"
   ]
  },
  {
   "cell_type": "code",
   "execution_count": 8,
   "id": "b100190b",
   "metadata": {
    "ExecuteTime": {
     "end_time": "2022-06-13T13:15:56.033360Z",
     "start_time": "2022-06-13T13:15:56.019205Z"
    }
   },
   "outputs": [
    {
     "data": {
      "text/html": [
       "<div>\n",
       "<style scoped>\n",
       "    .dataframe tbody tr th:only-of-type {\n",
       "        vertical-align: middle;\n",
       "    }\n",
       "\n",
       "    .dataframe tbody tr th {\n",
       "        vertical-align: top;\n",
       "    }\n",
       "\n",
       "    .dataframe thead th {\n",
       "        text-align: right;\n",
       "    }\n",
       "</style>\n",
       "<table border=\"1\" class=\"dataframe\">\n",
       "  <thead>\n",
       "    <tr style=\"text-align: right;\">\n",
       "      <th></th>\n",
       "      <th>gfid</th>\n",
       "      <th>state</th>\n",
       "      <th>district</th>\n",
       "      <th>village</th>\n",
       "      <th>lon</th>\n",
       "      <th>lat</th>\n",
       "      <th>wheat</th>\n",
       "      <th>datenum</th>\n",
       "      <th>date</th>\n",
       "      <th>ndvi</th>\n",
       "    </tr>\n",
       "  </thead>\n",
       "  <tbody>\n",
       "    <tr>\n",
       "      <th>0</th>\n",
       "      <td>72001</td>\n",
       "      <td>Madhya Pradesh</td>\n",
       "      <td>Dewas</td>\n",
       "      <td>VijayaganjMandi</td>\n",
       "      <td>75.96199</td>\n",
       "      <td>23.218479</td>\n",
       "      <td>0</td>\n",
       "      <td>0</td>\n",
       "      <td>2020-10-20</td>\n",
       "      <td>0.186</td>\n",
       "    </tr>\n",
       "    <tr>\n",
       "      <th>1</th>\n",
       "      <td>72001</td>\n",
       "      <td>Madhya Pradesh</td>\n",
       "      <td>Dewas</td>\n",
       "      <td>VijayaganjMandi</td>\n",
       "      <td>75.96199</td>\n",
       "      <td>23.218479</td>\n",
       "      <td>0</td>\n",
       "      <td>1</td>\n",
       "      <td>2020-10-21</td>\n",
       "      <td>0.184</td>\n",
       "    </tr>\n",
       "    <tr>\n",
       "      <th>2</th>\n",
       "      <td>72001</td>\n",
       "      <td>Madhya Pradesh</td>\n",
       "      <td>Dewas</td>\n",
       "      <td>VijayaganjMandi</td>\n",
       "      <td>75.96199</td>\n",
       "      <td>23.218479</td>\n",
       "      <td>0</td>\n",
       "      <td>2</td>\n",
       "      <td>2020-10-22</td>\n",
       "      <td>0.183</td>\n",
       "    </tr>\n",
       "    <tr>\n",
       "      <th>3</th>\n",
       "      <td>72001</td>\n",
       "      <td>Madhya Pradesh</td>\n",
       "      <td>Dewas</td>\n",
       "      <td>VijayaganjMandi</td>\n",
       "      <td>75.96199</td>\n",
       "      <td>23.218479</td>\n",
       "      <td>0</td>\n",
       "      <td>3</td>\n",
       "      <td>2020-10-23</td>\n",
       "      <td>0.182</td>\n",
       "    </tr>\n",
       "    <tr>\n",
       "      <th>4</th>\n",
       "      <td>72001</td>\n",
       "      <td>Madhya Pradesh</td>\n",
       "      <td>Dewas</td>\n",
       "      <td>VijayaganjMandi</td>\n",
       "      <td>75.96199</td>\n",
       "      <td>23.218479</td>\n",
       "      <td>0</td>\n",
       "      <td>4</td>\n",
       "      <td>2020-10-24</td>\n",
       "      <td>0.181</td>\n",
       "    </tr>\n",
       "  </tbody>\n",
       "</table>\n",
       "</div>"
      ],
      "text/plain": [
       "    gfid            state district          village       lon        lat  \\\n",
       "0  72001  Madhya Pradesh    Dewas   VijayaganjMandi  75.96199  23.218479   \n",
       "1  72001  Madhya Pradesh    Dewas   VijayaganjMandi  75.96199  23.218479   \n",
       "2  72001  Madhya Pradesh    Dewas   VijayaganjMandi  75.96199  23.218479   \n",
       "3  72001  Madhya Pradesh    Dewas   VijayaganjMandi  75.96199  23.218479   \n",
       "4  72001  Madhya Pradesh    Dewas   VijayaganjMandi  75.96199  23.218479   \n",
       "\n",
       "   wheat  datenum        date   ndvi  \n",
       "0      0        0  2020-10-20  0.186  \n",
       "1      0        1  2020-10-21  0.184  \n",
       "2      0        2  2020-10-22  0.183  \n",
       "3      0        3  2020-10-23  0.182  \n",
       "4      0        4  2020-10-24  0.181  "
      ]
     },
     "execution_count": 8,
     "metadata": {},
     "output_type": "execute_result"
    }
   ],
   "source": [
    "data['Dewas']['merged'].head()"
   ]
  },
  {
   "cell_type": "markdown",
   "id": "e8bf91ac",
   "metadata": {},
   "source": [
    "# Dewas"
   ]
  },
  {
   "cell_type": "code",
   "execution_count": 9,
   "id": "efb38262",
   "metadata": {
    "ExecuteTime": {
     "end_time": "2022-06-13T13:20:00.412110Z",
     "start_time": "2022-06-13T13:15:56.037391Z"
    }
   },
   "outputs": [],
   "source": [
    "dewas_prepared = {}\n",
    "for gfid in set(data['Dewas']['merged']['gfid']):\n",
    "    d = data['Dewas']['merged'].loc[data['Dewas']['merged']['gfid']==gfid, 'ndvi'].copy()\n",
    "    arima = ARIMA(d, order=(5, 1, 5)).fit()\n",
    "    dewas_prepared[gfid] = arima.params.values"
   ]
  },
  {
   "cell_type": "code",
   "execution_count": 10,
   "id": "66c81438",
   "metadata": {
    "ExecuteTime": {
     "end_time": "2022-06-13T13:20:00.443394Z",
     "start_time": "2022-06-13T13:20:00.412110Z"
    }
   },
   "outputs": [],
   "source": [
    "dewas_prepared = pd.DataFrame(dewas_prepared).T\n",
    "dewas_prepared = dewas_prepared.sort_index()"
   ]
  },
  {
   "cell_type": "code",
   "execution_count": 11,
   "id": "f437021d",
   "metadata": {
    "ExecuteTime": {
     "end_time": "2022-06-13T13:20:00.459071Z",
     "start_time": "2022-06-13T13:20:00.443394Z"
    }
   },
   "outputs": [],
   "source": [
    "target = data['Dewas']['points'][['wheat', 'gfid']]"
   ]
  },
  {
   "cell_type": "code",
   "execution_count": 12,
   "id": "9c029ac3",
   "metadata": {
    "ExecuteTime": {
     "end_time": "2022-06-13T13:20:00.481445Z",
     "start_time": "2022-06-13T13:20:00.459559Z"
    }
   },
   "outputs": [],
   "source": [
    "target = target.sort_values('gfid')"
   ]
  },
  {
   "cell_type": "code",
   "execution_count": 13,
   "id": "590994cd",
   "metadata": {
    "ExecuteTime": {
     "end_time": "2022-06-13T13:20:00.497596Z",
     "start_time": "2022-06-13T13:20:00.481808Z"
    }
   },
   "outputs": [],
   "source": [
    "X_train, X_test, y_train, y_test = train_test_split(dewas_prepared, target['wheat'], test_size=0.2, shuffle=True, stratify=target['wheat'])"
   ]
  },
  {
   "cell_type": "code",
   "execution_count": 14,
   "id": "3ea1d308",
   "metadata": {
    "ExecuteTime": {
     "end_time": "2022-06-13T13:20:00.506549Z",
     "start_time": "2022-06-13T13:20:00.498102Z"
    }
   },
   "outputs": [],
   "source": [
    "indices['Dewas']['train'] = X_train.index.values.tolist()\n",
    "indices['Dewas']['test'] = X_test.index.values.tolist()"
   ]
  },
  {
   "cell_type": "code",
   "execution_count": 15,
   "id": "e75e7cf0",
   "metadata": {
    "ExecuteTime": {
     "end_time": "2022-06-13T13:20:00.527837Z",
     "start_time": "2022-06-13T13:20:00.506549Z"
    }
   },
   "outputs": [],
   "source": [
    "model = CatBoostClassifier(iterations=100, depth=3, random_state=42, l2_leaf_reg=7)"
   ]
  },
  {
   "cell_type": "code",
   "execution_count": 16,
   "id": "fdddb1ef",
   "metadata": {
    "ExecuteTime": {
     "end_time": "2022-06-13T13:20:00.837836Z",
     "start_time": "2022-06-13T13:20:00.529624Z"
    }
   },
   "outputs": [
    {
     "data": {
      "text/plain": [
       "<catboost.core.CatBoostClassifier at 0x1fa9dbc2970>"
      ]
     },
     "execution_count": 16,
     "metadata": {},
     "output_type": "execute_result"
    }
   ],
   "source": [
    "model.fit(X_train, y_train, verbose=False)"
   ]
  },
  {
   "cell_type": "code",
   "execution_count": 17,
   "id": "b6e4971f",
   "metadata": {
    "ExecuteTime": {
     "end_time": "2022-06-13T13:20:00.861292Z",
     "start_time": "2022-06-13T13:20:00.839612Z"
    }
   },
   "outputs": [],
   "source": [
    "predict_train = model.predict(X_train)"
   ]
  },
  {
   "cell_type": "code",
   "execution_count": 18,
   "id": "2cb04d69",
   "metadata": {
    "ExecuteTime": {
     "end_time": "2022-06-13T13:20:00.876621Z",
     "start_time": "2022-06-13T13:20:00.864363Z"
    }
   },
   "outputs": [
    {
     "name": "stdout",
     "output_type": "stream",
     "text": [
      "              precision    recall  f1-score   support\n",
      "\n",
      "           0       0.65      0.62      0.64       174\n",
      "           1       0.62      0.65      0.63       165\n",
      "\n",
      "    accuracy                           0.63       339\n",
      "   macro avg       0.63      0.63      0.63       339\n",
      "weighted avg       0.63      0.63      0.63       339\n",
      "\n"
     ]
    }
   ],
   "source": [
    "print(classification_report(y_train, predict_train))"
   ]
  },
  {
   "cell_type": "code",
   "execution_count": 19,
   "id": "2e22a033",
   "metadata": {
    "ExecuteTime": {
     "end_time": "2022-06-13T13:20:00.891769Z",
     "start_time": "2022-06-13T13:20:00.878757Z"
    }
   },
   "outputs": [],
   "source": [
    "predict = model.predict(X_test)"
   ]
  },
  {
   "cell_type": "code",
   "execution_count": 20,
   "id": "19b45cde",
   "metadata": {
    "ExecuteTime": {
     "end_time": "2022-06-13T13:20:00.906298Z",
     "start_time": "2022-06-13T13:20:00.893879Z"
    }
   },
   "outputs": [
    {
     "name": "stdout",
     "output_type": "stream",
     "text": [
      "              precision    recall  f1-score   support\n",
      "\n",
      "           0       0.47      0.50      0.48        44\n",
      "           1       0.42      0.39      0.41        41\n",
      "\n",
      "    accuracy                           0.45        85\n",
      "   macro avg       0.44      0.45      0.44        85\n",
      "weighted avg       0.45      0.45      0.45        85\n",
      "\n"
     ]
    }
   ],
   "source": [
    "print(classification_report(y_test, predict))"
   ]
  },
  {
   "cell_type": "markdown",
   "id": "66298d8d",
   "metadata": {},
   "source": [
    "# Kaithal"
   ]
  },
  {
   "cell_type": "code",
   "execution_count": 21,
   "id": "9bababd2",
   "metadata": {
    "ExecuteTime": {
     "end_time": "2022-06-13T13:21:08.510089Z",
     "start_time": "2022-06-13T13:20:00.908131Z"
    }
   },
   "outputs": [],
   "source": [
    "kaithal_prepared = {}\n",
    "for gfid in set(data['Kaithal']['merged']['gfid']):\n",
    "    d = data['Kaithal']['merged'].loc[data['Kaithal']['merged']['gfid']==gfid, 'ndvi'].copy()\n",
    "    arima = ARIMA(d, order=(1, 1, 5)).fit()\n",
    "    kaithal_prepared[gfid] = arima.params.values"
   ]
  },
  {
   "cell_type": "code",
   "execution_count": 22,
   "id": "810309c9",
   "metadata": {
    "ExecuteTime": {
     "end_time": "2022-06-13T13:21:08.541525Z",
     "start_time": "2022-06-13T13:21:08.510089Z"
    }
   },
   "outputs": [],
   "source": [
    "kaithal_prepared = pd.DataFrame(kaithal_prepared).T\n",
    "kaithal_prepared = kaithal_prepared.sort_index()"
   ]
  },
  {
   "cell_type": "code",
   "execution_count": 23,
   "id": "3da8625f",
   "metadata": {
    "ExecuteTime": {
     "end_time": "2022-06-13T13:21:08.557187Z",
     "start_time": "2022-06-13T13:21:08.544556Z"
    }
   },
   "outputs": [],
   "source": [
    "target = data['Kaithal']['points'][['wheat', 'gfid']]"
   ]
  },
  {
   "cell_type": "code",
   "execution_count": 24,
   "id": "8b0fc4e7",
   "metadata": {
    "ExecuteTime": {
     "end_time": "2022-06-13T13:21:08.582137Z",
     "start_time": "2022-06-13T13:21:08.559287Z"
    }
   },
   "outputs": [],
   "source": [
    "target = target.sort_values('gfid')"
   ]
  },
  {
   "cell_type": "code",
   "execution_count": 25,
   "id": "af6ad3dc",
   "metadata": {
    "ExecuteTime": {
     "end_time": "2022-06-13T13:21:08.610117Z",
     "start_time": "2022-06-13T13:21:08.582638Z"
    }
   },
   "outputs": [],
   "source": [
    "X_train, X_test, y_train, y_test = train_test_split(kaithal_prepared, target['wheat'], test_size=0.2, shuffle=True, stratify=target['wheat'])"
   ]
  },
  {
   "cell_type": "code",
   "execution_count": 26,
   "id": "bbe5b770",
   "metadata": {
    "ExecuteTime": {
     "end_time": "2022-06-13T13:21:08.633546Z",
     "start_time": "2022-06-13T13:21:08.610697Z"
    }
   },
   "outputs": [],
   "source": [
    "indices['Kaithal']['train'] = X_train.index.values.tolist()\n",
    "indices['Kaithal']['test'] = X_test.index.values.tolist()"
   ]
  },
  {
   "cell_type": "code",
   "execution_count": 27,
   "id": "6db9f6b2",
   "metadata": {
    "ExecuteTime": {
     "end_time": "2022-06-13T13:21:08.650312Z",
     "start_time": "2022-06-13T13:21:08.634676Z"
    }
   },
   "outputs": [],
   "source": [
    "model = CatBoostClassifier(iterations=100, depth=3, random_state=42, l2_leaf_reg=7)"
   ]
  },
  {
   "cell_type": "code",
   "execution_count": 28,
   "id": "a5ce494b",
   "metadata": {
    "ExecuteTime": {
     "end_time": "2022-06-13T13:21:08.734479Z",
     "start_time": "2022-06-13T13:21:08.650312Z"
    }
   },
   "outputs": [
    {
     "data": {
      "text/plain": [
       "<catboost.core.CatBoostClassifier at 0x1fa96222b50>"
      ]
     },
     "execution_count": 28,
     "metadata": {},
     "output_type": "execute_result"
    }
   ],
   "source": [
    "model.fit(X_train, y_train, verbose=False)"
   ]
  },
  {
   "cell_type": "code",
   "execution_count": 29,
   "id": "4789b365",
   "metadata": {
    "ExecuteTime": {
     "end_time": "2022-06-13T13:21:08.749773Z",
     "start_time": "2022-06-13T13:21:08.734479Z"
    }
   },
   "outputs": [],
   "source": [
    "predict_train = model.predict(X_train)"
   ]
  },
  {
   "cell_type": "code",
   "execution_count": 30,
   "id": "47819f24",
   "metadata": {
    "ExecuteTime": {
     "end_time": "2022-06-13T13:21:08.765837Z",
     "start_time": "2022-06-13T13:21:08.752773Z"
    }
   },
   "outputs": [
    {
     "name": "stdout",
     "output_type": "stream",
     "text": [
      "              precision    recall  f1-score   support\n",
      "\n",
      "           0       0.71      0.50      0.59        70\n",
      "           1       0.66      0.83      0.74        83\n",
      "\n",
      "    accuracy                           0.68       153\n",
      "   macro avg       0.69      0.67      0.66       153\n",
      "weighted avg       0.69      0.68      0.67       153\n",
      "\n"
     ]
    }
   ],
   "source": [
    "print(classification_report(y_train, predict_train))"
   ]
  },
  {
   "cell_type": "code",
   "execution_count": 31,
   "id": "e2221c92",
   "metadata": {
    "ExecuteTime": {
     "end_time": "2022-06-13T13:21:08.794675Z",
     "start_time": "2022-06-13T13:21:08.767266Z"
    }
   },
   "outputs": [],
   "source": [
    "predict = model.predict(X_test)"
   ]
  },
  {
   "cell_type": "code",
   "execution_count": 32,
   "id": "91a7ee8f",
   "metadata": {
    "ExecuteTime": {
     "end_time": "2022-06-13T13:21:08.814517Z",
     "start_time": "2022-06-13T13:21:08.795172Z"
    }
   },
   "outputs": [
    {
     "name": "stdout",
     "output_type": "stream",
     "text": [
      "              precision    recall  f1-score   support\n",
      "\n",
      "           0       0.58      0.39      0.47        18\n",
      "           1       0.59      0.76      0.67        21\n",
      "\n",
      "    accuracy                           0.59        39\n",
      "   macro avg       0.59      0.58      0.57        39\n",
      "weighted avg       0.59      0.59      0.57        39\n",
      "\n"
     ]
    }
   ],
   "source": [
    "print(classification_report(y_test, predict))"
   ]
  },
  {
   "cell_type": "markdown",
   "id": "3c08d2c2",
   "metadata": {},
   "source": [
    "# Karnal"
   ]
  },
  {
   "cell_type": "code",
   "execution_count": null,
   "id": "88826a90",
   "metadata": {
    "ExecuteTime": {
     "start_time": "2022-06-13T13:15:54.489Z"
    }
   },
   "outputs": [],
   "source": [
    "karnal_prepared = {}\n",
    "for gfid in set(data['Karnal']['merged']['gfid']):\n",
    "    d = data['Karnal']['merged'].loc[data['Karnal']['merged']['gfid']==gfid, 'ndvi'].copy()\n",
    "    arima = ARIMA(d, order=(1, 0, 5)).fit()\n",
    "    karnal_prepared[gfid] = arima.params.values"
   ]
  },
  {
   "cell_type": "code",
   "execution_count": null,
   "id": "decaf7df",
   "metadata": {
    "ExecuteTime": {
     "start_time": "2022-06-13T13:15:54.490Z"
    }
   },
   "outputs": [],
   "source": [
    "karnal_prepared = pd.DataFrame(karnal_prepared).T\n",
    "karnal_prepared = karnal_prepared.sort_index()"
   ]
  },
  {
   "cell_type": "code",
   "execution_count": null,
   "id": "2db2efb9",
   "metadata": {
    "ExecuteTime": {
     "start_time": "2022-06-13T13:15:54.492Z"
    }
   },
   "outputs": [],
   "source": [
    "target = data['Karnal']['points'][['wheat', 'gfid']]"
   ]
  },
  {
   "cell_type": "code",
   "execution_count": null,
   "id": "1ddb9a3c",
   "metadata": {
    "ExecuteTime": {
     "start_time": "2022-06-13T13:15:54.493Z"
    }
   },
   "outputs": [],
   "source": [
    "target = target.sort_values('gfid')"
   ]
  },
  {
   "cell_type": "code",
   "execution_count": null,
   "id": "4bcbd6de",
   "metadata": {
    "ExecuteTime": {
     "start_time": "2022-06-13T13:15:54.494Z"
    }
   },
   "outputs": [],
   "source": [
    "X_train, X_test, y_train, y_test = train_test_split(karnal_prepared, target['wheat'], test_size=0.2, shuffle=True, stratify=target['wheat'])"
   ]
  },
  {
   "cell_type": "code",
   "execution_count": null,
   "id": "731d618d",
   "metadata": {
    "ExecuteTime": {
     "start_time": "2022-06-13T13:15:54.495Z"
    }
   },
   "outputs": [],
   "source": [
    "indices['Karnal']['train'] = X_train.index.values.tolist()\n",
    "indices['Karnal']['test'] = X_test.index.values.tolist()"
   ]
  },
  {
   "cell_type": "code",
   "execution_count": null,
   "id": "ae0c6692",
   "metadata": {
    "ExecuteTime": {
     "start_time": "2022-06-13T13:15:54.496Z"
    }
   },
   "outputs": [],
   "source": [
    "model = CatBoostClassifier(iterations=100, depth=3, random_state=42, l2_leaf_reg=7)"
   ]
  },
  {
   "cell_type": "code",
   "execution_count": null,
   "id": "dc646399",
   "metadata": {
    "ExecuteTime": {
     "start_time": "2022-06-13T13:15:54.498Z"
    }
   },
   "outputs": [],
   "source": [
    "model.fit(X_train, y_train, verbose=False)"
   ]
  },
  {
   "cell_type": "code",
   "execution_count": null,
   "id": "3a1fdc0c",
   "metadata": {
    "ExecuteTime": {
     "start_time": "2022-06-13T13:15:54.499Z"
    }
   },
   "outputs": [],
   "source": [
    "predict_train = model.predict(X_train)"
   ]
  },
  {
   "cell_type": "code",
   "execution_count": null,
   "id": "04ee3380",
   "metadata": {
    "ExecuteTime": {
     "start_time": "2022-06-13T13:15:54.501Z"
    }
   },
   "outputs": [],
   "source": [
    "print(classification_report(y_train, predict_train))"
   ]
  },
  {
   "cell_type": "code",
   "execution_count": null,
   "id": "a2256bb1",
   "metadata": {
    "ExecuteTime": {
     "start_time": "2022-06-13T13:15:54.502Z"
    }
   },
   "outputs": [],
   "source": [
    "predict = model.predict(X_test)"
   ]
  },
  {
   "cell_type": "code",
   "execution_count": null,
   "id": "10a48ecd",
   "metadata": {
    "ExecuteTime": {
     "start_time": "2022-06-13T13:15:54.503Z"
    }
   },
   "outputs": [],
   "source": [
    "print(classification_report(y_test, predict))"
   ]
  },
  {
   "cell_type": "code",
   "execution_count": null,
   "id": "b60b08f6",
   "metadata": {
    "ExecuteTime": {
     "start_time": "2022-06-13T13:15:54.505Z"
    }
   },
   "outputs": [],
   "source": [
    "with open('indices.json', 'w') as f:\n",
    "    json.dump(indices, f)"
   ]
  }
 ],
 "metadata": {
  "kernelspec": {
   "display_name": "Python (ds)",
   "language": "python",
   "name": "ds"
  },
  "language_info": {
   "codemirror_mode": {
    "name": "ipython",
    "version": 3
   },
   "file_extension": ".py",
   "mimetype": "text/x-python",
   "name": "python",
   "nbconvert_exporter": "python",
   "pygments_lexer": "ipython3",
   "version": "3.9.12"
  },
  "toc": {
   "base_numbering": 1,
   "nav_menu": {},
   "number_sections": true,
   "sideBar": true,
   "skip_h1_title": false,
   "title_cell": "Table of Contents",
   "title_sidebar": "Contents",
   "toc_cell": false,
   "toc_position": {},
   "toc_section_display": true,
   "toc_window_display": false
  }
 },
 "nbformat": 4,
 "nbformat_minor": 5
}
