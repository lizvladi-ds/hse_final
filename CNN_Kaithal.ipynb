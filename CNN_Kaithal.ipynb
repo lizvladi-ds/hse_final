{
 "cells": [
  {
   "cell_type": "code",
   "execution_count": 1,
   "id": "cf6f7080",
   "metadata": {
    "ExecuteTime": {
     "end_time": "2022-06-14T16:31:34.059246Z",
     "start_time": "2022-06-14T16:31:29.672053Z"
    }
   },
   "outputs": [],
   "source": [
    "import pandas as pd\n",
    "from sklearn.metrics import f1_score, precision_score, recall_score, classification_report\n",
    "from sklearn.model_selection import train_test_split\n",
    "from random import sample\n",
    "import os\n",
    "\n",
    "import torch #pytorch\n",
    "import torch.nn as nn\n",
    "from torch.autograd import Variable "
   ]
  },
  {
   "cell_type": "markdown",
   "id": "189d0680",
   "metadata": {},
   "source": [
    "сделать матрицу"
   ]
  },
  {
   "cell_type": "code",
   "execution_count": 2,
   "id": "e7aecc13",
   "metadata": {
    "ExecuteTime": {
     "end_time": "2022-06-14T16:31:34.090428Z",
     "start_time": "2022-06-14T16:31:34.062539Z"
    }
   },
   "outputs": [
    {
     "data": {
      "text/plain": [
       "['Dewas_NDVI.csv',\n",
       " 'Dewas_points.csv',\n",
       " 'Kaithal_NDVI.csv',\n",
       " 'Kaithal_points.csv',\n",
       " 'Karnal_NDVI.csv',\n",
       " 'Karnal_points.csv']"
      ]
     },
     "execution_count": 2,
     "metadata": {},
     "output_type": "execute_result"
    }
   ],
   "source": [
    "os.listdir('data')    "
   ]
  },
  {
   "cell_type": "code",
   "execution_count": 3,
   "id": "d86b8c49",
   "metadata": {
    "ExecuteTime": {
     "end_time": "2022-06-14T16:31:34.136166Z",
     "start_time": "2022-06-14T16:31:34.094964Z"
    }
   },
   "outputs": [],
   "source": [
    "data_points = pd.read_csv('data/Kaithal_points.csv')"
   ]
  },
  {
   "cell_type": "code",
   "execution_count": 4,
   "id": "afeb444e",
   "metadata": {
    "ExecuteTime": {
     "end_time": "2022-06-14T16:31:34.231245Z",
     "start_time": "2022-06-14T16:31:34.140930Z"
    }
   },
   "outputs": [],
   "source": [
    "data_ndvi = pd.read_csv('data/Kaithal_NDVI.csv')"
   ]
  },
  {
   "cell_type": "code",
   "execution_count": 5,
   "id": "a2c474ab",
   "metadata": {
    "ExecuteTime": {
     "end_time": "2022-06-14T16:31:34.325270Z",
     "start_time": "2022-06-14T16:31:34.234908Z"
    }
   },
   "outputs": [],
   "source": [
    "data = data_points.merge(data_ndvi, left_on='gfid', right_on='gfid')"
   ]
  },
  {
   "cell_type": "code",
   "execution_count": 6,
   "id": "86428c4d",
   "metadata": {
    "ExecuteTime": {
     "end_time": "2022-06-14T16:31:54.857870Z",
     "start_time": "2022-06-14T16:31:34.327944Z"
    }
   },
   "outputs": [],
   "source": [
    "data['month'] = data['date'].apply(pd.to_datetime).dt.month\n",
    "data['day'] = data['date'].apply(pd.to_datetime).dt.day"
   ]
  },
  {
   "cell_type": "code",
   "execution_count": 7,
   "id": "e758f1cb",
   "metadata": {
    "ExecuteTime": {
     "end_time": "2022-06-14T16:31:54.881222Z",
     "start_time": "2022-06-14T16:31:54.858429Z"
    }
   },
   "outputs": [
    {
     "data": {
      "text/html": [
       "<div>\n",
       "<style scoped>\n",
       "    .dataframe tbody tr th:only-of-type {\n",
       "        vertical-align: middle;\n",
       "    }\n",
       "\n",
       "    .dataframe tbody tr th {\n",
       "        vertical-align: top;\n",
       "    }\n",
       "\n",
       "    .dataframe thead th {\n",
       "        text-align: right;\n",
       "    }\n",
       "</style>\n",
       "<table border=\"1\" class=\"dataframe\">\n",
       "  <thead>\n",
       "    <tr style=\"text-align: right;\">\n",
       "      <th></th>\n",
       "      <th>gfid</th>\n",
       "      <th>datenum</th>\n",
       "      <th>date</th>\n",
       "      <th>ndvi</th>\n",
       "    </tr>\n",
       "  </thead>\n",
       "  <tbody>\n",
       "    <tr>\n",
       "      <th>0</th>\n",
       "      <td>52001</td>\n",
       "      <td>0</td>\n",
       "      <td>2020-10-20</td>\n",
       "      <td>0.238</td>\n",
       "    </tr>\n",
       "    <tr>\n",
       "      <th>1</th>\n",
       "      <td>52001</td>\n",
       "      <td>1</td>\n",
       "      <td>2020-10-21</td>\n",
       "      <td>0.235</td>\n",
       "    </tr>\n",
       "    <tr>\n",
       "      <th>2</th>\n",
       "      <td>52001</td>\n",
       "      <td>2</td>\n",
       "      <td>2020-10-22</td>\n",
       "      <td>0.233</td>\n",
       "    </tr>\n",
       "    <tr>\n",
       "      <th>3</th>\n",
       "      <td>52001</td>\n",
       "      <td>3</td>\n",
       "      <td>2020-10-23</td>\n",
       "      <td>0.231</td>\n",
       "    </tr>\n",
       "    <tr>\n",
       "      <th>4</th>\n",
       "      <td>52001</td>\n",
       "      <td>4</td>\n",
       "      <td>2020-10-24</td>\n",
       "      <td>0.228</td>\n",
       "    </tr>\n",
       "  </tbody>\n",
       "</table>\n",
       "</div>"
      ],
      "text/plain": [
       "    gfid  datenum        date   ndvi\n",
       "0  52001        0  2020-10-20  0.238\n",
       "1  52001        1  2020-10-21  0.235\n",
       "2  52001        2  2020-10-22  0.233\n",
       "3  52001        3  2020-10-23  0.231\n",
       "4  52001        4  2020-10-24  0.228"
      ]
     },
     "execution_count": 7,
     "metadata": {},
     "output_type": "execute_result"
    }
   ],
   "source": [
    "data_ndvi.head()"
   ]
  },
  {
   "cell_type": "code",
   "execution_count": 8,
   "id": "8e4f02bf",
   "metadata": {
    "ExecuteTime": {
     "end_time": "2022-06-14T16:31:55.091671Z",
     "start_time": "2022-06-14T16:31:54.881964Z"
    }
   },
   "outputs": [],
   "source": [
    "i = 1\n",
    "ids_not_full = []\n",
    "for id_ in data_points['gfid'].values:\n",
    "    shp = data_ndvi[data_ndvi['gfid'] == id_].shape[0]\n",
    "    if shp <= 160:\n",
    "        #print(id_, ' ', shp)\n",
    "        i += 1\n",
    "        ids_not_full += [id_]\n",
    "#print(i)"
   ]
  },
  {
   "cell_type": "code",
   "execution_count": 9,
   "id": "b36f497f",
   "metadata": {
    "ExecuteTime": {
     "end_time": "2022-06-14T16:31:55.169542Z",
     "start_time": "2022-06-14T16:31:55.096334Z"
    }
   },
   "outputs": [],
   "source": [
    "data2 = data[~data['gfid'].isin(ids_not_full)]"
   ]
  },
  {
   "cell_type": "code",
   "execution_count": 10,
   "id": "cc81dbb0",
   "metadata": {
    "ExecuteTime": {
     "end_time": "2022-06-14T16:31:55.194136Z",
     "start_time": "2022-06-14T16:31:55.172799Z"
    }
   },
   "outputs": [],
   "source": [
    "gfids = data2['gfid'].unique()"
   ]
  },
  {
   "cell_type": "code",
   "execution_count": 11,
   "id": "f32b0991",
   "metadata": {
    "ExecuteTime": {
     "end_time": "2022-06-14T16:31:55.217113Z",
     "start_time": "2022-06-14T16:31:55.197158Z"
    }
   },
   "outputs": [],
   "source": [
    "from numpy.random import choice"
   ]
  },
  {
   "cell_type": "code",
   "execution_count": 12,
   "id": "d47a4a50",
   "metadata": {
    "ExecuteTime": {
     "end_time": "2022-06-14T16:31:55.232330Z",
     "start_time": "2022-06-14T16:31:55.220116Z"
    }
   },
   "outputs": [],
   "source": [
    "import numpy as np"
   ]
  },
  {
   "cell_type": "code",
   "execution_count": 13,
   "id": "870f7e06",
   "metadata": {
    "ExecuteTime": {
     "end_time": "2022-06-14T16:31:55.250738Z",
     "start_time": "2022-06-14T16:31:55.235107Z"
    }
   },
   "outputs": [],
   "source": [
    "np.random.seed(42)"
   ]
  },
  {
   "cell_type": "code",
   "execution_count": 14,
   "id": "b2dc8785",
   "metadata": {
    "ExecuteTime": {
     "end_time": "2022-06-14T16:31:55.295362Z",
     "start_time": "2022-06-14T16:31:55.271204Z"
    }
   },
   "outputs": [],
   "source": [
    "np.random.shuffle(gfids)"
   ]
  },
  {
   "cell_type": "code",
   "execution_count": 15,
   "id": "32cb54de",
   "metadata": {
    "ExecuteTime": {
     "end_time": "2022-06-14T16:31:55.343902Z",
     "start_time": "2022-06-14T16:31:55.296517Z"
    }
   },
   "outputs": [],
   "source": [
    "train_ids = gfids[:150]\n",
    "test_ids = gfids[150:]"
   ]
  },
  {
   "cell_type": "code",
   "execution_count": 39,
   "id": "ef435cdc",
   "metadata": {
    "ExecuteTime": {
     "end_time": "2022-06-14T17:56:50.454637Z",
     "start_time": "2022-06-14T17:56:50.418761Z"
    }
   },
   "outputs": [],
   "source": [
    "import json\n",
    "indices = {'Kaithal_train_ids':train_ids.tolist(),\n",
    " 'Kaithal_test_ids':test_ids.tolist()}\n",
    "with open('Kaithal_indices.json', 'w') as f:\n",
    "    json.dump(indices, f)"
   ]
  },
  {
   "cell_type": "code",
   "execution_count": 16,
   "id": "8b0240ea",
   "metadata": {
    "ExecuteTime": {
     "end_time": "2022-06-14T16:31:55.386616Z",
     "start_time": "2022-06-14T16:31:55.345655Z"
    }
   },
   "outputs": [
    {
     "data": {
      "text/html": [
       "<div>\n",
       "<style scoped>\n",
       "    .dataframe tbody tr th:only-of-type {\n",
       "        vertical-align: middle;\n",
       "    }\n",
       "\n",
       "    .dataframe tbody tr th {\n",
       "        vertical-align: top;\n",
       "    }\n",
       "\n",
       "    .dataframe thead th {\n",
       "        text-align: right;\n",
       "    }\n",
       "</style>\n",
       "<table border=\"1\" class=\"dataframe\">\n",
       "  <thead>\n",
       "    <tr style=\"text-align: right;\">\n",
       "      <th></th>\n",
       "      <th>gfid</th>\n",
       "      <th>state</th>\n",
       "      <th>district</th>\n",
       "      <th>village</th>\n",
       "      <th>lon</th>\n",
       "      <th>lat</th>\n",
       "      <th>wheat</th>\n",
       "      <th>datenum</th>\n",
       "      <th>date</th>\n",
       "      <th>ndvi</th>\n",
       "      <th>month</th>\n",
       "      <th>day</th>\n",
       "    </tr>\n",
       "  </thead>\n",
       "  <tbody>\n",
       "    <tr>\n",
       "      <th>0</th>\n",
       "      <td>52001</td>\n",
       "      <td>Haryana</td>\n",
       "      <td>Kaithal</td>\n",
       "      <td>Sirghar</td>\n",
       "      <td>76.420677</td>\n",
       "      <td>29.782459</td>\n",
       "      <td>1</td>\n",
       "      <td>0</td>\n",
       "      <td>2020-10-20</td>\n",
       "      <td>0.238</td>\n",
       "      <td>10</td>\n",
       "      <td>20</td>\n",
       "    </tr>\n",
       "    <tr>\n",
       "      <th>1</th>\n",
       "      <td>52001</td>\n",
       "      <td>Haryana</td>\n",
       "      <td>Kaithal</td>\n",
       "      <td>Sirghar</td>\n",
       "      <td>76.420677</td>\n",
       "      <td>29.782459</td>\n",
       "      <td>1</td>\n",
       "      <td>1</td>\n",
       "      <td>2020-10-21</td>\n",
       "      <td>0.235</td>\n",
       "      <td>10</td>\n",
       "      <td>21</td>\n",
       "    </tr>\n",
       "    <tr>\n",
       "      <th>2</th>\n",
       "      <td>52001</td>\n",
       "      <td>Haryana</td>\n",
       "      <td>Kaithal</td>\n",
       "      <td>Sirghar</td>\n",
       "      <td>76.420677</td>\n",
       "      <td>29.782459</td>\n",
       "      <td>1</td>\n",
       "      <td>2</td>\n",
       "      <td>2020-10-22</td>\n",
       "      <td>0.233</td>\n",
       "      <td>10</td>\n",
       "      <td>22</td>\n",
       "    </tr>\n",
       "    <tr>\n",
       "      <th>3</th>\n",
       "      <td>52001</td>\n",
       "      <td>Haryana</td>\n",
       "      <td>Kaithal</td>\n",
       "      <td>Sirghar</td>\n",
       "      <td>76.420677</td>\n",
       "      <td>29.782459</td>\n",
       "      <td>1</td>\n",
       "      <td>3</td>\n",
       "      <td>2020-10-23</td>\n",
       "      <td>0.231</td>\n",
       "      <td>10</td>\n",
       "      <td>23</td>\n",
       "    </tr>\n",
       "    <tr>\n",
       "      <th>4</th>\n",
       "      <td>52001</td>\n",
       "      <td>Haryana</td>\n",
       "      <td>Kaithal</td>\n",
       "      <td>Sirghar</td>\n",
       "      <td>76.420677</td>\n",
       "      <td>29.782459</td>\n",
       "      <td>1</td>\n",
       "      <td>4</td>\n",
       "      <td>2020-10-24</td>\n",
       "      <td>0.228</td>\n",
       "      <td>10</td>\n",
       "      <td>24</td>\n",
       "    </tr>\n",
       "  </tbody>\n",
       "</table>\n",
       "</div>"
      ],
      "text/plain": [
       "    gfid     state  district  village        lon        lat  wheat  datenum  \\\n",
       "0  52001  Haryana   Kaithal   Sirghar  76.420677  29.782459      1        0   \n",
       "1  52001  Haryana   Kaithal   Sirghar  76.420677  29.782459      1        1   \n",
       "2  52001  Haryana   Kaithal   Sirghar  76.420677  29.782459      1        2   \n",
       "3  52001  Haryana   Kaithal   Sirghar  76.420677  29.782459      1        3   \n",
       "4  52001  Haryana   Kaithal   Sirghar  76.420677  29.782459      1        4   \n",
       "\n",
       "         date   ndvi  month  day  \n",
       "0  2020-10-20  0.238     10   20  \n",
       "1  2020-10-21  0.235     10   21  \n",
       "2  2020-10-22  0.233     10   22  \n",
       "3  2020-10-23  0.231     10   23  \n",
       "4  2020-10-24  0.228     10   24  "
      ]
     },
     "execution_count": 16,
     "metadata": {},
     "output_type": "execute_result"
    }
   ],
   "source": [
    "data2.head()"
   ]
  },
  {
   "cell_type": "code",
   "execution_count": 17,
   "id": "fc453285",
   "metadata": {
    "ExecuteTime": {
     "end_time": "2022-06-14T16:31:55.447458Z",
     "start_time": "2022-06-14T16:31:55.388803Z"
    }
   },
   "outputs": [],
   "source": [
    "data2 = data2.dropna()"
   ]
  },
  {
   "cell_type": "code",
   "execution_count": 18,
   "id": "695dc8d6",
   "metadata": {
    "ExecuteTime": {
     "end_time": "2022-06-14T16:31:55.499016Z",
     "start_time": "2022-06-14T16:31:55.450468Z"
    }
   },
   "outputs": [
    {
     "data": {
      "text/plain": [
       "(38417, 12)"
      ]
     },
     "execution_count": 18,
     "metadata": {},
     "output_type": "execute_result"
    }
   ],
   "source": [
    "data2.shape"
   ]
  },
  {
   "cell_type": "code",
   "execution_count": 19,
   "id": "00b3c94f",
   "metadata": {
    "ExecuteTime": {
     "end_time": "2022-06-14T16:31:55.523516Z",
     "start_time": "2022-06-14T16:31:55.501702Z"
    }
   },
   "outputs": [
    {
     "data": {
      "text/plain": [
       "(38417, 12)"
      ]
     },
     "execution_count": 19,
     "metadata": {},
     "output_type": "execute_result"
    }
   ],
   "source": [
    "data2.shape"
   ]
  },
  {
   "cell_type": "code",
   "execution_count": 21,
   "id": "dce70b13",
   "metadata": {
    "ExecuteTime": {
     "end_time": "2022-06-14T16:32:36.974306Z",
     "start_time": "2022-06-14T16:32:36.952989Z"
    }
   },
   "outputs": [],
   "source": [
    "for i in (3, 5, 7, 9):\n",
    "    data2[f'ndvi_{i}'] = data2['ndvi'].rolling(i).mean()"
   ]
  },
  {
   "cell_type": "code",
   "execution_count": 22,
   "id": "33f7bf95",
   "metadata": {
    "ExecuteTime": {
     "end_time": "2022-06-14T16:32:42.413356Z",
     "start_time": "2022-06-14T16:32:37.392724Z"
    }
   },
   "outputs": [],
   "source": [
    "datasets_train = []\n",
    "datasets_test = []\n",
    "y_train = []\n",
    "y_test = []\n",
    "for _ in gfids:\n",
    "    rolling_data = []\n",
    "    rolling_data.append(data2[data2['gfid']==_]['ndvi'].iloc[4:])\n",
    "    for i in range(2, 11):\n",
    "        rolling_data.append(data2[data2['gfid']==_]['ndvi'].rolling(i).mean())\n",
    "    data_1_rolling = pd.concat(rolling_data, axis=1)\n",
    "    data_1_rolling = data_1_rolling.dropna()\n",
    "    data_1_rolling.columns = ['ndvi'] + [f'ndvi_{i}' for i in range(2,11)]\n",
    "    if _ in train_ids:\n",
    "        datasets_train.append(data_1_rolling[:150].values.reshape(15,10,10))\n",
    "        y_train += [data_points.loc[data_points['gfid'] == _, 'wheat'].iloc[0]]\n",
    "    else:\n",
    "        datasets_test.append(data_1_rolling[:150].values.reshape(15,10,10))\n",
    "        y_test += [data_points.loc[data_points['gfid'] == _, 'wheat'].iloc[0]]"
   ]
  },
  {
   "cell_type": "code",
   "execution_count": 23,
   "id": "3465e581",
   "metadata": {
    "ExecuteTime": {
     "end_time": "2022-06-14T16:32:42.485496Z",
     "start_time": "2022-06-14T16:32:42.414915Z"
    }
   },
   "outputs": [],
   "source": [
    "data_train = torch.stack([torch.Tensor(dataset) for dataset in datasets_train])\n",
    "data_test = torch.stack([torch.Tensor(dataset) for dataset in datasets_test])"
   ]
  },
  {
   "cell_type": "code",
   "execution_count": 24,
   "id": "5182aa1d",
   "metadata": {
    "ExecuteTime": {
     "end_time": "2022-06-14T16:32:42.508375Z",
     "start_time": "2022-06-14T16:32:42.488609Z"
    }
   },
   "outputs": [],
   "source": [
    "def calc_out(h_in, w_in, ker, pad=0, stride=1):\n",
    "    h_out = (h_in + 2 * pad - (ker - 1) - 1) / (stride) + 1\n",
    "    w_out = (w_in + 2 * pad - (ker - 1) - 1) / (stride) + 1\n",
    "    return h_out, w_out"
   ]
  },
  {
   "cell_type": "code",
   "execution_count": 25,
   "id": "659549a8",
   "metadata": {
    "ExecuteTime": {
     "end_time": "2022-06-14T16:32:42.554440Z",
     "start_time": "2022-06-14T16:32:42.514385Z"
    }
   },
   "outputs": [],
   "source": [
    "class AlexNet(nn.Module):\n",
    "    def __init__(self, num_classes):\n",
    "        super().__init__()\n",
    "        self.num_classes = num_classes  #number of classes\n",
    "        \n",
    "        super().__init__()\n",
    "        self.net = nn.Sequential(\n",
    "            nn.Conv2d(in_channels=15, out_channels=30, kernel_size=2, stride=2, padding=1),  # (b x 30 x 6 x 6)\n",
    "            nn.ReLU(),\n",
    "            nn.Conv2d(30, 64, 2, padding=0, stride=1),  # (b x 64 x 5 x 5)\n",
    "            nn.ReLU(),\n",
    "            nn.MaxPool2d(kernel_size=2, stride=1, padding=0),  # (b x 64 x 4 x 4)\n",
    "        )\n",
    "        # classifier is just a name for linear layers\n",
    "        self.classifier = nn.Sequential(\n",
    "            nn.Dropout(p=0.1, inplace=True),\n",
    "            nn.Linear(in_features=(64 * 4 * 4), out_features=256),\n",
    "            nn.ReLU(),\n",
    "            #nn.Dropout(p=0.5, inplace=True),\n",
    "            #nn.Linear(in_features=256, out_features=256),\n",
    "            #nn.ReLU(),\n",
    "            nn.Linear(in_features=256, out_features=num_classes),\n",
    "            nn.Sigmoid()\n",
    "        )\n",
    "        #self.init_bias()\n",
    "\n",
    "    def init_bias(self):\n",
    "        for layer in self.net:\n",
    "            if isinstance(layer, nn.Conv2d):\n",
    "                nn.init.normal_(layer.weight, mean=0, std=0.01)\n",
    "                nn.init.constant_(layer.bias, 0)\n",
    "        # original paper = 1 for Conv2d layers 2nd, 4th, and 5th conv layers\n",
    "        nn.init.constant_(self.net[0].bias, 1)\n",
    "        nn.init.constant_(self.net[2].bias, 1)\n",
    "        #nn.init.constant_(self.net[4].bias, 1)\n",
    "\n",
    "    def forward(self, x):\n",
    "        \"\"\"\n",
    "        Pass the input through the net.\n",
    "        Args:\n",
    "            x (Tensor): input tensor\n",
    "        Returns:\n",
    "            output (Tensor): output tensor\n",
    "        \"\"\"\n",
    "        x = self.net(x)\n",
    "        x = x.view(-1, 64 * 4 * 4)  # reduce the dimensions for linear layer input\n",
    "        return self.classifier(x)"
   ]
  },
  {
   "cell_type": "code",
   "execution_count": 26,
   "id": "cc12c06a",
   "metadata": {
    "ExecuteTime": {
     "end_time": "2022-06-14T16:32:42.569974Z",
     "start_time": "2022-06-14T16:32:42.557232Z"
    }
   },
   "outputs": [],
   "source": [
    "alexnet = AlexNet(num_classes=2)"
   ]
  },
  {
   "cell_type": "code",
   "execution_count": 27,
   "id": "cd100dfc",
   "metadata": {
    "ExecuteTime": {
     "end_time": "2022-06-14T16:32:42.585112Z",
     "start_time": "2022-06-14T16:32:42.573522Z"
    }
   },
   "outputs": [],
   "source": [
    "criterion = torch.nn.CrossEntropyLoss() \n",
    "optimizer = torch.optim.Adam(params=alexnet.parameters(), lr=0.0001)#1, weight_decay=0.5)"
   ]
  },
  {
   "cell_type": "code",
   "execution_count": 28,
   "id": "a362f55e",
   "metadata": {
    "ExecuteTime": {
     "end_time": "2022-06-14T16:32:42.616414Z",
     "start_time": "2022-06-14T16:32:42.588122Z"
    }
   },
   "outputs": [
    {
     "data": {
      "text/plain": [
       "<torch.autograd.anomaly_mode.set_detect_anomaly at 0x1d1b63c4940>"
      ]
     },
     "execution_count": 28,
     "metadata": {},
     "output_type": "execute_result"
    }
   ],
   "source": [
    "torch.autograd.set_detect_anomaly(True)"
   ]
  },
  {
   "cell_type": "code",
   "execution_count": 29,
   "id": "8798c788",
   "metadata": {
    "ExecuteTime": {
     "end_time": "2022-06-14T16:32:42.631787Z",
     "start_time": "2022-06-14T16:32:42.619696Z"
    }
   },
   "outputs": [],
   "source": [
    "y_train_tensors = Variable(torch.Tensor(y_train))\n",
    "y_test_tensors = Variable(torch.Tensor(y_test))\n",
    "\n",
    "y_train_tensors = y_train_tensors.type(torch.LongTensor)\n",
    "y_test_tensors = y_test_tensors.type(torch.LongTensor)"
   ]
  },
  {
   "cell_type": "code",
   "execution_count": 30,
   "id": "adaf010e",
   "metadata": {
    "ExecuteTime": {
     "end_time": "2022-06-14T16:32:42.647830Z",
     "start_time": "2022-06-14T16:32:42.634486Z"
    }
   },
   "outputs": [],
   "source": [
    "X = data_train\n",
    "y = y_train_tensors"
   ]
  },
  {
   "cell_type": "code",
   "execution_count": 31,
   "id": "05f0d4e5",
   "metadata": {
    "ExecuteTime": {
     "end_time": "2022-06-14T16:35:01.488560Z",
     "start_time": "2022-06-14T16:32:42.654009Z"
    },
    "scrolled": true
   },
   "outputs": [
    {
     "name": "stdout",
     "output_type": "stream",
     "text": [
      "Epoch: 0, loss: 0.69343\n",
      "Epoch: 1, loss: 0.69391\n",
      "Epoch: 2, loss: 0.69149\n",
      "Epoch: 3, loss: 0.69404\n",
      "Epoch: 4, loss: 0.69536\n",
      "Epoch: 5, loss: 0.69577\n",
      "Epoch: 6, loss: 0.69751\n",
      "Epoch: 7, loss: 0.69302\n",
      "Epoch: 8, loss: 0.68663\n",
      "Epoch: 9, loss: 0.68652\n",
      "Epoch: 10, loss: 0.69114\n",
      "Epoch: 11, loss: 0.68500\n",
      "Epoch: 12, loss: 0.68643\n",
      "Epoch: 13, loss: 0.68827\n",
      "Epoch: 14, loss: 0.68137\n",
      "Epoch: 15, loss: 0.68617\n",
      "Epoch: 16, loss: 0.69530\n",
      "Epoch: 17, loss: 0.68360\n",
      "Epoch: 18, loss: 0.69152\n",
      "Epoch: 19, loss: 0.67578\n",
      "Epoch: 20, loss: 0.67082\n",
      "Epoch: 21, loss: 0.68276\n",
      "Epoch: 22, loss: 0.68323\n",
      "Epoch: 23, loss: 0.67781\n",
      "Epoch: 24, loss: 0.67063\n",
      "Epoch: 25, loss: 0.67377\n",
      "Epoch: 26, loss: 0.68225\n",
      "Epoch: 27, loss: 0.67679\n",
      "Epoch: 28, loss: 0.67655\n",
      "Epoch: 29, loss: 0.68824\n",
      "Epoch: 30, loss: 0.67299\n",
      "Epoch: 31, loss: 0.65655\n",
      "Epoch: 32, loss: 0.66256\n",
      "Epoch: 33, loss: 0.65610\n",
      "Epoch: 34, loss: 0.68420\n",
      "Epoch: 35, loss: 0.65398\n",
      "Epoch: 36, loss: 0.67358\n",
      "Epoch: 37, loss: 0.65537\n",
      "Epoch: 38, loss: 0.63511\n",
      "Epoch: 39, loss: 0.63447\n",
      "Epoch: 40, loss: 0.65556\n",
      "Epoch: 41, loss: 0.66189\n",
      "Epoch: 42, loss: 0.62449\n",
      "Epoch: 43, loss: 0.61471\n",
      "Epoch: 44, loss: 0.67369\n",
      "Epoch: 45, loss: 0.62633\n",
      "Epoch: 46, loss: 0.63028\n",
      "Epoch: 47, loss: 0.65427\n",
      "Epoch: 48, loss: 0.63146\n",
      "Epoch: 49, loss: 0.63934\n",
      "Epoch: 50, loss: 0.67823\n",
      "Epoch: 51, loss: 0.62980\n",
      "Epoch: 52, loss: 0.64159\n",
      "Epoch: 53, loss: 0.64071\n",
      "Epoch: 54, loss: 0.59900\n",
      "Epoch: 55, loss: 0.63590\n",
      "Epoch: 56, loss: 0.64583\n",
      "Epoch: 57, loss: 0.63266\n",
      "Epoch: 58, loss: 0.62992\n",
      "Epoch: 59, loss: 0.62139\n",
      "Epoch: 60, loss: 0.61691\n",
      "Epoch: 61, loss: 0.63064\n",
      "Epoch: 62, loss: 0.61085\n",
      "Epoch: 63, loss: 0.59903\n",
      "Epoch: 64, loss: 0.68718\n",
      "Epoch: 65, loss: 0.67715\n",
      "Epoch: 66, loss: 0.62721\n",
      "Epoch: 67, loss: 0.69364\n",
      "Epoch: 68, loss: 0.69357\n",
      "Epoch: 69, loss: 0.65388\n",
      "Epoch: 70, loss: 0.65189\n",
      "Epoch: 71, loss: 0.52870\n",
      "Epoch: 72, loss: 0.59804\n",
      "Epoch: 73, loss: 0.60506\n",
      "Epoch: 74, loss: 0.69461\n",
      "Epoch: 75, loss: 0.64157\n",
      "Epoch: 76, loss: 0.62996\n",
      "Epoch: 77, loss: 0.56865\n",
      "Epoch: 78, loss: 0.54764\n",
      "Epoch: 79, loss: 0.55797\n",
      "Epoch: 80, loss: 0.67438\n",
      "Epoch: 81, loss: 0.64051\n",
      "Epoch: 82, loss: 0.66583\n",
      "Epoch: 83, loss: 0.60491\n",
      "Epoch: 84, loss: 0.67009\n",
      "Epoch: 85, loss: 0.61419\n",
      "Epoch: 86, loss: 0.65619\n",
      "Epoch: 87, loss: 0.56340\n",
      "Epoch: 88, loss: 0.60157\n",
      "Epoch: 89, loss: 0.63844\n",
      "Epoch: 90, loss: 0.63614\n",
      "Epoch: 91, loss: 0.59878\n",
      "Epoch: 92, loss: 0.58037\n",
      "Epoch: 93, loss: 0.59878\n",
      "Epoch: 94, loss: 0.57072\n",
      "Epoch: 95, loss: 0.60887\n",
      "Epoch: 96, loss: 0.59040\n",
      "Epoch: 97, loss: 0.64482\n",
      "Epoch: 98, loss: 0.60174\n",
      "Epoch: 99, loss: 0.58584\n"
     ]
    }
   ],
   "source": [
    "n_epochs = 100  # or whatever\n",
    "batch_size = 30  # or whatever\n",
    "\n",
    "for epoch in range(n_epochs):\n",
    "\n",
    "    # X is a torch Variable\n",
    "    permutation = torch.randperm(X.size()[0])\n",
    "\n",
    "    for i in range(0, X.size()[0], batch_size):\n",
    "        optimizer.zero_grad()\n",
    "\n",
    "        indices = permutation[i:i + batch_size]\n",
    "        batch_x, batch_y = X[indices], y[indices]\n",
    "\n",
    "        outputs = alexnet.forward(batch_x) #forward pass\n",
    "        #optimizer.zero_grad() #caluclate the gradient, manually setting to 0\n",
    "\n",
    "        # obtain the loss function\n",
    "        loss = criterion(outputs, batch_y)\n",
    "        loss.backward() #calculates the loss of the loss function\n",
    "\n",
    "        optimizer.step() #improve from loss, i.e backprop\n",
    "    print(\"Epoch: %d, loss: %1.5f\" % (epoch, loss.item())) "
   ]
  },
  {
   "cell_type": "code",
   "execution_count": 32,
   "id": "68b3b17e",
   "metadata": {
    "ExecuteTime": {
     "end_time": "2022-06-14T16:35:01.503603Z",
     "start_time": "2022-06-14T16:35:01.492703Z"
    }
   },
   "outputs": [],
   "source": [
    "X_test_tensors = data_test"
   ]
  },
  {
   "cell_type": "code",
   "execution_count": 33,
   "id": "af81c214",
   "metadata": {
    "ExecuteTime": {
     "end_time": "2022-06-14T16:35:01.564564Z",
     "start_time": "2022-06-14T16:35:01.507332Z"
    }
   },
   "outputs": [],
   "source": [
    "test_predict = alexnet(X_test_tensors)#forward pass "
   ]
  },
  {
   "cell_type": "code",
   "execution_count": 34,
   "id": "9982e9e4",
   "metadata": {
    "ExecuteTime": {
     "end_time": "2022-06-14T16:35:01.595198Z",
     "start_time": "2022-06-14T16:35:01.568815Z"
    }
   },
   "outputs": [
    {
     "data": {
      "text/plain": [
       "tensor([[0.8086, 0.1918],\n",
       "        [0.2752, 0.6885],\n",
       "        [0.5602, 0.4339],\n",
       "        [0.2033, 0.7775],\n",
       "        [0.1178, 0.8666],\n",
       "        [0.3628, 0.6180],\n",
       "        [0.8010, 0.1971],\n",
       "        [0.2090, 0.7802],\n",
       "        [0.9333, 0.0699],\n",
       "        [0.7175, 0.2854],\n",
       "        [0.0970, 0.8874],\n",
       "        [0.2687, 0.7113],\n",
       "        [0.7674, 0.2406],\n",
       "        [0.1976, 0.7889],\n",
       "        [0.4129, 0.5608],\n",
       "        [0.9100, 0.0879],\n",
       "        [0.2405, 0.7482],\n",
       "        [0.9354, 0.0665],\n",
       "        [0.3131, 0.6735],\n",
       "        [0.7136, 0.2894],\n",
       "        [0.4766, 0.4993],\n",
       "        [0.4341, 0.5472],\n",
       "        [0.2099, 0.7765],\n",
       "        [0.1802, 0.7935],\n",
       "        [0.9449, 0.0558],\n",
       "        [0.9581, 0.0435],\n",
       "        [0.0762, 0.9138],\n",
       "        [0.4748, 0.5073],\n",
       "        [0.2847, 0.6940],\n",
       "        [0.8700, 0.1276],\n",
       "        [0.2538, 0.7219],\n",
       "        [0.1843, 0.8076],\n",
       "        [0.3149, 0.6816],\n",
       "        [0.1468, 0.8378],\n",
       "        [0.9344, 0.0672],\n",
       "        [0.7806, 0.2292],\n",
       "        [0.5857, 0.3903],\n",
       "        [0.9007, 0.1034],\n",
       "        [0.6691, 0.3298],\n",
       "        [0.1024, 0.8787],\n",
       "        [0.9478, 0.0560],\n",
       "        [0.3001, 0.6793]], grad_fn=<SigmoidBackward0>)"
      ]
     },
     "execution_count": 34,
     "metadata": {},
     "output_type": "execute_result"
    }
   ],
   "source": [
    "test_predict"
   ]
  },
  {
   "cell_type": "code",
   "execution_count": 35,
   "id": "5d464375",
   "metadata": {
    "ExecuteTime": {
     "end_time": "2022-06-14T16:35:01.610319Z",
     "start_time": "2022-06-14T16:35:01.599163Z"
    }
   },
   "outputs": [
    {
     "data": {
      "text/plain": [
       "tensor([0, 1, 0, 1, 1, 1, 0, 1, 0, 0, 1, 1, 0, 1, 1, 0, 1, 0, 1, 0, 1, 1, 1, 1,\n",
       "        0, 0, 1, 1, 1, 0, 1, 1, 1, 1, 0, 0, 0, 0, 0, 1, 0, 1])"
      ]
     },
     "execution_count": 35,
     "metadata": {},
     "output_type": "execute_result"
    }
   ],
   "source": [
    "test_predict.argmax(dim=1)"
   ]
  },
  {
   "cell_type": "code",
   "execution_count": 36,
   "id": "e891c9aa",
   "metadata": {
    "ExecuteTime": {
     "end_time": "2022-06-14T16:35:01.641892Z",
     "start_time": "2022-06-14T16:35:01.614561Z"
    }
   },
   "outputs": [
    {
     "name": "stdout",
     "output_type": "stream",
     "text": [
      "              precision    recall  f1-score   support\n",
      "\n",
      "           0       0.56      0.56      0.56        18\n",
      "           1       0.67      0.67      0.67        24\n",
      "\n",
      "    accuracy                           0.62        42\n",
      "   macro avg       0.61      0.61      0.61        42\n",
      "weighted avg       0.62      0.62      0.62        42\n",
      "\n"
     ]
    }
   ],
   "source": [
    "# 100 эпох, батч 30\n",
    "print(classification_report(y_test_tensors, torch.argmax(test_predict, dim=1)))"
   ]
  },
  {
   "cell_type": "code",
   "execution_count": 37,
   "id": "353d6379",
   "metadata": {
    "ExecuteTime": {
     "end_time": "2022-06-14T16:35:01.702662Z",
     "start_time": "2022-06-14T16:35:01.646680Z"
    }
   },
   "outputs": [],
   "source": [
    "train_predict = alexnet(X)#forward pass "
   ]
  },
  {
   "cell_type": "code",
   "execution_count": 38,
   "id": "aba447df",
   "metadata": {
    "ExecuteTime": {
     "end_time": "2022-06-14T16:35:01.733229Z",
     "start_time": "2022-06-14T16:35:01.708190Z"
    }
   },
   "outputs": [
    {
     "name": "stdout",
     "output_type": "stream",
     "text": [
      "              precision    recall  f1-score   support\n",
      "\n",
      "           0       0.75      0.56      0.64        70\n",
      "           1       0.68      0.84      0.75        80\n",
      "\n",
      "    accuracy                           0.71       150\n",
      "   macro avg       0.72      0.70      0.70       150\n",
      "weighted avg       0.71      0.71      0.70       150\n",
      "\n"
     ]
    }
   ],
   "source": [
    "# 100 эпох, батч 30\n",
    "print(classification_report(y_train_tensors, torch.argmax(train_predict, dim=1)))"
   ]
  }
 ],
 "metadata": {
  "kernelspec": {
   "display_name": "Python (ds)",
   "language": "python",
   "name": "ds"
  },
  "language_info": {
   "codemirror_mode": {
    "name": "ipython",
    "version": 3
   },
   "file_extension": ".py",
   "mimetype": "text/x-python",
   "name": "python",
   "nbconvert_exporter": "python",
   "pygments_lexer": "ipython3",
   "version": "3.9.12"
  },
  "toc": {
   "base_numbering": 1,
   "nav_menu": {},
   "number_sections": true,
   "sideBar": true,
   "skip_h1_title": false,
   "title_cell": "Table of Contents",
   "title_sidebar": "Contents",
   "toc_cell": false,
   "toc_position": {},
   "toc_section_display": true,
   "toc_window_display": false
  }
 },
 "nbformat": 4,
 "nbformat_minor": 5
}
